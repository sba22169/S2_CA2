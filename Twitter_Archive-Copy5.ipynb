{
 "cells": [
  {
   "cell_type": "markdown",
   "id": "a9116907",
   "metadata": {},
   "source": [
    "# Twitter did not come back on my Academic research application.\n",
    "# So I proceeded to work with the Archive analysis from\n",
    "# kaggle"
   ]
  },
  {
   "cell_type": "code",
   "execution_count": 92,
   "id": "34718791",
   "metadata": {},
   "outputs": [
    {
     "data": {
      "text/plain": [
       "'local[*]'"
      ]
     },
     "execution_count": 92,
     "metadata": {},
     "output_type": "execute_result"
    }
   ],
   "source": [
    "# sc master - running locally\n",
    "sc.master"
   ]
  },
  {
   "cell_type": "code",
   "execution_count": 93,
   "id": "07d79142",
   "metadata": {},
   "outputs": [],
   "source": [
    "import warnings\n",
    "warnings.filterwarnings(\"ignore\")"
   ]
  },
  {
   "cell_type": "code",
   "execution_count": 94,
   "id": "e2554fe7",
   "metadata": {},
   "outputs": [
    {
     "name": "stdout",
     "output_type": "stream",
     "text": [
      "Populating the interactive namespace from numpy and matplotlib\n"
     ]
    }
   ],
   "source": [
    "%pylab inline\n",
    "import os\n",
    "import pyspark\n",
    "\n",
    "# spark is from the previous example.\n",
    "sc = spark.sparkContext"
   ]
  },
  {
   "cell_type": "code",
   "execution_count": 95,
   "id": "6f897097",
   "metadata": {},
   "outputs": [],
   "source": [
    "from dotenv import dotenv_values\n",
    "import pandas as pd\n",
    "import numpy as np\n",
    "import matplotlib.pyplot as plt\n",
    "import seaborn as sns\n",
    "import requests\n",
    "import json\n",
    "import warnings\n",
    "import gzip\n",
    "import json\n",
    "import os\n",
    "plt.rcParams.update({'figure.figsize': (10, 7), 'figure.dpi': 120})\n",
    "%matplotlib inline"
   ]
  },
  {
   "cell_type": "code",
   "execution_count": null,
   "id": "4b0bef45",
   "metadata": {},
   "outputs": [],
   "source": [
    "# ittertools required for reading the gzip files but is depricated in pandas 2.0\n",
    "# pip install pandas==1.5.3\n"
   ]
  },
  {
   "cell_type": "code",
   "execution_count": 55,
   "id": "033e9e34",
   "metadata": {},
   "outputs": [
    {
     "name": "stdout",
     "output_type": "stream",
     "text": [
      "1.5.3\n"
     ]
    }
   ],
   "source": [
    "print(pd.__version__)"
   ]
  },
  {
   "cell_type": "code",
   "execution_count": 96,
   "id": "f7cad82d",
   "metadata": {
    "scrolled": true
   },
   "outputs": [
    {
     "name": "stderr",
     "output_type": "stream",
     "text": [
      "                                                                                \r"
     ]
    },
    {
     "name": "stdout",
     "output_type": "stream",
     "text": [
      "+--------------+-----+\n",
      "|date_extracted|tweet|\n",
      "+--------------+-----+\n",
      "+--------------+-----+\n",
      "\n"
     ]
    }
   ],
   "source": [
    "# Set up empty pyspark dataframe to store the imported tweets\n",
    "from pyspark.sql import SparkSession\n",
    "from pyspark.sql.types import StructType, StructField, StringType,TimestampType\n",
    "\n",
    "spark = SparkSession.builder.getOrCreate() #Start a spark session\n",
    "# Defining the schema of the pyspark dataframe\n",
    "schema = StructType([\n",
    "    StructField(\"date_extracted\", TimestampType(), True),\n",
    "    StructField(\"tweet\", StringType(), True)\n",
    "])\n",
    "stwit_df = spark.createDataFrame([], schema) # make empty dataframe\n",
    "# show the dataframe is as set out\n",
    "stwit_df.show()\n"
   ]
  },
  {
   "cell_type": "code",
   "execution_count": 46,
   "id": "c09870bc",
   "metadata": {},
   "outputs": [
    {
     "name": "stdout",
     "output_type": "stream",
     "text": [
      "Extracting file 0401_UkraineCombinedTweetsDeduped.csv.gzip \n",
      "Extracting file 0402_UkraineCombinedTweetsDeduped.csv.gzip \n",
      "Extracting file 0403_UkraineCombinedTweetsDeduped.csv.gzip \n",
      "Extracting file 0404_UkraineCombinedTweetsDeduped.csv.gzip \n",
      "Extracting file 0405_UkraineCombinedTweetsDeduped.csv.gzip \n",
      "Extracting file 0406_UkraineCombinedTweetsDeduped.csv.gzip \n",
      "Extracting file 0407_UkraineCombinedTweetsDeduped.csv.gzip \n",
      "Extracting file 0408_UkraineCombinedTweetsDeduped.csv.gzip \n",
      "Extracting file 0409_UkraineCombinedTweetsDeduped.csv.gzip \n",
      "Extracting file 0410_UkraineCombinedTweetsDeduped.csv.gzip \n",
      "Extracting file 0411_UkraineCombinedTweetsDeduped.csv.gzip \n",
      "Extracting file 0412_UkraineCombinedTweetsDeduped.csv.gzip \n",
      "Extracting file 0413_UkraineCombinedTweetsDeduped.csv.gzip \n",
      "Extracting file 0414_UkraineCombinedTweetsDeduped.csv.gzip \n",
      "Extracting file 0415_UkraineCombinedTweetsDeduped.csv.gzip \n",
      "Extracting file 0416_UkraineCombinedTweetsDeduped.csv.gzip \n",
      "Extracting file 0417_UkraineCombinedTweetsDeduped.csv.gzip \n",
      "Extracting file 0418_UkraineCombinedTweetsDeduped.csv.gzip \n",
      "Extracting file 0419_UkraineCombinedTweetsDeduped.csv.gzip \n",
      "Extracting file 0420_UkraineCombinedTweetsDeduped.csv.gzip \n",
      "Extracting file 0421_UkraineCombinedTweetsDeduped.csv.gzip \n",
      "Extracting file 0422_UkraineCombinedTweetsDeduped.csv.gzip \n",
      "Extracting file 0423_UkraineCombinedTweetsDeduped.csv.gzip \n",
      "Extracting file 0424_UkraineCombinedTweetsDeduped.csv.gzip \n",
      "Extracting file 0425_UkraineCombinedTweetsDeduped.csv.gzip \n",
      "Extracting file 0426_UkraineCombinedTweetsDeduped.csv.gzip \n",
      "Extracting file 0427_UkraineCombinedTweetsDeduped.csv.gzip \n",
      "Extracting file 0428_UkraineCombinedTweetsDeduped.csv.gzip \n",
      "Extracting file 0429_UkraineCombinedTweetsDeduped.csv.gzip \n",
      "Extracting file 0430_UkraineCombinedTweetsDeduped.csv.gzip \n",
      "Extracting file 0501_UkraineCombinedTweetsDeduped.csv.gzip \n",
      "Extracting file 0502_UkraineCombinedTweetsDeduped.csv.gzip \n",
      "Extracting file 0503_UkraineCombinedTweetsDeduped.csv.gzip \n",
      "Extracting file 0504_UkraineCombinedTweetsDeduped.csv.gzip \n",
      "Extracting file 0505_to_0507_UkraineCombinedTweetsDeduped.csv.gzip \n",
      "Extracting file 0508_UkraineCombinedTweetsDeduped.csv.gzip \n",
      "Extracting file 0509_UkraineCombinedTweetsDeduped.csv.gzip \n",
      "Extracting file 0510_UkraineCombinedTweetsDeduped.csv.gzip \n",
      "Extracting file 0511_UkraineCombinedTweetsDeduped.csv.gzip \n",
      "Extracting file 0512_UkraineCombinedTweetsDeduped.csv.gzip \n",
      "Extracting file 0513_UkraineCombinedTweetsDeduped.csv.gzip \n",
      "Extracting file 0514_UkraineCombinedTweetsDeduped.csv.gzip \n",
      "Extracting file 0515_UkraineCombinedTweetsDeduped.csv.gzip \n",
      "Extracting file 0516_UkraineCombinedTweetsDeduped.csv.gzip \n",
      "Extracting file 0517_UkraineCombinedTweetsDeduped.csv.gzip \n",
      "Extracting file 0518_UkraineCombinedTweetsDeduped.csv.gzip \n",
      "Extracting file 0519_UkraineCombinedTweetsDeduped.csv.gzip \n",
      "Extracting file 0520_UkraineCombinedTweetsDeduped.csv.gzip \n",
      "Extracting file 0521_UkraineCombinedTweetsDeduped.csv.gzip \n",
      "Extracting file 0522_UkraineCombinedTweetsDeduped.csv.gzip \n",
      "Extracting file 0523_UkraineCombinedTweetsDeduped.csv.gzip \n",
      "Extracting file 0524_UkraineCombinedTweetsDeduped.csv.gzip \n",
      "Extracting file 0525_UkraineCombinedTweetsDeduped.csv.gzip \n",
      "Extracting file 0526_UkraineCombinedTweetsDeduped.csv.gzip \n",
      "Extracting file 0527_UkraineCombinedTweetsDeduped.csv.gzip \n",
      "Extracting file 0528_UkraineCombinedTweetsDeduped.csv.gzip \n",
      "Extracting file 0529_UkraineCombinedTweetsDeduped.csv.gzip \n",
      "Extracting file 0530_UkraineCombinedTweetsDeduped.csv.gzip \n",
      "Extracting file 0531_UkraineCombinedTweetsDeduped.csv.gzip \n",
      "Extracting file 0601_UkraineCombinedTweetsDeduped.csv.gzip \n",
      "Extracting file 0602_UkraineCombinedTweetsDeduped.csv.gzip \n",
      "Extracting file 0603_UkraineCombinedTweetsDeduped.csv.gzip \n",
      "Extracting file 0604_UkraineCombinedTweetsDeduped.csv.gzip \n",
      "Extracting file 0605_UkraineCombinedTweetsDeduped.csv.gzip \n",
      "Extracting file 0606_to_08_UkraineCombinedTweetsDeduped.csv.gzip \n",
      "Extracting file 0609_UkraineCombinedTweetsDeduped.csv.gzip \n",
      "Extracting file 0610_UkraineCombinedTweetsDeduped.csv.gzip \n",
      "Extracting file 0611_UkraineCombinedTweetsDeduped.csv.gzip \n",
      "Extracting file 0612_UkraineCombinedTweetsDeduped.csv.gzip \n",
      "Extracting file 0613_UkraineCombinedTweetsDeduped.csv.gzip \n",
      "Extracting file 0614_UkraineCombinedTweetsDeduped.csv.gzip \n",
      "Extracting file 0615_UkraineCombinedTweetsDeduped.csv.gzip \n",
      "Extracting file 0616_UkraineCombinedTweetsDeduped.csv.gzip \n",
      "Extracting file 0617_UkraineCombinedTweetsDeduped.csv.gzip \n",
      "Extracting file 0618_UkraineCombinedTweetsDeduped.csv.gzip \n",
      "Extracting file 0619_UkraineCombinedTweetsDeduped.csv.gzip \n",
      "Extracting file 0620_UkraineCombinedTweetsDeduped.csv.gzip \n",
      "Extracting file 0621_UkraineCombinedTweetsDeduped.csv.gzip \n",
      "Extracting file 0622_UkraineCombinedTweetsDeduped.csv.gzip \n",
      "Extracting file 0623_UkraineCombinedTweetsDeduped.csv.gzip \n",
      "Extracting file 0624_UkraineCombinedTweetsDeduped.csv.gzip \n",
      "Extracting file 0625_UkraineCombinedTweetsDeduped.csv.gzip \n",
      "Extracting file 0626_UkraineCombinedTweetsDeduped.csv.gzip \n",
      "Extracting file 0627_UkraineCombinedTweetsDeduped.csv.gzip \n",
      "Extracting file 0628_UkraineCombinedTweetsDeduped.csv.gzip \n",
      "Extracting file 0629_UkraineCombinedTweetsDeduped.csv.gzip \n",
      "Extracting file 0630_UkraineCombinedTweetsDeduped.csv.gzip \n",
      "Extracting file 0701_UkraineCombinedTweetsDeduped.csv.gzip \n",
      "Extracting file 0702_UkraineCombinedTweetsDeduped.csv.gzip \n",
      "Extracting file 0703_UkraineCombinedTweetsDeduped.csv.gzip \n",
      "Extracting file 0704_UkraineCombinedTweetsDeduped.csv.gzip \n",
      "Extracting file 0705_UkraineCombinedTweetsDeduped.csv.gzip \n",
      "Extracting file 0706_UkraineCombinedTweetsDeduped.csv.gzip \n",
      "Extracting file 0707_UkraineCombinedTweetsDeduped.csv.gzip \n",
      "Extracting file 0708_UkraineCombinedTweetsDeduped.csv.gzip \n",
      "Extracting file 0709_UkraineCombinedTweetsDeduped.csv.gzip \n",
      "Extracting file 0710_UkraineCombinedTweetsDeduped.csv.gzip \n",
      "Extracting file 0711_UkraineCombinedTweetsDeduped.csv.gzip \n",
      "Extracting file 0712_UkraineCombinedTweetsDeduped.csv.gzip \n",
      "Extracting file 0713_UkraineCombinedTweetsDeduped.csv.gzip \n",
      "Extracting file 0714_UkraineCombinedTweetsDeduped.csv.gzip \n",
      "Extracting file 0715_UkraineCombinedTweetsDeduped.csv.gzip \n",
      "Extracting file 0716_UkraineCombinedTweetsDeduped.csv.gzip \n",
      "Extracting file 0717_UkraineCombinedTweetsDeduped.csv.gzip \n",
      "Extracting file 0718_UkraineCombinedTweetsDeduped.csv.gzip \n",
      "Extracting file 0719_UkraineCombinedTweetsDeduped.csv.gzip \n",
      "Extracting file 0720_UkraineCombinedTweetsDeduped.csv.gzip \n",
      "Extracting file 0721_UkraineCombinedTweetsDeduped.csv.gzip \n",
      "Extracting file 0722_UkraineCombinedTweetsDeduped.csv.gzip \n",
      "Extracting file 0723_UkraineCombinedTweetsDeduped.csv.gzip \n",
      "Extracting file 0724_UkraineCombinedTweetsDeduped.csv.gzip \n",
      "Extracting file 0725_UkraineCombinedTweetsDeduped.csv.gzip \n",
      "Extracting file 0726_UkraineCombinedTweetsDeduped.csv.gzip \n",
      "Extracting file 0727_UkraineCombinedTweetsDeduped.csv.gzip \n",
      "Extracting file 0728_UkraineCombinedTweetsDeduped.csv.gzip \n",
      "Extracting file 0729_UkraineCombinedTweetsDeduped.csv.gzip \n",
      "Extracting file 0730_UkraineCombinedTweetsDeduped.csv.gzip \n",
      "Extracting file 0731_UkraineCombinedTweetsDeduped.csv.gzip \n",
      "Extracting file 0801_UkraineCombinedTweetsDeduped.csv.gzip \n",
      "Extracting file 0802_UkraineCombinedTweetsDeduped.csv.gzip \n",
      "Extracting file 0803_UkraineCombinedTweetsDeduped.csv.gzip \n",
      "Extracting file 0804_UkraineCombinedTweetsDeduped.csv.gzip \n",
      "Extracting file 0805_UkraineCombinedTweetsDeduped.csv.gzip \n",
      "Extracting file 0806_UkraineCombinedTweetsDeduped.csv.gzip \n",
      "Extracting file 0807_UkraineCombinedTweetsDeduped.csv.gzip \n",
      "Extracting file 0808_UkraineCombinedTweetsDeduped.csv.gzip \n",
      "Extracting file 0809_UkraineCombinedTweetsDeduped.csv.gzip \n",
      "Extracting file 0810_UkraineCombinedTweetsDeduped.csv.gzip \n",
      "Extracting file 0811_UkraineCombinedTweetsDeduped.csv.gzip \n",
      "Extracting file 0812_UkraineCombinedTweetsDeduped.csv.gzip \n",
      "Extracting file 0813_UkraineCombinedTweetsDeduped.csv.gzip \n",
      "Extracting file 0814_UkraineCombinedTweetsDeduped.csv.gzip \n",
      "Extracting file 0815_UkraineCombinedTweetsDeduped.csv.gzip \n",
      "Extracting file 0816_UkraineCombinedTweetsDeduped.csv.gzip \n",
      "Extracting file 0817_UkraineCombinedTweetsDeduped.csv.gzip \n",
      "Extracting file 0818_UkraineCombinedTweetsDeduped.csv.gzip \n",
      "Extracting file UkraineCombinedTweetsDeduped20220227-131611.csv.gzip \n"
     ]
    },
    {
     "name": "stdout",
     "output_type": "stream",
     "text": [
      "Extracting file UkraineCombinedTweetsDeduped_FEB27.csv.gzip \n",
      "Extracting file UkraineCombinedTweetsDeduped_FEB28_part1.csv.gzip \n",
      "Extracting file UkraineCombinedTweetsDeduped_FEB28_part2.csv.gzip \n",
      "Extracting file UkraineCombinedTweetsDeduped_MAR01.csv.gzip \n",
      "Extracting file UkraineCombinedTweetsDeduped_MAR02.csv.gzip \n",
      "Extracting file UkraineCombinedTweetsDeduped_MAR03.csv.gzip \n",
      "Extracting file UkraineCombinedTweetsDeduped_MAR04.csv.gzip \n",
      "Extracting file UkraineCombinedTweetsDeduped_MAR05.csv.gzip \n",
      "Extracting file UkraineCombinedTweetsDeduped_MAR06.csv.gzip \n",
      "Extracting file UkraineCombinedTweetsDeduped_MAR07.csv.gzip \n",
      "Extracting file UkraineCombinedTweetsDeduped_MAR08.csv.gzip \n",
      "Extracting file UkraineCombinedTweetsDeduped_MAR09.csv.gzip \n",
      "Extracting file UkraineCombinedTweetsDeduped_MAR10.csv.gzip \n",
      "Extracting file UkraineCombinedTweetsDeduped_MAR11.csv.gzip \n",
      "Extracting file UkraineCombinedTweetsDeduped_MAR12.csv.gzip \n",
      "Extracting file UkraineCombinedTweetsDeduped_MAR13.csv.gzip \n",
      "Extracting file UkraineCombinedTweetsDeduped_MAR14.csv.gzip \n",
      "Extracting file UkraineCombinedTweetsDeduped_MAR15.csv.gzip \n",
      "Extracting file UkraineCombinedTweetsDeduped_MAR16.csv.gzip \n",
      "Extracting file UkraineCombinedTweetsDeduped_MAR17.csv.gzip \n",
      "Extracting file UkraineCombinedTweetsDeduped_MAR18.csv.gzip \n",
      "Extracting file UkraineCombinedTweetsDeduped_MAR19.csv.gzip \n",
      "Extracting file UkraineCombinedTweetsDeduped_MAR20.csv.gzip \n",
      "Extracting file UkraineCombinedTweetsDeduped_MAR21.csv.gzip \n",
      "Extracting file UkraineCombinedTweetsDeduped_MAR22.csv.gzip \n",
      "Extracting file UkraineCombinedTweetsDeduped_MAR23.csv.gzip \n",
      "Extracting file UkraineCombinedTweetsDeduped_MAR24.csv.gzip \n",
      "Extracting file UkraineCombinedTweetsDeduped_MAR25.csv.gzip \n",
      "Extracting file UkraineCombinedTweetsDeduped_MAR26.csv.gzip \n",
      "Extracting file UkraineCombinedTweetsDeduped_MAR27_to_28.csv.gzip \n",
      "Extracting file UkraineCombinedTweetsDeduped_MAR29.csv.gzip \n",
      "Extracting file UkraineCombinedTweetsDeduped_MAR30.csv.gzip \n",
      "Extracting file UkraineCombinedTweetsDeduped_MAR31.csv.gzip \n",
      "Extracting file 0819_UkraineCombinedTweetsDeduped.csv.gzip \n",
      "Extracting file 0820_UkraineCombinedTweetsDeduped.csv.gzip \n",
      "Extracting file 0821_UkraineCombinedTweetsDeduped.csv.gzip \n",
      "Extracting file 0822_UkraineCombinedTweetsDeduped.csv.gzip \n",
      "Extracting file 0823_UkraineCombinedTweetsDeduped.csv.gzip \n",
      "Extracting file 0824_UkraineCombinedTweetsDeduped.csv.gzip \n",
      "Extracting file 0825_UkraineCombinedTweetsDeduped.csv.gzip \n",
      "Extracting file 0826_UkraineCombinedTweetsDeduped.csv.gzip \n",
      "Extracting file 0827_UkraineCombinedTweetsDeduped.csv.gzip \n",
      "Extracting file 0828_UkraineCombinedTweetsDeduped.csv.gzip \n",
      "Extracting file 0829_UkraineCombinedTweetsDeduped.csv.gzip \n",
      "Extracting file 0830_UkraineCombinedTweetsDeduped.csv.gzip \n",
      "Extracting file 0831_UkraineCombinedTweetsDeduped.csv.gzip \n",
      "Extracting file 0901_UkraineCombinedTweetsDeduped.csv.gzip \n",
      "Extracting file 0902_UkraineCombinedTweetsDeduped.csv.gzip \n",
      "Extracting file 0903_UkraineCombinedTweetsDeduped.csv.gzip \n",
      "Extracting file 0904_UkraineCombinedTweetsDeduped.csv.gzip \n",
      "Extracting file 0905_UkraineCombinedTweetsDeduped.csv.gzip \n",
      "Extracting file 0906_UkraineCombinedTweetsDeduped.csv.gzip \n",
      "Extracting file 0907_UkraineCombinedTweetsDeduped.csv.gzip \n",
      "Extracting file 0908_UkraineCombinedTweetsDeduped.csv.gzip \n",
      "Extracting file 0909_UkraineCombinedTweetsDeduped.csv.gzip \n",
      "Extracting file 0910_UkraineCombinedTweetsDeduped.csv.gzip \n",
      "Extracting file 0911_UkraineCombinedTweetsDeduped.csv.gzip \n",
      "Extracting file 0912_UkraineCombinedTweetsDeduped.csv.gzip \n",
      "Extracting file 0913_UkraineCombinedTweetsDeduped.csv.gzip \n",
      "Extracting file 0914_UkraineCombinedTweetsDeduped.csv.gzip \n",
      "Extracting file 0915_UkraineCombinedTweetsDeduped.csv.gzip \n",
      "Extracting file 0916_UkraineCombinedTweetsDeduped.csv.gzip \n",
      "Extracting file 0917_UkraineCombinedTweetsDeduped.csv.gzip \n",
      "Extracting file 0918_UkraineCombinedTweetsDeduped.csv.gzip \n",
      "Extracting file 0919_UkraineCombinedTweetsDeduped.csv.gzip \n",
      "Extracting file 0920_UkraineCombinedTweetsDeduped.csv.gzip \n",
      "Extracting file 0921_UkraineCombinedTweetsDeduped.csv.gzip \n",
      "Extracting file 0922_UkraineCombinedTweetsDeduped.csv.gzip \n",
      "Extracting file 0923_UkraineCombinedTweetsDeduped.csv.gzip \n",
      "Extracting file 0924_UkraineCombinedTweetsDeduped.csv.gzip \n",
      "Extracting file 0925_UkraineCombinedTweetsDeduped.csv.gzip \n",
      "Extracting file 0926_UkraineCombinedTweetsDeduped.csv.gzip \n",
      "Extracting file 0927_UkraineCombinedTweetsDeduped.csv.gzip \n",
      "Extracting file 0928_UkraineCombinedTweetsDeduped.csv.gzip \n",
      "Extracting file 0929_UkraineCombinedTweetsDeduped.csv.gzip \n",
      "Extracting file 0930_UkraineCombinedTweetsDeduped.csv.gzip \n",
      "Extracting file 1001_UkraineCombinedTweetsDeduped.csv.gzip \n",
      "Extracting file 1002_UkraineCombinedTweetsDeduped.csv.gzip \n",
      "Extracting file 1003_UkraineCombinedTweetsDeduped.csv.gzip \n",
      "Extracting file 1004_UkraineCombinedTweetsDeduped.csv.gzip \n",
      "Extracting file 1005_UkraineCombinedTweetsDeduped.csv.gzip \n",
      "Extracting file 1006_UkraineCombinedTweetsDeduped.csv.gzip \n",
      "Extracting file 1007_UkraineCombinedTweetsDeduped.csv.gzip \n",
      "Extracting file 1008_UkraineCombinedTweetsDeduped.csv.gzip \n",
      "Extracting file 1009_UkraineCombinedTweetsDeduped.csv.gzip \n",
      "Extracting file 1010_UkraineCombinedTweetsDeduped.csv.gzip \n",
      "Extracting file 1011_UkraineCombinedTweetsDeduped.csv.gzip \n",
      "Extracting file 1012_UkraineCombinedTweetsDeduped.csv.gzip \n",
      "Extracting file 1013_UkraineCombinedTweetsDeduped.csv.gzip \n",
      "Extracting file 1014_UkraineCombinedTweetsDeduped.csv.gzip \n",
      "Extracting file 1015_UkraineCombinedTweetsDeduped.csv.gzip \n",
      "Extracting file 1016_UkraineCombinedTweetsDeduped.csv.gzip \n",
      "Extracting file 1017_UkraineCombinedTweetsDeduped.csv.gzip \n",
      "Extracting file 1018_UkraineCombinedTweetsDeduped.csv.gzip \n",
      "Extracting file 1019_UkraineCombinedTweetsDeduped.csv.gzip \n",
      "Extracting file 1020_UkraineCombinedTweetsDeduped.csv.gzip \n",
      "Extracting file 1021_UkraineCombinedTweetsDeduped.csv.gzip \n",
      "Extracting file 1022_UkraineCombinedTweetsDeduped.csv.gzip \n",
      "Extracting file 1023_UkraineCombinedTweetsDeduped.csv.gzip \n",
      "Extracting file 1024_UkraineCombinedTweetsDeduped.csv.gzip \n",
      "Extracting file 1025_UkraineCombinedTweetsDeduped.csv.gzip \n",
      "Extracting file 1026_UkraineCombinedTweetsDeduped.csv.gzip \n",
      "Extracting file 1027_UkraineCombinedTweetsDeduped.csv.gzip \n",
      "Extracting file 1028_UkraineCombinedTweetsDeduped.csv.gzip \n",
      "Extracting file 1029_UkraineCombinedTweetsDeduped.csv.gzip \n",
      "Extracting file 1030_UkraineCombinedTweetsDeduped.csv.gzip \n",
      "Extracting file 1031_UkraineCombinedTweetsDeduped.csv.gzip \n",
      "Extracting file 1101_UkraineCombinedTweetsDeduped.csv.gzip \n",
      "Extracting file 1102_UkraineCombinedTweetsDeduped.csv.gzip \n",
      "Extracting file 1103_UkraineCombinedTweetsDeduped.csv.gzip \n",
      "Extracting file 1104_UkraineCombinedTweetsDeduped.csv.gzip \n",
      "Extracting file 1105_UkraineCombinedTweetsDeduped.csv.gzip \n",
      "Extracting file 1106_UkraineCombinedTweetsDeduped.csv.gzip \n",
      "Extracting file 1107_UkraineCombinedTweetsDeduped.csv.gzip \n",
      "Extracting file 1108_UkraineCombinedTweetsDeduped.csv.gzip \n",
      "Extracting file 1109_UkraineCombinedTweetsDeduped.csv.gzip \n",
      "Extracting file 1110_UkraineCombinedTweetsDeduped.csv.gzip \n",
      "Extracting file 1111_UkraineCombinedTweetsDeduped.csv.gzip \n",
      "Extracting file 1112_UkraineCombinedTweetsDeduped.csv.gzip \n",
      "Extracting file 1113_UkraineCombinedTweetsDeduped.csv.gzip \n",
      "Extracting file 1114_UkraineCombinedTweetsDeduped.csv.gzip \n",
      "Extracting file 1115_UkraineCombinedTweetsDeduped.csv.gzip \n",
      "Extracting file 1116_UkraineCombinedTweetsDeduped.csv.gzip \n",
      "Extracting file 1117_UkraineCombinedTweetsDeduped.csv.gzip \n",
      "Extracting file 1118_UkraineCombinedTweetsDeduped.csv.gzip \n",
      "Extracting file 1119_UkraineCombinedTweetsDeduped.csv.gzip \n",
      "Extracting file 1120_UkraineCombinedTweetsDeduped.csv.gzip \n",
      "Extracting file 1121_UkraineCombinedTweetsDeduped.csv.gzip \n",
      "Extracting file 1122_UkraineCombinedTweetsDeduped.csv.gzip \n",
      "Extracting file 1123_UkraineCombinedTweetsDeduped.csv.gzip \n",
      "Extracting file 1124_UkraineCombinedTweetsDeduped.csv.gzip \n",
      "Extracting file 1125_UkraineCombinedTweetsDeduped.csv.gzip \n",
      "Extracting file 1126_UkraineCombinedTweetsDeduped.csv.gzip \n",
      "Extracting file 1127_UkraineCombinedTweetsDeduped.csv.gzip \n",
      "Extracting file 1128_UkraineCombinedTweetsDeduped.csv.gzip \n",
      "Extracting file 1129_UkraineCombinedTweetsDeduped.csv.gzip \n"
     ]
    },
    {
     "name": "stdout",
     "output_type": "stream",
     "text": [
      "Extracting file 1130_UkraineCombinedTweetsDeduped.csv.gzip \n",
      "Extracting file 1201_UkraineCombinedTweetsDeduped.csv.gzip \n",
      "Extracting file 1202_UkraineCombinedTweetsDeduped.csv.gzip \n",
      "Extracting file 1203_UkraineCombinedTweetsDeduped.csv.gzip \n",
      "Extracting file 1204_UkraineCombinedTweetsDeduped.csv.gzip \n",
      "Extracting file 1205_UkraineCombinedTweetsDeduped.csv.gzip \n",
      "Extracting file 1206_UkraineCombinedTweetsDeduped.csv.gzip \n",
      "Extracting file 1207_UkraineCombinedTweetsDeduped.csv.gzip \n",
      "Extracting file 1208_UkraineCombinedTweetsDeduped.csv.gzip \n",
      "Extracting file 1209_UkraineCombinedTweetsDeduped.csv.gzip \n",
      "Extracting file 1210_UkraineCombinedTweetsDeduped.csv.gzip \n",
      "Extracting file 1211_UkraineCombinedTweetsDeduped.csv.gzip \n",
      "Extracting file 1212_UkraineCombinedTweetsDeduped.csv.gzip \n",
      "Extracting file 1213_UkraineCombinedTweetsDeduped.csv.gzip \n",
      "Extracting file 1214_UkraineCombinedTweetsDeduped.csv.gzip \n",
      "Extracting file 1215_UkraineCombinedTweetsDeduped.csv.gzip \n",
      "Extracting file 1216_UkraineCombinedTweetsDeduped.csv.gzip \n",
      "Extracting file 1217_UkraineCombinedTweetsDeduped.csv.gzip \n",
      "Extracting file 1218_UkraineCombinedTweetsDeduped.csv.gzip \n",
      "Extracting file 1219_UkraineCombinedTweetsDeduped.csv.gzip \n",
      "Extracting file 1220_UkraineCombinedTweetsDeduped.csv.gzip \n",
      "Extracting file 1221_UkraineCombinedTweetsDeduped.csv.gzip \n",
      "Extracting file 1222_UkraineCombinedTweetsDeduped.csv.gzip \n",
      "Extracting file 1223_UkraineCombinedTweetsDeduped.csv.gzip \n",
      "Extracting file 1224_UkraineCombinedTweetsDeduped.csv.gzip \n",
      "Extracting file 1225_UkraineCombinedTweetsDeduped.csv.gzip \n",
      "Extracting file 1226_UkraineCombinedTweetsDeduped.csv.gzip \n",
      "Extracting file 1227_UkraineCombinedTweetsDeduped.csv.gzip \n",
      "Extracting file 1228_UkraineCombinedTweetsDeduped.csv.gzip \n",
      "Extracting file 1229_UkraineCombinedTweetsDeduped.csv.gzip \n",
      "Extracting file 1230_UkraineCombinedTweetsDeduped.csv.gzip \n",
      "Extracting file 1231_UkraineCombinedTweetsDeduped.csv.gzip \n",
      "Extracting file 20230101_UkraineCombinedTweetsDeduped.csv.gzip \n",
      "Extracting file 20230102_UkraineCombinedTweetsDeduped.csv.gzip \n",
      "Extracting file 20230103_UkraineCombinedTweetsDeduped.csv.gzip \n",
      "Extracting file 20230104_UkraineCombinedTweetsDeduped.csv.gzip \n",
      "Extracting file 20230105_UkraineCombinedTweetsDeduped.csv.gzip \n",
      "Extracting file 20230106_UkraineCombinedTweetsDeduped.csv.gzip \n",
      "Extracting file 20230107_UkraineCombinedTweetsDeduped.csv.gzip \n",
      "Extracting file 20230108_UkraineCombinedTweetsDeduped.csv.gzip \n",
      "Extracting file 20230109_UkraineCombinedTweetsDeduped.csv.gzip \n",
      "Extracting file 20230110_UkraineCombinedTweetsDeduped.csv.gzip \n",
      "Extracting file 20230111_UkraineCombinedTweetsDeduped.csv.gzip \n",
      "Extracting file 20230112_UkraineCombinedTweetsDeduped.csv.gzip \n",
      "Extracting file 20230113_UkraineCombinedTweetsDeduped.csv.gzip \n",
      "Extracting file 20230114_UkraineCombinedTweetsDeduped.csv.gzip \n",
      "Extracting file 20230115_UkraineCombinedTweetsDeduped.csv.gzip \n",
      "Extracting file 20230116_UkraineCombinedTweetsDeduped.csv.gzip \n",
      "Extracting file 20230117_UkraineCombinedTweetsDeduped.csv.gzip \n",
      "Extracting file 20230118_UkraineCombinedTweetsDeduped.csv.gzip \n",
      "Extracting file 20230119_UkraineCombinedTweetsDeduped.csv.gzip \n",
      "Extracting file 20230120_UkraineCombinedTweetsDeduped.csv.gzip \n",
      "Extracting file 20230121_UkraineCombinedTweetsDeduped.csv.gzip \n",
      "Extracting file 20230122_UkraineCombinedTweetsDeduped.csv.gzip \n",
      "Extracting file 20230123_UkraineCombinedTweetsDeduped.csv.gzip \n",
      "Extracting file 20230124_UkraineCombinedTweetsDeduped.csv.gzip \n",
      "Extracting file 20230125_UkraineCombinedTweetsDeduped.csv.gzip \n",
      "Extracting file 20230126_UkraineCombinedTweetsDeduped.csv.gzip \n",
      "Extracting file 20230127_UkraineCombinedTweetsDeduped.csv.gzip \n",
      "Extracting file 20230128_UkraineCombinedTweetsDeduped.csv.gzip \n",
      "Extracting file 20230129_UkraineCombinedTweetsDeduped.csv.gzip \n",
      "Extracting file 20230130_UkraineCombinedTweetsDeduped.csv.gzip \n",
      "Extracting file 20230131_UkraineCombinedTweetsDeduped.csv.gzip \n",
      "Extracting file 20230201_UkraineCombinedTweetsDeduped.csv.gzip \n",
      "Extracting file 20230202_UkraineCombinedTweetsDeduped.csv.gzip \n",
      "Extracting file 20230203_UkraineCombinedTweetsDeduped.csv.gzip \n",
      "Extracting file 20230204_UkraineCombinedTweetsDeduped.csv.gzip \n",
      "Extracting file 20230205_UkraineCombinedTweetsDeduped.csv.gzip \n",
      "Extracting file 20230206_UkraineCombinedTweetsDeduped.csv.gzip \n",
      "Extracting file 20230207_UkraineCombinedTweetsDeduped.csv.gzip \n",
      "Extracting file 20230208_UkraineCombinedTweetsDeduped.csv.gzip \n",
      "Extracting file 20230209_UkraineCombinedTweetsDeduped.csv.gzip \n",
      "Extracting file 20230210_UkraineCombinedTweetsDeduped.csv.gzip \n",
      "Extracting file 20230211_UkraineCombinedTweetsDeduped.csv.gzip \n",
      "Extracting file 20230212_UkraineCombinedTweetsDeduped.csv.gzip \n",
      "Extracting file 20230213_UkraineCombinedTweetsDeduped.csv.gzip \n",
      "Extracting file 20230214_UkraineCombinedTweetsDeduped.csv.gzip \n",
      "Extracting file 20230215_UkraineCombinedTweetsDeduped.csv.gzip \n",
      "Extracting file 20230216_UkraineCombinedTweetsDeduped.csv.gzip \n",
      "Extracting file 20230217_UkraineCombinedTweetsDeduped.csv.gzip \n",
      "Extracting file 20230218_UkraineCombinedTweetsDeduped.csv.gzip \n",
      "Extracting file 20230219_UkraineCombinedTweetsDeduped.csv.gzip \n",
      "Extracting file 20230220_UkraineCombinedTweetsDeduped.csv.gzip \n",
      "Extracting file 20230221_UkraineCombinedTweetsDeduped.csv.gzip \n",
      "Extracting file 20230222_UkraineCombinedTweetsDeduped.csv.gzip \n",
      "Extracting file 20230223_UkraineCombinedTweetsDeduped.csv.gzip \n",
      "Extracting file 20230224_UkraineCombinedTweetsDeduped.csv.gzip \n",
      "Extracting file 20230225_UkraineCombinedTweetsDeduped.csv.gzip \n",
      "Extracting file 20230226_UkraineCombinedTweetsDeduped.csv.gzip \n",
      "Extracting file 20230227_UkraineCombinedTweetsDeduped.csv.gzip \n",
      "Extracting file 20230228_UkraineCombinedTweetsDeduped.csv.gzip \n",
      "Extracting file 20230301_UkraineCombinedTweetsDeduped.csv.gzip \n",
      "Extracting file 20230302_UkraineCombinedTweetsDeduped.csv.gzip \n",
      "Extracting file 20230303_UkraineCombinedTweetsDeduped.csv.gzip \n",
      "Extracting file 20230304_UkraineCombinedTweetsDeduped.csv.gzip \n",
      "Extracting file 20230305_UkraineCombinedTweetsDeduped.csv.gzip \n",
      "Extracting file 20230306_UkraineCombinedTweetsDeduped.csv.gzip \n",
      "Extracting file 20230307_UkraineCombinedTweetsDeduped.csv.gzip \n",
      "Extracting file 20230308_UkraineCombinedTweetsDeduped.csv.gzip \n",
      "Extracting file 20230309_UkraineCombinedTweetsDeduped.csv.gzip \n",
      "Extracting file 20230310_UkraineCombinedTweetsDeduped.csv.gzip \n",
      "Extracting file 20230311_UkraineCombinedTweetsDeduped.csv.gzip \n",
      "Extracting file 20230312_UkraineCombinedTweetsDeduped.csv.gzip \n",
      "Extracting file 20230313_UkraineCombinedTweetsDeduped.csv.gzip \n",
      "Extracting file 20230314_UkraineCombinedTweetsDeduped.csv.gzip \n",
      "Extracting file 20230315_UkraineCombinedTweetsDeduped.csv.gzip \n",
      "Extracting file 20230316_UkraineCombinedTweetsDeduped.csv.gzip \n",
      "Extracting file 20230317_UkraineCombinedTweetsDeduped.csv.gzip \n",
      "Extracting file 20230318_UkraineCombinedTweetsDeduped.csv.gzip \n",
      "Extracting file 20230319_UkraineCombinedTweetsDeduped.csv.gzip \n",
      "Extracting file 20230320_UkraineCombinedTweetsDeduped.csv.gzip \n",
      "Extracting file 20230321_UkraineCombinedTweetsDeduped.csv.gzip \n",
      "Extracting file 20230322_UkraineCombinedTweetsDeduped.csv.gzip \n",
      "Extracting file 20230323_UkraineCombinedTweetsDeduped.csv.gzip \n",
      "Extracting file 20230324_UkraineCombinedTweetsDeduped.csv.gzip \n",
      "Extracting file 20230325_UkraineCombinedTweetsDeduped.csv.gzip \n",
      "Extracting file 20230326_UkraineCombinedTweetsDeduped.csv.gzip \n",
      "Extracting file 20230327_UkraineCombinedTweetsDeduped.csv.gzip \n",
      "Extracting file 20230328_UkraineCombinedTweetsDeduped.csv.gzip \n",
      "Extracting file 20230329_UkraineCombinedTweetsDeduped.csv.gzip \n",
      "Extracting file 20230330_UkraineCombinedTweetsDeduped.csv.gzip \n",
      "Extracting file 20230331_UkraineCombinedTweetsDeduped.csv.gzip \n",
      "Extracting file 20230401_UkraineCombinedTweetsDeduped.csv.gzip \n",
      "Extracting file 20230402_UkraineCombinedTweetsDeduped.csv.gzip \n",
      "Extracting file 20230403_UkraineCombinedTweetsDeduped.csv.gzip \n",
      "Extracting file 20230404_UkraineCombinedTweetsDeduped.csv.gzip \n",
      "Extracting file 20230405_UkraineCombinedTweetsDeduped.csv.gzip \n",
      "Extracting file 20230406_UkraineCombinedTweetsDeduped.csv.gzip \n",
      "Extracting file 20230407_UkraineCombinedTweetsDeduped.csv.gzip \n",
      "Extracting file 20230408_UkraineCombinedTweetsDeduped.csv.gzip \n",
      "Extracting file 20230409_UkraineCombinedTweetsDeduped.csv.gzip \n"
     ]
    },
    {
     "name": "stdout",
     "output_type": "stream",
     "text": [
      "Extracting file 20230410_UkraineCombinedTweetsDeduped.csv.gzip \n",
      "Extracting file 20230411_UkraineCombinedTweetsDeduped.csv.gzip \n",
      "Extracting file 20230412_UkraineCombinedTweetsDeduped.csv.gzip \n",
      "Extracting file 20230413_UkraineCombinedTweetsDeduped.csv.gzip \n",
      "Extracting file 20230414_UkraineCombinedTweetsDeduped.csv.gzip \n",
      "Extracting file 20230415_UkraineCombinedTweetsDeduped.csv.gzip \n",
      "Extracting file 20230416_UkraineCombinedTweetsDeduped.csv.gzip \n",
      "Extracting file 20230417_UkraineCombinedTweetsDeduped.csv.gzip \n",
      "Extracting file 20230418_UkraineCombinedTweetsDeduped.csv.gzip \n",
      "Extracting file 20230419_UkraineCombinedTweetsDeduped.csv.gzip \n",
      "Extracting file 20230420_UkraineCombinedTweetsDeduped.csv.gzip \n",
      "Extracting file 20230421_UkraineCombinedTweetsDeduped.csv.gzip \n",
      "Extracting file 20230422_UkraineCombinedTweetsDeduped.csv.gzip \n",
      "Extracting file 20230423_UkraineCombinedTweetsDeduped.csv.gzip \n",
      "Extracting file 20230424_UkraineCombinedTweetsDeduped.csv.gzip \n",
      "Extracting file 20230425_UkraineCombinedTweetsDeduped.csv.gzip \n",
      "Extracting file 20230426_UkraineCombinedTweetsDeduped.csv.gzip \n",
      "Extracting file 20230427_UkraineCombinedTweetsDeduped.csv.gzip \n",
      "Extracting file 20230428_UkraineCombinedTweetsDeduped.csv.gzip \n",
      "Extracting file 20230429_to_20230430_UkraineCombinedTweetsDeduped.csv.gzip \n",
      "Extracting file 20230501_to_20230502_UkraineCombinedTweetsDeduped.csv.gzip \n",
      "Extracting file 20230503_UkraineCombinedTweetsDeduped.csv.gzip \n",
      "Extracting file 20230504_UkraineCombinedTweetsDeduped.csv.gzip \n",
      "Extracting file 20230505_to_20230508_UkraineCombinedTweetsDeduped.csv.gzip \n",
      "Extracting file 20230509_UkraineCombinedTweetsDeduped.csv.gzip \n",
      "Extracting file 20230510_UkraineCombinedTweetsDeduped.csv.gzip \n",
      "Extracting file 20230511_to_20230512_UkraineCombinedTweetsDeduped.csv.gzip \n",
      "Extracting file 20230513_UkraineCombinedTweetsDeduped.csv.gzip \n",
      "Extracting file 20230514_UkraineCombinedTweetsDeduped.csv.gzip \n",
      "Extracting file 20230517_UkraineCombinedTweetsDeduped.csv.gzip \n"
     ]
    },
    {
     "name": "stderr",
     "output_type": "stream",
     "text": [
      "2023-05-23 19:12:32,217 WARN scheduler.DAGScheduler: Broadcasting large task binary with size 2.1 MiB\n",
      "2023-05-23 19:12:33,257 WARN scheduler.DAGScheduler: Broadcasting large task binary with size 2.1 MiB\n"
     ]
    },
    {
     "name": "stdout",
     "output_type": "stream",
     "text": [
      "+-------------------+--------------------+\n",
      "|     date_extracted|               tweet|\n",
      "+-------------------+--------------------+\n",
      "|2022-04-01 00:00:00|❗️🏫Every school ...|\n",
      "|2022-04-01 00:00:00|One year ago #Ukr...|\n",
      "|2022-04-01 00:00:00|JUST IN: #Anonymo...|\n",
      "|2022-04-01 00:00:00|Chernihiv oblast....|\n",
      "|2022-04-01 00:00:00|⚡The Ukrainian Ai...|\n",
      "|2022-04-01 00:00:00|Help to save Ukra...|\n",
      "|2022-04-01 00:00:00|Help to save Ukra...|\n",
      "|2022-04-01 00:00:00|✨ Angelina Jolie ...|\n",
      "|2022-04-01 00:00:00|This is not the t...|\n",
      "|2022-04-01 00:00:00|#notallrussians??...|\n",
      "|2022-04-01 00:00:00|⚡The Ukrainian Ai...|\n",
      "|2022-04-01 00:00:00|🇬🇧🇺🇦How is th...|\n",
      "|2022-04-01 00:00:00|Grandmother with ...|\n",
      "|2022-04-01 00:00:00|An activist with ...|\n",
      "|2022-04-01 00:00:00|⚡The Ukrainian Ai...|\n",
      "|2022-04-01 00:00:00|The first leader ...|\n",
      "|2022-04-01 00:00:00|The greatest army...|\n",
      "|2022-04-01 00:00:00|Ukrainian army so...|\n",
      "|2022-04-01 00:00:00|1/ Before tomorro...|\n",
      "|2022-04-01 00:00:00|#Latvia has banne...|\n",
      "+-------------------+--------------------+\n",
      "only showing top 20 rows\n",
      "\n"
     ]
    },
    {
     "name": "stderr",
     "output_type": "stream",
     "text": [
      "\r",
      "[Stage 11:==========================================================(4 + 0) / 4]\r",
      "\r",
      "                                                                                \r"
     ]
    }
   ],
   "source": [
    "# Function to extract tweets from gzip file , filter and store out to pyspark dataframe\n",
    "\n",
    "def extract_csv_from_directory(directory, stwit_df):\n",
    "    \"\"\"Function to unzip and extract all json all files in a given directory\"\"\"\n",
    "\n",
    "    for file_name in os.listdir(directory):\n",
    "        if file_name.endswith('.csv.gzip'):\n",
    "            print(f\"Extracting file {file_name} \")\n",
    "            file_path = os.path.join(directory, file_name)\n",
    "            with gzip.open(file_path, 'r') as file:\n",
    "                df = pd.read_csv(file) #read the file as a pandas dataframe\n",
    "                filter1 = (df['language'] == 'en') & (df['location'] == 'Ukraine') # a filter for english language and location Ukraine\n",
    "                df = df[filter1] # Selects dataframe based on the filter\n",
    "                df = df[['extractedts','text']] # outputs only the columns im looking for date and text\n",
    "                # convert datetime to date object to avoid 'NonExistantTimeError' due to daylight saving changes. \n",
    "                df['extractedts'] = pd.to_datetime(df['extractedts'], errors='ignore').dt.date\n",
    "                df['text'] = df['text'].astype(str) # convert string to string object\n",
    "                sdf = spark.createDataFrame(df) # convert pandas DF to PySpark DF\n",
    "                stwit_df = stwit_df.union(sdf) # append the result to my PySpark DF\n",
    "       \n",
    "\n",
    "    return stwit_df\n",
    "\n",
    "\n",
    "directory = \"/media/hduser/TOSHIBA_EXT/archive_copy\"\n",
    "cbdf = extract_csv_from_directory(directory,stwit_df)\n",
    "cbdf.show()\n"
   ]
  },
  {
   "cell_type": "code",
   "execution_count": 97,
   "id": "2237b8e8",
   "metadata": {},
   "outputs": [
    {
     "name": "stderr",
     "output_type": "stream",
     "text": [
      "[Stage 6:==========================================>                (5 + 2) / 7]\r"
     ]
    },
    {
     "name": "stdout",
     "output_type": "stream",
     "text": [
      "Count of rows:299821\n"
     ]
    },
    {
     "name": "stderr",
     "output_type": "stream",
     "text": [
      "\r",
      "                                                                                \r"
     ]
    }
   ],
   "source": [
    "print(f'Count of rows:{cbdf.count()}')"
   ]
  },
  {
   "cell_type": "code",
   "execution_count": 98,
   "id": "9401eb6e",
   "metadata": {},
   "outputs": [
    {
     "name": "stderr",
     "output_type": "stream",
     "text": [
      "[Stage 9:===============================================>       (172 + 2) / 200]\r"
     ]
    },
    {
     "name": "stdout",
     "output_type": "stream",
     "text": [
      "Count of distinct rows: 299821\n"
     ]
    },
    {
     "name": "stderr",
     "output_type": "stream",
     "text": [
      "\r",
      "                                                                                \r"
     ]
    }
   ],
   "source": [
    "print(f'Count of distinct rows: {cbdf.distinct().count()}')"
   ]
  },
  {
   "cell_type": "code",
   "execution_count": 50,
   "id": "47abdf02",
   "metadata": {},
   "outputs": [],
   "source": [
    "# There are 72676 duplicate row\n",
    "cbdf = cbdf.dropDuplicates()"
   ]
  },
  {
   "cell_type": "code",
   "execution_count": 52,
   "id": "940e6100",
   "metadata": {},
   "outputs": [
    {
     "ename": "AnalysisException",
     "evalue": "path hdfs://localhost:9000/user1/Ukraine_twitter.parquet already exists.",
     "output_type": "error",
     "traceback": [
      "\u001b[0;31m---------------------------------------------------------------------------\u001b[0m",
      "\u001b[0;31mAnalysisException\u001b[0m                         Traceback (most recent call last)",
      "\u001b[0;32m/tmp/ipykernel_5490/986672639.py\u001b[0m in \u001b[0;36m<module>\u001b[0;34m\u001b[0m\n\u001b[1;32m      1\u001b[0m \u001b[0;31m# save the file to Hadoop HDFS\u001b[0m\u001b[0;34m\u001b[0m\u001b[0;34m\u001b[0m\u001b[0m\n\u001b[0;32m----> 2\u001b[0;31m \u001b[0mcbdf\u001b[0m\u001b[0;34m.\u001b[0m\u001b[0mwrite\u001b[0m\u001b[0;34m.\u001b[0m\u001b[0mparquet\u001b[0m\u001b[0;34m(\u001b[0m\u001b[0;34m'hdfs://localhost:9000/user1/Ukraine_twitter.parquet'\u001b[0m\u001b[0;34m)\u001b[0m\u001b[0;34m\u001b[0m\u001b[0;34m\u001b[0m\u001b[0m\n\u001b[0m",
      "\u001b[0;32m/usr/local/spark/python/pyspark/sql/readwriter.py\u001b[0m in \u001b[0;36mparquet\u001b[0;34m(self, path, mode, partitionBy, compression)\u001b[0m\n\u001b[1;32m   1248\u001b[0m             \u001b[0mself\u001b[0m\u001b[0;34m.\u001b[0m\u001b[0mpartitionBy\u001b[0m\u001b[0;34m(\u001b[0m\u001b[0mpartitionBy\u001b[0m\u001b[0;34m)\u001b[0m\u001b[0;34m\u001b[0m\u001b[0;34m\u001b[0m\u001b[0m\n\u001b[1;32m   1249\u001b[0m         \u001b[0mself\u001b[0m\u001b[0;34m.\u001b[0m\u001b[0m_set_opts\u001b[0m\u001b[0;34m(\u001b[0m\u001b[0mcompression\u001b[0m\u001b[0;34m=\u001b[0m\u001b[0mcompression\u001b[0m\u001b[0;34m)\u001b[0m\u001b[0;34m\u001b[0m\u001b[0;34m\u001b[0m\u001b[0m\n\u001b[0;32m-> 1250\u001b[0;31m         \u001b[0mself\u001b[0m\u001b[0;34m.\u001b[0m\u001b[0m_jwrite\u001b[0m\u001b[0;34m.\u001b[0m\u001b[0mparquet\u001b[0m\u001b[0;34m(\u001b[0m\u001b[0mpath\u001b[0m\u001b[0;34m)\u001b[0m\u001b[0;34m\u001b[0m\u001b[0;34m\u001b[0m\u001b[0m\n\u001b[0m\u001b[1;32m   1251\u001b[0m \u001b[0;34m\u001b[0m\u001b[0m\n\u001b[1;32m   1252\u001b[0m     \u001b[0;32mdef\u001b[0m \u001b[0mtext\u001b[0m\u001b[0;34m(\u001b[0m\u001b[0mself\u001b[0m\u001b[0;34m,\u001b[0m \u001b[0mpath\u001b[0m\u001b[0;34m,\u001b[0m \u001b[0mcompression\u001b[0m\u001b[0;34m=\u001b[0m\u001b[0;32mNone\u001b[0m\u001b[0;34m,\u001b[0m \u001b[0mlineSep\u001b[0m\u001b[0;34m=\u001b[0m\u001b[0;32mNone\u001b[0m\u001b[0;34m)\u001b[0m\u001b[0;34m:\u001b[0m\u001b[0;34m\u001b[0m\u001b[0;34m\u001b[0m\u001b[0m\n",
      "\u001b[0;32m/usr/local/spark/python/lib/py4j-0.10.9-src.zip/py4j/java_gateway.py\u001b[0m in \u001b[0;36m__call__\u001b[0;34m(self, *args)\u001b[0m\n\u001b[1;32m   1302\u001b[0m \u001b[0;34m\u001b[0m\u001b[0m\n\u001b[1;32m   1303\u001b[0m         \u001b[0manswer\u001b[0m \u001b[0;34m=\u001b[0m \u001b[0mself\u001b[0m\u001b[0;34m.\u001b[0m\u001b[0mgateway_client\u001b[0m\u001b[0;34m.\u001b[0m\u001b[0msend_command\u001b[0m\u001b[0;34m(\u001b[0m\u001b[0mcommand\u001b[0m\u001b[0;34m)\u001b[0m\u001b[0;34m\u001b[0m\u001b[0;34m\u001b[0m\u001b[0m\n\u001b[0;32m-> 1304\u001b[0;31m         return_value = get_return_value(\n\u001b[0m\u001b[1;32m   1305\u001b[0m             answer, self.gateway_client, self.target_id, self.name)\n\u001b[1;32m   1306\u001b[0m \u001b[0;34m\u001b[0m\u001b[0m\n",
      "\u001b[0;32m/usr/local/spark/python/pyspark/sql/utils.py\u001b[0m in \u001b[0;36mdeco\u001b[0;34m(*a, **kw)\u001b[0m\n\u001b[1;32m    115\u001b[0m                 \u001b[0;31m# Hide where the exception came from that shows a non-Pythonic\u001b[0m\u001b[0;34m\u001b[0m\u001b[0;34m\u001b[0m\u001b[0m\n\u001b[1;32m    116\u001b[0m                 \u001b[0;31m# JVM exception message.\u001b[0m\u001b[0;34m\u001b[0m\u001b[0;34m\u001b[0m\u001b[0m\n\u001b[0;32m--> 117\u001b[0;31m                 \u001b[0;32mraise\u001b[0m \u001b[0mconverted\u001b[0m \u001b[0;32mfrom\u001b[0m \u001b[0;32mNone\u001b[0m\u001b[0;34m\u001b[0m\u001b[0;34m\u001b[0m\u001b[0m\n\u001b[0m\u001b[1;32m    118\u001b[0m             \u001b[0;32melse\u001b[0m\u001b[0;34m:\u001b[0m\u001b[0;34m\u001b[0m\u001b[0;34m\u001b[0m\u001b[0m\n\u001b[1;32m    119\u001b[0m                 \u001b[0;32mraise\u001b[0m\u001b[0;34m\u001b[0m\u001b[0;34m\u001b[0m\u001b[0m\n",
      "\u001b[0;31mAnalysisException\u001b[0m: path hdfs://localhost:9000/user1/Ukraine_twitter.parquet already exists."
     ]
    }
   ],
   "source": [
    "# save the file to Hadoop HDFS\n",
    "cbdf.write.parquet('hdfs://localhost:9000/user1/Ukraine_twitter.parquet')"
   ]
  },
  {
   "cell_type": "code",
   "execution_count": 99,
   "id": "b73fa0e4",
   "metadata": {},
   "outputs": [
    {
     "ename": "AnalysisException",
     "evalue": "path hdfs://localhost:9000/user1/Ukraine_twitter.csv already exists.",
     "output_type": "error",
     "traceback": [
      "\u001b[0;31m---------------------------------------------------------------------------\u001b[0m",
      "\u001b[0;31mAnalysisException\u001b[0m                         Traceback (most recent call last)",
      "\u001b[0;32m/tmp/ipykernel_25115/395319579.py\u001b[0m in \u001b[0;36m<module>\u001b[0;34m\u001b[0m\n\u001b[0;32m----> 1\u001b[0;31m \u001b[0mcbdf\u001b[0m\u001b[0;34m.\u001b[0m\u001b[0mwrite\u001b[0m\u001b[0;34m.\u001b[0m\u001b[0mcsv\u001b[0m\u001b[0;34m(\u001b[0m\u001b[0;34m'hdfs://localhost:9000/user1/Ukraine_twitter.csv'\u001b[0m\u001b[0;34m)\u001b[0m\u001b[0;34m\u001b[0m\u001b[0;34m\u001b[0m\u001b[0m\n\u001b[0m",
      "\u001b[0;32m/usr/local/spark/python/pyspark/sql/readwriter.py\u001b[0m in \u001b[0;36mcsv\u001b[0;34m(self, path, mode, compression, sep, quote, escape, header, nullValue, escapeQuotes, quoteAll, dateFormat, timestampFormat, ignoreLeadingWhiteSpace, ignoreTrailingWhiteSpace, charToEscapeQuoteEscaping, encoding, emptyValue, lineSep)\u001b[0m\n\u001b[1;32m   1370\u001b[0m                        \u001b[0mcharToEscapeQuoteEscaping\u001b[0m\u001b[0;34m=\u001b[0m\u001b[0mcharToEscapeQuoteEscaping\u001b[0m\u001b[0;34m,\u001b[0m\u001b[0;34m\u001b[0m\u001b[0;34m\u001b[0m\u001b[0m\n\u001b[1;32m   1371\u001b[0m                        encoding=encoding, emptyValue=emptyValue, lineSep=lineSep)\n\u001b[0;32m-> 1372\u001b[0;31m         \u001b[0mself\u001b[0m\u001b[0;34m.\u001b[0m\u001b[0m_jwrite\u001b[0m\u001b[0;34m.\u001b[0m\u001b[0mcsv\u001b[0m\u001b[0;34m(\u001b[0m\u001b[0mpath\u001b[0m\u001b[0;34m)\u001b[0m\u001b[0;34m\u001b[0m\u001b[0;34m\u001b[0m\u001b[0m\n\u001b[0m\u001b[1;32m   1373\u001b[0m \u001b[0;34m\u001b[0m\u001b[0m\n\u001b[1;32m   1374\u001b[0m     \u001b[0;32mdef\u001b[0m \u001b[0morc\u001b[0m\u001b[0;34m(\u001b[0m\u001b[0mself\u001b[0m\u001b[0;34m,\u001b[0m \u001b[0mpath\u001b[0m\u001b[0;34m,\u001b[0m \u001b[0mmode\u001b[0m\u001b[0;34m=\u001b[0m\u001b[0;32mNone\u001b[0m\u001b[0;34m,\u001b[0m \u001b[0mpartitionBy\u001b[0m\u001b[0;34m=\u001b[0m\u001b[0;32mNone\u001b[0m\u001b[0;34m,\u001b[0m \u001b[0mcompression\u001b[0m\u001b[0;34m=\u001b[0m\u001b[0;32mNone\u001b[0m\u001b[0;34m)\u001b[0m\u001b[0;34m:\u001b[0m\u001b[0;34m\u001b[0m\u001b[0;34m\u001b[0m\u001b[0m\n",
      "\u001b[0;32m/usr/local/spark/python/lib/py4j-0.10.9-src.zip/py4j/java_gateway.py\u001b[0m in \u001b[0;36m__call__\u001b[0;34m(self, *args)\u001b[0m\n\u001b[1;32m   1302\u001b[0m \u001b[0;34m\u001b[0m\u001b[0m\n\u001b[1;32m   1303\u001b[0m         \u001b[0manswer\u001b[0m \u001b[0;34m=\u001b[0m \u001b[0mself\u001b[0m\u001b[0;34m.\u001b[0m\u001b[0mgateway_client\u001b[0m\u001b[0;34m.\u001b[0m\u001b[0msend_command\u001b[0m\u001b[0;34m(\u001b[0m\u001b[0mcommand\u001b[0m\u001b[0;34m)\u001b[0m\u001b[0;34m\u001b[0m\u001b[0;34m\u001b[0m\u001b[0m\n\u001b[0;32m-> 1304\u001b[0;31m         return_value = get_return_value(\n\u001b[0m\u001b[1;32m   1305\u001b[0m             answer, self.gateway_client, self.target_id, self.name)\n\u001b[1;32m   1306\u001b[0m \u001b[0;34m\u001b[0m\u001b[0m\n",
      "\u001b[0;32m/usr/local/spark/python/pyspark/sql/utils.py\u001b[0m in \u001b[0;36mdeco\u001b[0;34m(*a, **kw)\u001b[0m\n\u001b[1;32m    115\u001b[0m                 \u001b[0;31m# Hide where the exception came from that shows a non-Pythonic\u001b[0m\u001b[0;34m\u001b[0m\u001b[0;34m\u001b[0m\u001b[0m\n\u001b[1;32m    116\u001b[0m                 \u001b[0;31m# JVM exception message.\u001b[0m\u001b[0;34m\u001b[0m\u001b[0;34m\u001b[0m\u001b[0m\n\u001b[0;32m--> 117\u001b[0;31m                 \u001b[0;32mraise\u001b[0m \u001b[0mconverted\u001b[0m \u001b[0;32mfrom\u001b[0m \u001b[0;32mNone\u001b[0m\u001b[0;34m\u001b[0m\u001b[0;34m\u001b[0m\u001b[0m\n\u001b[0m\u001b[1;32m    118\u001b[0m             \u001b[0;32melse\u001b[0m\u001b[0;34m:\u001b[0m\u001b[0;34m\u001b[0m\u001b[0;34m\u001b[0m\u001b[0m\n\u001b[1;32m    119\u001b[0m                 \u001b[0;32mraise\u001b[0m\u001b[0;34m\u001b[0m\u001b[0;34m\u001b[0m\u001b[0m\n",
      "\u001b[0;31mAnalysisException\u001b[0m: path hdfs://localhost:9000/user1/Ukraine_twitter.csv already exists."
     ]
    }
   ],
   "source": [
    "cbdf.write.csv('hdfs://localhost:9000/user1/Ukraine_twitter.csv')"
   ]
  },
  {
   "cell_type": "code",
   "execution_count": 40,
   "id": "47c47786",
   "metadata": {},
   "outputs": [
    {
     "name": "stdout",
     "output_type": "stream",
     "text": [
      "Number of rows with missing values : 0.0\n"
     ]
    }
   ],
   "source": [
    "print(f'Number of rows with missing values : {df.isnull().any(axis=1).mean()}')"
   ]
  },
  {
   "cell_type": "markdown",
   "id": "4017bd22",
   "metadata": {},
   "source": [
    "# twitter sentiment analysis"
   ]
  },
  {
   "cell_type": "code",
   "execution_count": 101,
   "id": "049f49e5",
   "metadata": {},
   "outputs": [],
   "source": [
    "import nltk\n",
    "from dotenv import dotenv_values\n",
    "import numpy as np\n",
    "import matplotlib.pyplot as plt\n",
    "import requests\n",
    "import json\n",
    "from sklearn.ensemble import RandomForestRegressor\n",
    "from sklearn.tree import DecisionTreeRegressor\n",
    "from sklearn.linear_model import LinearRegression\n",
    "from sklearn.model_selection import train_test_split\n",
    "from sklearn.model_selection import GridSearchCV\n",
    "from sklearn.metrics import accuracy_score\n",
    "from sklearn.metrics import mean_squared_error as MSE\n",
    "from sklearn.preprocessing import StandardScaler\n",
    "import warnings\n",
    "warnings.filterwarnings('ignore') # We can suppress the warnings"
   ]
  },
  {
   "cell_type": "code",
   "execution_count": 102,
   "id": "5efebc15",
   "metadata": {
    "scrolled": true
   },
   "outputs": [
    {
     "name": "stderr",
     "output_type": "stream",
     "text": [
      "[nltk_data] Downloading package stopwords to /home/hduser/nltk_data...\n",
      "[nltk_data]   Package stopwords is already up-to-date!\n"
     ]
    },
    {
     "data": {
      "text/plain": [
       "True"
      ]
     },
     "execution_count": 102,
     "metadata": {},
     "output_type": "execute_result"
    }
   ],
   "source": [
    "nltk.download(\"stopwords\")"
   ]
  },
  {
   "cell_type": "code",
   "execution_count": 100,
   "id": "3393eb20",
   "metadata": {},
   "outputs": [],
   "source": [
    "# read the file from hadoop\n",
    "sc = spark.sparkContext\n",
    "from pyspark.sql import SQLContext\n",
    "sqlContex = SQLContext(sc)\n",
    "cbdf = sqlContex.read.parquet('hdfs://localhost:9000/user1/Ukraine_twitter.parquet')"
   ]
  },
  {
   "cell_type": "code",
   "execution_count": 103,
   "id": "2464a0b7",
   "metadata": {},
   "outputs": [
    {
     "name": "stderr",
     "output_type": "stream",
     "text": [
      "                                                                                \r"
     ]
    }
   ],
   "source": [
    "# im working with my saved csv file here as it works better with nltk and textblob\n",
    "pdf = cbdf.toPandas()"
   ]
  },
  {
   "cell_type": "code",
   "execution_count": 104,
   "id": "2a08add1",
   "metadata": {},
   "outputs": [],
   "source": [
    "# using regular expressions to remove all special charecters.\n",
    "pdf[\"tweet\"] = pdf['tweet'].str.replace('[^\\w\\s]','')"
   ]
  },
  {
   "cell_type": "code",
   "execution_count": 105,
   "id": "15abc02c",
   "metadata": {},
   "outputs": [],
   "source": [
    "# using regular expressions to remove all tabs and carrige returns that were imported in original csv\n",
    "pdf[\"tweet\"] = pdf['tweet'].str.replace(r'\\r\\n','')"
   ]
  },
  {
   "cell_type": "code",
   "execution_count": 106,
   "id": "ca1fd56a",
   "metadata": {},
   "outputs": [],
   "source": [
    "# Basically stop words like this, an, a, the, etc that do not affect the meaning of the tweet will be removed\n",
    "from nltk.corpus import stopwords\n",
    "stop = stopwords.words(\"english\")"
   ]
  },
  {
   "cell_type": "code",
   "execution_count": 107,
   "id": "9bea932a",
   "metadata": {},
   "outputs": [],
   "source": [
    "pdf['tweet'] = pdf['tweet'].astype(str)"
   ]
  },
  {
   "cell_type": "code",
   "execution_count": 108,
   "id": "ef7deb43",
   "metadata": {},
   "outputs": [],
   "source": [
    "# lambda counts the  number of stop words in each tweet\n",
    "pdf[\"stopwords\"]  = pdf[\"tweet\"].apply(lambda x : len([x for x in x.split() if x in stop]))"
   ]
  },
  {
   "cell_type": "code",
   "execution_count": 109,
   "id": "2e8e109e",
   "metadata": {},
   "outputs": [],
   "source": [
    "# lambda counts the number of upper case words in tweet , indicate shouting , anger ect\n",
    "pdf[\"upper\"]  = pdf[\"tweet\"].apply(lambda x : len([x for x in x.split() if x.isupper()]))"
   ]
  },
  {
   "cell_type": "code",
   "execution_count": 110,
   "id": "fb213ac7",
   "metadata": {},
   "outputs": [],
   "source": [
    "pdf['tweet'] = pdf['tweet'].astype(str)"
   ]
  },
  {
   "cell_type": "code",
   "execution_count": 79,
   "id": "9d5140d7",
   "metadata": {},
   "outputs": [
    {
     "ename": "KeyboardInterrupt",
     "evalue": "",
     "output_type": "error",
     "traceback": [
      "\u001b[0;31m---------------------------------------------------------------------------\u001b[0m",
      "\u001b[0;31mKeyboardInterrupt\u001b[0m                         Traceback (most recent call last)",
      "\u001b[0;32m/tmp/ipykernel_5490/1442239946.py\u001b[0m in \u001b[0;36m<module>\u001b[0;34m\u001b[0m\n\u001b[1;32m      3\u001b[0m \u001b[0;31m# use txtblob to correct the tweet spelling\u001b[0m\u001b[0;34m\u001b[0m\u001b[0;34m\u001b[0m\u001b[0m\n\u001b[1;32m      4\u001b[0m \u001b[0;32mfrom\u001b[0m \u001b[0mtextblob\u001b[0m \u001b[0;32mimport\u001b[0m \u001b[0mTextBlob\u001b[0m\u001b[0;34m\u001b[0m\u001b[0;34m\u001b[0m\u001b[0m\n\u001b[0;32m----> 5\u001b[0;31m \u001b[0mpdf\u001b[0m\u001b[0;34m[\u001b[0m\u001b[0;34m'tweets_correct'\u001b[0m\u001b[0;34m]\u001b[0m\u001b[0;34m=\u001b[0m \u001b[0mpdf\u001b[0m\u001b[0;34m[\u001b[0m\u001b[0;34m\"tweet\"\u001b[0m\u001b[0;34m]\u001b[0m\u001b[0;34m.\u001b[0m\u001b[0mapply\u001b[0m\u001b[0;34m(\u001b[0m\u001b[0;32mlambda\u001b[0m \u001b[0mx\u001b[0m \u001b[0;34m:\u001b[0m \u001b[0mstr\u001b[0m\u001b[0;34m(\u001b[0m\u001b[0mTextBlob\u001b[0m\u001b[0;34m(\u001b[0m\u001b[0mx\u001b[0m\u001b[0;34m)\u001b[0m\u001b[0;34m.\u001b[0m\u001b[0mcorrect\u001b[0m\u001b[0;34m(\u001b[0m\u001b[0;34m)\u001b[0m\u001b[0;34m)\u001b[0m\u001b[0;34m)\u001b[0m\u001b[0;34m\u001b[0m\u001b[0;34m\u001b[0m\u001b[0m\n\u001b[0m\u001b[1;32m      6\u001b[0m \u001b[0;31m# pattern matching is not good\u001b[0m\u001b[0;34m\u001b[0m\u001b[0;34m\u001b[0m\u001b[0m\n",
      "\u001b[0;32m~/.local/lib/python3.10/site-packages/pandas/core/series.py\u001b[0m in \u001b[0;36mapply\u001b[0;34m(self, func, convert_dtype, args, **kwargs)\u001b[0m\n\u001b[1;32m   4769\u001b[0m         \u001b[0mdtype\u001b[0m\u001b[0;34m:\u001b[0m \u001b[0mfloat64\u001b[0m\u001b[0;34m\u001b[0m\u001b[0;34m\u001b[0m\u001b[0m\n\u001b[1;32m   4770\u001b[0m         \"\"\"\n\u001b[0;32m-> 4771\u001b[0;31m         \u001b[0;32mreturn\u001b[0m \u001b[0mSeriesApply\u001b[0m\u001b[0;34m(\u001b[0m\u001b[0mself\u001b[0m\u001b[0;34m,\u001b[0m \u001b[0mfunc\u001b[0m\u001b[0;34m,\u001b[0m \u001b[0mconvert_dtype\u001b[0m\u001b[0;34m,\u001b[0m \u001b[0margs\u001b[0m\u001b[0;34m,\u001b[0m \u001b[0mkwargs\u001b[0m\u001b[0;34m)\u001b[0m\u001b[0;34m.\u001b[0m\u001b[0mapply\u001b[0m\u001b[0;34m(\u001b[0m\u001b[0;34m)\u001b[0m\u001b[0;34m\u001b[0m\u001b[0;34m\u001b[0m\u001b[0m\n\u001b[0m\u001b[1;32m   4772\u001b[0m \u001b[0;34m\u001b[0m\u001b[0m\n\u001b[1;32m   4773\u001b[0m     def _reduce(\n",
      "\u001b[0;32m~/.local/lib/python3.10/site-packages/pandas/core/apply.py\u001b[0m in \u001b[0;36mapply\u001b[0;34m(self)\u001b[0m\n\u001b[1;32m   1121\u001b[0m \u001b[0;34m\u001b[0m\u001b[0m\n\u001b[1;32m   1122\u001b[0m         \u001b[0;31m# self.f is Callable\u001b[0m\u001b[0;34m\u001b[0m\u001b[0;34m\u001b[0m\u001b[0m\n\u001b[0;32m-> 1123\u001b[0;31m         \u001b[0;32mreturn\u001b[0m \u001b[0mself\u001b[0m\u001b[0;34m.\u001b[0m\u001b[0mapply_standard\u001b[0m\u001b[0;34m(\u001b[0m\u001b[0;34m)\u001b[0m\u001b[0;34m\u001b[0m\u001b[0;34m\u001b[0m\u001b[0m\n\u001b[0m\u001b[1;32m   1124\u001b[0m \u001b[0;34m\u001b[0m\u001b[0m\n\u001b[1;32m   1125\u001b[0m     \u001b[0;32mdef\u001b[0m \u001b[0magg\u001b[0m\u001b[0;34m(\u001b[0m\u001b[0mself\u001b[0m\u001b[0;34m)\u001b[0m\u001b[0;34m:\u001b[0m\u001b[0;34m\u001b[0m\u001b[0;34m\u001b[0m\u001b[0m\n",
      "\u001b[0;32m~/.local/lib/python3.10/site-packages/pandas/core/apply.py\u001b[0m in \u001b[0;36mapply_standard\u001b[0;34m(self)\u001b[0m\n\u001b[1;32m   1172\u001b[0m             \u001b[0;32melse\u001b[0m\u001b[0;34m:\u001b[0m\u001b[0;34m\u001b[0m\u001b[0;34m\u001b[0m\u001b[0m\n\u001b[1;32m   1173\u001b[0m                 \u001b[0mvalues\u001b[0m \u001b[0;34m=\u001b[0m \u001b[0mobj\u001b[0m\u001b[0;34m.\u001b[0m\u001b[0mastype\u001b[0m\u001b[0;34m(\u001b[0m\u001b[0mobject\u001b[0m\u001b[0;34m)\u001b[0m\u001b[0;34m.\u001b[0m\u001b[0m_values\u001b[0m\u001b[0;34m\u001b[0m\u001b[0;34m\u001b[0m\u001b[0m\n\u001b[0;32m-> 1174\u001b[0;31m                 mapped = lib.map_infer(\n\u001b[0m\u001b[1;32m   1175\u001b[0m                     \u001b[0mvalues\u001b[0m\u001b[0;34m,\u001b[0m\u001b[0;34m\u001b[0m\u001b[0;34m\u001b[0m\u001b[0m\n\u001b[1;32m   1176\u001b[0m                     \u001b[0mf\u001b[0m\u001b[0;34m,\u001b[0m\u001b[0;34m\u001b[0m\u001b[0;34m\u001b[0m\u001b[0m\n",
      "\u001b[0;32m~/.local/lib/python3.10/site-packages/pandas/_libs/lib.pyx\u001b[0m in \u001b[0;36mpandas._libs.lib.map_infer\u001b[0;34m()\u001b[0m\n",
      "\u001b[0;32m/tmp/ipykernel_5490/1442239946.py\u001b[0m in \u001b[0;36m<lambda>\u001b[0;34m(x)\u001b[0m\n\u001b[1;32m      3\u001b[0m \u001b[0;31m# use txtblob to correct the tweet spelling\u001b[0m\u001b[0;34m\u001b[0m\u001b[0;34m\u001b[0m\u001b[0m\n\u001b[1;32m      4\u001b[0m \u001b[0;32mfrom\u001b[0m \u001b[0mtextblob\u001b[0m \u001b[0;32mimport\u001b[0m \u001b[0mTextBlob\u001b[0m\u001b[0;34m\u001b[0m\u001b[0;34m\u001b[0m\u001b[0m\n\u001b[0;32m----> 5\u001b[0;31m \u001b[0mpdf\u001b[0m\u001b[0;34m[\u001b[0m\u001b[0;34m'tweets_correct'\u001b[0m\u001b[0;34m]\u001b[0m\u001b[0;34m=\u001b[0m \u001b[0mpdf\u001b[0m\u001b[0;34m[\u001b[0m\u001b[0;34m\"tweet\"\u001b[0m\u001b[0;34m]\u001b[0m\u001b[0;34m.\u001b[0m\u001b[0mapply\u001b[0m\u001b[0;34m(\u001b[0m\u001b[0;32mlambda\u001b[0m \u001b[0mx\u001b[0m \u001b[0;34m:\u001b[0m \u001b[0mstr\u001b[0m\u001b[0;34m(\u001b[0m\u001b[0mTextBlob\u001b[0m\u001b[0;34m(\u001b[0m\u001b[0mx\u001b[0m\u001b[0;34m)\u001b[0m\u001b[0;34m.\u001b[0m\u001b[0mcorrect\u001b[0m\u001b[0;34m(\u001b[0m\u001b[0;34m)\u001b[0m\u001b[0;34m)\u001b[0m\u001b[0;34m)\u001b[0m\u001b[0;34m\u001b[0m\u001b[0;34m\u001b[0m\u001b[0m\n\u001b[0m\u001b[1;32m      6\u001b[0m \u001b[0;31m# pattern matching is not good\u001b[0m\u001b[0;34m\u001b[0m\u001b[0;34m\u001b[0m\u001b[0m\n",
      "\u001b[0;32m~/.local/lib/python3.10/site-packages/textblob/blob.py\u001b[0m in \u001b[0;36mcorrect\u001b[0;34m(self)\u001b[0m\n\u001b[1;32m    607\u001b[0m         \u001b[0mtokens\u001b[0m \u001b[0;34m=\u001b[0m \u001b[0mnltk\u001b[0m\u001b[0;34m.\u001b[0m\u001b[0mtokenize\u001b[0m\u001b[0;34m.\u001b[0m\u001b[0mregexp_tokenize\u001b[0m\u001b[0;34m(\u001b[0m\u001b[0mself\u001b[0m\u001b[0;34m.\u001b[0m\u001b[0mraw\u001b[0m\u001b[0;34m,\u001b[0m \u001b[0;34mr\"\\w+|[^\\w\\s]|\\s\"\u001b[0m\u001b[0;34m)\u001b[0m\u001b[0;34m\u001b[0m\u001b[0;34m\u001b[0m\u001b[0m\n\u001b[1;32m    608\u001b[0m         \u001b[0mcorrected\u001b[0m \u001b[0;34m=\u001b[0m \u001b[0;34m(\u001b[0m\u001b[0mWord\u001b[0m\u001b[0;34m(\u001b[0m\u001b[0mw\u001b[0m\u001b[0;34m)\u001b[0m\u001b[0;34m.\u001b[0m\u001b[0mcorrect\u001b[0m\u001b[0;34m(\u001b[0m\u001b[0;34m)\u001b[0m \u001b[0;32mfor\u001b[0m \u001b[0mw\u001b[0m \u001b[0;32min\u001b[0m \u001b[0mtokens\u001b[0m\u001b[0;34m)\u001b[0m\u001b[0;34m\u001b[0m\u001b[0;34m\u001b[0m\u001b[0m\n\u001b[0;32m--> 609\u001b[0;31m         \u001b[0mret\u001b[0m \u001b[0;34m=\u001b[0m \u001b[0;34m''\u001b[0m\u001b[0;34m.\u001b[0m\u001b[0mjoin\u001b[0m\u001b[0;34m(\u001b[0m\u001b[0mcorrected\u001b[0m\u001b[0;34m)\u001b[0m\u001b[0;34m\u001b[0m\u001b[0;34m\u001b[0m\u001b[0m\n\u001b[0m\u001b[1;32m    610\u001b[0m         \u001b[0;32mreturn\u001b[0m \u001b[0mself\u001b[0m\u001b[0;34m.\u001b[0m\u001b[0m__class__\u001b[0m\u001b[0;34m(\u001b[0m\u001b[0mret\u001b[0m\u001b[0;34m)\u001b[0m\u001b[0;34m\u001b[0m\u001b[0;34m\u001b[0m\u001b[0m\n\u001b[1;32m    611\u001b[0m \u001b[0;34m\u001b[0m\u001b[0m\n",
      "\u001b[0;32m~/.local/lib/python3.10/site-packages/textblob/blob.py\u001b[0m in \u001b[0;36m<genexpr>\u001b[0;34m(.0)\u001b[0m\n\u001b[1;32m    606\u001b[0m         \u001b[0;31m# regex matches: word or punctuation or whitespace\u001b[0m\u001b[0;34m\u001b[0m\u001b[0;34m\u001b[0m\u001b[0m\n\u001b[1;32m    607\u001b[0m         \u001b[0mtokens\u001b[0m \u001b[0;34m=\u001b[0m \u001b[0mnltk\u001b[0m\u001b[0;34m.\u001b[0m\u001b[0mtokenize\u001b[0m\u001b[0;34m.\u001b[0m\u001b[0mregexp_tokenize\u001b[0m\u001b[0;34m(\u001b[0m\u001b[0mself\u001b[0m\u001b[0;34m.\u001b[0m\u001b[0mraw\u001b[0m\u001b[0;34m,\u001b[0m \u001b[0;34mr\"\\w+|[^\\w\\s]|\\s\"\u001b[0m\u001b[0;34m)\u001b[0m\u001b[0;34m\u001b[0m\u001b[0;34m\u001b[0m\u001b[0m\n\u001b[0;32m--> 608\u001b[0;31m         \u001b[0mcorrected\u001b[0m \u001b[0;34m=\u001b[0m \u001b[0;34m(\u001b[0m\u001b[0mWord\u001b[0m\u001b[0;34m(\u001b[0m\u001b[0mw\u001b[0m\u001b[0;34m)\u001b[0m\u001b[0;34m.\u001b[0m\u001b[0mcorrect\u001b[0m\u001b[0;34m(\u001b[0m\u001b[0;34m)\u001b[0m \u001b[0;32mfor\u001b[0m \u001b[0mw\u001b[0m \u001b[0;32min\u001b[0m \u001b[0mtokens\u001b[0m\u001b[0;34m)\u001b[0m\u001b[0;34m\u001b[0m\u001b[0;34m\u001b[0m\u001b[0m\n\u001b[0m\u001b[1;32m    609\u001b[0m         \u001b[0mret\u001b[0m \u001b[0;34m=\u001b[0m \u001b[0;34m''\u001b[0m\u001b[0;34m.\u001b[0m\u001b[0mjoin\u001b[0m\u001b[0;34m(\u001b[0m\u001b[0mcorrected\u001b[0m\u001b[0;34m)\u001b[0m\u001b[0;34m\u001b[0m\u001b[0;34m\u001b[0m\u001b[0m\n\u001b[1;32m    610\u001b[0m         \u001b[0;32mreturn\u001b[0m \u001b[0mself\u001b[0m\u001b[0;34m.\u001b[0m\u001b[0m__class__\u001b[0m\u001b[0;34m(\u001b[0m\u001b[0mret\u001b[0m\u001b[0;34m)\u001b[0m\u001b[0;34m\u001b[0m\u001b[0;34m\u001b[0m\u001b[0m\n",
      "\u001b[0;32m~/.local/lib/python3.10/site-packages/textblob/blob.py\u001b[0m in \u001b[0;36mcorrect\u001b[0;34m(self)\u001b[0m\n\u001b[1;32m    140\u001b[0m         \u001b[0;34m.\u001b[0m\u001b[0;34m.\u001b[0m \u001b[0mversionadded\u001b[0m\u001b[0;34m:\u001b[0m\u001b[0;34m:\u001b[0m \u001b[0;36m0.6\u001b[0m\u001b[0;36m.0\u001b[0m\u001b[0;34m\u001b[0m\u001b[0;34m\u001b[0m\u001b[0m\n\u001b[1;32m    141\u001b[0m         '''\n\u001b[0;32m--> 142\u001b[0;31m         \u001b[0;32mreturn\u001b[0m \u001b[0mWord\u001b[0m\u001b[0;34m(\u001b[0m\u001b[0mself\u001b[0m\u001b[0;34m.\u001b[0m\u001b[0mspellcheck\u001b[0m\u001b[0;34m(\u001b[0m\u001b[0;34m)\u001b[0m\u001b[0;34m[\u001b[0m\u001b[0;36m0\u001b[0m\u001b[0;34m]\u001b[0m\u001b[0;34m[\u001b[0m\u001b[0;36m0\u001b[0m\u001b[0;34m]\u001b[0m\u001b[0;34m)\u001b[0m\u001b[0;34m\u001b[0m\u001b[0;34m\u001b[0m\u001b[0m\n\u001b[0m\u001b[1;32m    143\u001b[0m \u001b[0;34m\u001b[0m\u001b[0m\n\u001b[1;32m    144\u001b[0m     \u001b[0;34m@\u001b[0m\u001b[0mcached_property\u001b[0m\u001b[0;34m\u001b[0m\u001b[0;34m\u001b[0m\u001b[0m\n",
      "\u001b[0;32m~/.local/lib/python3.10/site-packages/textblob/blob.py\u001b[0m in \u001b[0;36mspellcheck\u001b[0;34m(self)\u001b[0m\n\u001b[1;32m    132\u001b[0m         \u001b[0;34m.\u001b[0m\u001b[0;34m.\u001b[0m \u001b[0mversionadded\u001b[0m\u001b[0;34m:\u001b[0m\u001b[0;34m:\u001b[0m \u001b[0;36m0.6\u001b[0m\u001b[0;36m.0\u001b[0m\u001b[0;34m\u001b[0m\u001b[0;34m\u001b[0m\u001b[0m\n\u001b[1;32m    133\u001b[0m         '''\n\u001b[0;32m--> 134\u001b[0;31m         \u001b[0;32mreturn\u001b[0m \u001b[0msuggest\u001b[0m\u001b[0;34m(\u001b[0m\u001b[0mself\u001b[0m\u001b[0;34m.\u001b[0m\u001b[0mstring\u001b[0m\u001b[0;34m)\u001b[0m\u001b[0;34m\u001b[0m\u001b[0;34m\u001b[0m\u001b[0m\n\u001b[0m\u001b[1;32m    135\u001b[0m \u001b[0;34m\u001b[0m\u001b[0m\n\u001b[1;32m    136\u001b[0m     \u001b[0;32mdef\u001b[0m \u001b[0mcorrect\u001b[0m\u001b[0;34m(\u001b[0m\u001b[0mself\u001b[0m\u001b[0;34m)\u001b[0m\u001b[0;34m:\u001b[0m\u001b[0;34m\u001b[0m\u001b[0;34m\u001b[0m\u001b[0m\n",
      "\u001b[0;32m~/.local/lib/python3.10/site-packages/textblob/en/__init__.py\u001b[0m in \u001b[0;36msuggest\u001b[0;34m(w)\u001b[0m\n\u001b[1;32m    121\u001b[0m     \"\"\" Returns a list of (word, confidence)-tuples of spelling corrections.\n\u001b[1;32m    122\u001b[0m     \"\"\"\n\u001b[0;32m--> 123\u001b[0;31m     \u001b[0;32mreturn\u001b[0m \u001b[0mspelling\u001b[0m\u001b[0;34m.\u001b[0m\u001b[0msuggest\u001b[0m\u001b[0;34m(\u001b[0m\u001b[0mw\u001b[0m\u001b[0;34m)\u001b[0m\u001b[0;34m\u001b[0m\u001b[0;34m\u001b[0m\u001b[0m\n\u001b[0m\u001b[1;32m    124\u001b[0m \u001b[0;34m\u001b[0m\u001b[0m\n\u001b[1;32m    125\u001b[0m \u001b[0;32mdef\u001b[0m \u001b[0mpolarity\u001b[0m\u001b[0;34m(\u001b[0m\u001b[0ms\u001b[0m\u001b[0;34m,\u001b[0m \u001b[0;34m**\u001b[0m\u001b[0mkwargs\u001b[0m\u001b[0;34m)\u001b[0m\u001b[0;34m:\u001b[0m\u001b[0;34m\u001b[0m\u001b[0;34m\u001b[0m\u001b[0m\n",
      "\u001b[0;32m~/.local/lib/python3.10/site-packages/textblob/_text.py\u001b[0m in \u001b[0;36msuggest\u001b[0;34m(self, w)\u001b[0m\n\u001b[1;32m   1397\u001b[0m         \u001b[0mcandidates\u001b[0m \u001b[0;34m=\u001b[0m \u001b[0mself\u001b[0m\u001b[0;34m.\u001b[0m\u001b[0m_known\u001b[0m\u001b[0;34m(\u001b[0m\u001b[0;34m[\u001b[0m\u001b[0mw\u001b[0m\u001b[0;34m]\u001b[0m\u001b[0;34m)\u001b[0m\u001b[0;31m \u001b[0m\u001b[0;31m\\\u001b[0m\u001b[0;34m\u001b[0m\u001b[0;34m\u001b[0m\u001b[0m\n\u001b[1;32m   1398\u001b[0m                   \u001b[0;32mor\u001b[0m \u001b[0mself\u001b[0m\u001b[0;34m.\u001b[0m\u001b[0m_known\u001b[0m\u001b[0;34m(\u001b[0m\u001b[0mself\u001b[0m\u001b[0;34m.\u001b[0m\u001b[0m_edit1\u001b[0m\u001b[0;34m(\u001b[0m\u001b[0mw\u001b[0m\u001b[0;34m)\u001b[0m\u001b[0;34m)\u001b[0m\u001b[0;31m \u001b[0m\u001b[0;31m\\\u001b[0m\u001b[0;34m\u001b[0m\u001b[0;34m\u001b[0m\u001b[0m\n\u001b[0;32m-> 1399\u001b[0;31m                   \u001b[0;32mor\u001b[0m \u001b[0mself\u001b[0m\u001b[0;34m.\u001b[0m\u001b[0m_known\u001b[0m\u001b[0;34m(\u001b[0m\u001b[0mself\u001b[0m\u001b[0;34m.\u001b[0m\u001b[0m_edit2\u001b[0m\u001b[0;34m(\u001b[0m\u001b[0mw\u001b[0m\u001b[0;34m)\u001b[0m\u001b[0;34m)\u001b[0m\u001b[0;31m \u001b[0m\u001b[0;31m\\\u001b[0m\u001b[0;34m\u001b[0m\u001b[0;34m\u001b[0m\u001b[0m\n\u001b[0m\u001b[1;32m   1400\u001b[0m                   \u001b[0;32mor\u001b[0m \u001b[0;34m[\u001b[0m\u001b[0mw\u001b[0m\u001b[0;34m]\u001b[0m\u001b[0;34m\u001b[0m\u001b[0;34m\u001b[0m\u001b[0m\n\u001b[1;32m   1401\u001b[0m         \u001b[0mcandidates\u001b[0m \u001b[0;34m=\u001b[0m \u001b[0;34m[\u001b[0m\u001b[0;34m(\u001b[0m\u001b[0mself\u001b[0m\u001b[0;34m.\u001b[0m\u001b[0mget\u001b[0m\u001b[0;34m(\u001b[0m\u001b[0mc\u001b[0m\u001b[0;34m,\u001b[0m \u001b[0;36m0.0\u001b[0m\u001b[0;34m)\u001b[0m\u001b[0;34m,\u001b[0m \u001b[0mc\u001b[0m\u001b[0;34m)\u001b[0m \u001b[0;32mfor\u001b[0m \u001b[0mc\u001b[0m \u001b[0;32min\u001b[0m \u001b[0mcandidates\u001b[0m\u001b[0;34m]\u001b[0m\u001b[0;34m\u001b[0m\u001b[0;34m\u001b[0m\u001b[0m\n",
      "\u001b[0;32m~/.local/lib/python3.10/site-packages/textblob/_text.py\u001b[0m in \u001b[0;36m_edit2\u001b[0;34m(self, w)\u001b[0m\n\u001b[1;32m   1374\u001b[0m         \u001b[0;31m# Of all spelling errors, 99% is covered by edit distance 2.\u001b[0m\u001b[0;34m\u001b[0m\u001b[0;34m\u001b[0m\u001b[0m\n\u001b[1;32m   1375\u001b[0m         \u001b[0;31m# Only keep candidates that are actually known words (20% speedup).\u001b[0m\u001b[0;34m\u001b[0m\u001b[0;34m\u001b[0m\u001b[0m\n\u001b[0;32m-> 1376\u001b[0;31m         \u001b[0;32mreturn\u001b[0m \u001b[0mset\u001b[0m\u001b[0;34m(\u001b[0m\u001b[0me2\u001b[0m \u001b[0;32mfor\u001b[0m \u001b[0me1\u001b[0m \u001b[0;32min\u001b[0m \u001b[0mself\u001b[0m\u001b[0;34m.\u001b[0m\u001b[0m_edit1\u001b[0m\u001b[0;34m(\u001b[0m\u001b[0mw\u001b[0m\u001b[0;34m)\u001b[0m \u001b[0;32mfor\u001b[0m \u001b[0me2\u001b[0m \u001b[0;32min\u001b[0m \u001b[0mself\u001b[0m\u001b[0;34m.\u001b[0m\u001b[0m_edit1\u001b[0m\u001b[0;34m(\u001b[0m\u001b[0me1\u001b[0m\u001b[0;34m)\u001b[0m \u001b[0;32mif\u001b[0m \u001b[0me2\u001b[0m \u001b[0;32min\u001b[0m \u001b[0mself\u001b[0m\u001b[0;34m)\u001b[0m\u001b[0;34m\u001b[0m\u001b[0;34m\u001b[0m\u001b[0m\n\u001b[0m\u001b[1;32m   1377\u001b[0m \u001b[0;34m\u001b[0m\u001b[0m\n\u001b[1;32m   1378\u001b[0m     \u001b[0;32mdef\u001b[0m \u001b[0m_known\u001b[0m\u001b[0;34m(\u001b[0m\u001b[0mself\u001b[0m\u001b[0;34m,\u001b[0m \u001b[0mwords\u001b[0m\u001b[0;34m=\u001b[0m\u001b[0;34m[\u001b[0m\u001b[0;34m]\u001b[0m\u001b[0;34m)\u001b[0m\u001b[0;34m:\u001b[0m\u001b[0;34m\u001b[0m\u001b[0;34m\u001b[0m\u001b[0m\n",
      "\u001b[0;32m~/.local/lib/python3.10/site-packages/textblob/_text.py\u001b[0m in \u001b[0;36m<genexpr>\u001b[0;34m(.0)\u001b[0m\n\u001b[1;32m   1374\u001b[0m         \u001b[0;31m# Of all spelling errors, 99% is covered by edit distance 2.\u001b[0m\u001b[0;34m\u001b[0m\u001b[0;34m\u001b[0m\u001b[0m\n\u001b[1;32m   1375\u001b[0m         \u001b[0;31m# Only keep candidates that are actually known words (20% speedup).\u001b[0m\u001b[0;34m\u001b[0m\u001b[0;34m\u001b[0m\u001b[0m\n\u001b[0;32m-> 1376\u001b[0;31m         \u001b[0;32mreturn\u001b[0m \u001b[0mset\u001b[0m\u001b[0;34m(\u001b[0m\u001b[0me2\u001b[0m \u001b[0;32mfor\u001b[0m \u001b[0me1\u001b[0m \u001b[0;32min\u001b[0m \u001b[0mself\u001b[0m\u001b[0;34m.\u001b[0m\u001b[0m_edit1\u001b[0m\u001b[0;34m(\u001b[0m\u001b[0mw\u001b[0m\u001b[0;34m)\u001b[0m \u001b[0;32mfor\u001b[0m \u001b[0me2\u001b[0m \u001b[0;32min\u001b[0m \u001b[0mself\u001b[0m\u001b[0;34m.\u001b[0m\u001b[0m_edit1\u001b[0m\u001b[0;34m(\u001b[0m\u001b[0me1\u001b[0m\u001b[0;34m)\u001b[0m \u001b[0;32mif\u001b[0m \u001b[0me2\u001b[0m \u001b[0;32min\u001b[0m \u001b[0mself\u001b[0m\u001b[0;34m)\u001b[0m\u001b[0;34m\u001b[0m\u001b[0;34m\u001b[0m\u001b[0m\n\u001b[0m\u001b[1;32m   1377\u001b[0m \u001b[0;34m\u001b[0m\u001b[0m\n\u001b[1;32m   1378\u001b[0m     \u001b[0;32mdef\u001b[0m \u001b[0m_known\u001b[0m\u001b[0;34m(\u001b[0m\u001b[0mself\u001b[0m\u001b[0;34m,\u001b[0m \u001b[0mwords\u001b[0m\u001b[0;34m=\u001b[0m\u001b[0;34m[\u001b[0m\u001b[0;34m]\u001b[0m\u001b[0;34m)\u001b[0m\u001b[0;34m:\u001b[0m\u001b[0;34m\u001b[0m\u001b[0;34m\u001b[0m\u001b[0m\n",
      "\u001b[0;32m~/.local/lib/python3.10/site-packages/textblob/_text.py\u001b[0m in \u001b[0;36m_edit1\u001b[0;34m(self, w)\u001b[0m\n\u001b[1;32m   1365\u001b[0m             \u001b[0;34m[\u001b[0m\u001b[0ma\u001b[0m \u001b[0;34m+\u001b[0m \u001b[0mb\u001b[0m\u001b[0;34m[\u001b[0m\u001b[0;36m1\u001b[0m\u001b[0;34m]\u001b[0m \u001b[0;34m+\u001b[0m \u001b[0mb\u001b[0m\u001b[0;34m[\u001b[0m\u001b[0;36m0\u001b[0m\u001b[0;34m]\u001b[0m \u001b[0;34m+\u001b[0m \u001b[0mb\u001b[0m\u001b[0;34m[\u001b[0m\u001b[0;36m2\u001b[0m\u001b[0;34m:\u001b[0m\u001b[0;34m]\u001b[0m \u001b[0;32mfor\u001b[0m \u001b[0ma\u001b[0m\u001b[0;34m,\u001b[0m \u001b[0mb\u001b[0m \u001b[0;32min\u001b[0m \u001b[0msplit\u001b[0m \u001b[0;32mif\u001b[0m \u001b[0mlen\u001b[0m\u001b[0;34m(\u001b[0m\u001b[0mb\u001b[0m\u001b[0;34m)\u001b[0m \u001b[0;34m>\u001b[0m \u001b[0;36m1\u001b[0m\u001b[0;34m]\u001b[0m\u001b[0;34m,\u001b[0m\u001b[0;34m\u001b[0m\u001b[0;34m\u001b[0m\u001b[0m\n\u001b[1;32m   1366\u001b[0m             \u001b[0;34m[\u001b[0m\u001b[0ma\u001b[0m \u001b[0;34m+\u001b[0m \u001b[0mc\u001b[0m \u001b[0;34m+\u001b[0m \u001b[0mb\u001b[0m\u001b[0;34m[\u001b[0m\u001b[0;36m1\u001b[0m\u001b[0;34m:\u001b[0m\u001b[0;34m]\u001b[0m \u001b[0;32mfor\u001b[0m \u001b[0ma\u001b[0m\u001b[0;34m,\u001b[0m \u001b[0mb\u001b[0m \u001b[0;32min\u001b[0m \u001b[0msplit\u001b[0m \u001b[0;32mfor\u001b[0m \u001b[0mc\u001b[0m \u001b[0;32min\u001b[0m \u001b[0mSpelling\u001b[0m\u001b[0;34m.\u001b[0m\u001b[0mALPHA\u001b[0m \u001b[0;32mif\u001b[0m \u001b[0mb\u001b[0m\u001b[0;34m]\u001b[0m\u001b[0;34m,\u001b[0m\u001b[0;34m\u001b[0m\u001b[0;34m\u001b[0m\u001b[0m\n\u001b[0;32m-> 1367\u001b[0;31m             \u001b[0;34m[\u001b[0m\u001b[0ma\u001b[0m \u001b[0;34m+\u001b[0m \u001b[0mc\u001b[0m \u001b[0;34m+\u001b[0m \u001b[0mb\u001b[0m\u001b[0;34m[\u001b[0m\u001b[0;36m0\u001b[0m\u001b[0;34m:\u001b[0m\u001b[0;34m]\u001b[0m \u001b[0;32mfor\u001b[0m \u001b[0ma\u001b[0m\u001b[0;34m,\u001b[0m \u001b[0mb\u001b[0m \u001b[0;32min\u001b[0m \u001b[0msplit\u001b[0m \u001b[0;32mfor\u001b[0m \u001b[0mc\u001b[0m \u001b[0;32min\u001b[0m \u001b[0mSpelling\u001b[0m\u001b[0;34m.\u001b[0m\u001b[0mALPHA\u001b[0m\u001b[0;34m]\u001b[0m\u001b[0;34m\u001b[0m\u001b[0;34m\u001b[0m\u001b[0m\n\u001b[0m\u001b[1;32m   1368\u001b[0m         )\n\u001b[1;32m   1369\u001b[0m         \u001b[0;32mreturn\u001b[0m \u001b[0mset\u001b[0m\u001b[0;34m(\u001b[0m\u001b[0mdelete\u001b[0m \u001b[0;34m+\u001b[0m \u001b[0mtranspose\u001b[0m \u001b[0;34m+\u001b[0m \u001b[0mreplace\u001b[0m \u001b[0;34m+\u001b[0m \u001b[0minsert\u001b[0m\u001b[0;34m)\u001b[0m\u001b[0;34m\u001b[0m\u001b[0;34m\u001b[0m\u001b[0m\n",
      "\u001b[0;32m~/.local/lib/python3.10/site-packages/textblob/_text.py\u001b[0m in \u001b[0;36m<listcomp>\u001b[0;34m(.0)\u001b[0m\n\u001b[1;32m   1365\u001b[0m             \u001b[0;34m[\u001b[0m\u001b[0ma\u001b[0m \u001b[0;34m+\u001b[0m \u001b[0mb\u001b[0m\u001b[0;34m[\u001b[0m\u001b[0;36m1\u001b[0m\u001b[0;34m]\u001b[0m \u001b[0;34m+\u001b[0m \u001b[0mb\u001b[0m\u001b[0;34m[\u001b[0m\u001b[0;36m0\u001b[0m\u001b[0;34m]\u001b[0m \u001b[0;34m+\u001b[0m \u001b[0mb\u001b[0m\u001b[0;34m[\u001b[0m\u001b[0;36m2\u001b[0m\u001b[0;34m:\u001b[0m\u001b[0;34m]\u001b[0m \u001b[0;32mfor\u001b[0m \u001b[0ma\u001b[0m\u001b[0;34m,\u001b[0m \u001b[0mb\u001b[0m \u001b[0;32min\u001b[0m \u001b[0msplit\u001b[0m \u001b[0;32mif\u001b[0m \u001b[0mlen\u001b[0m\u001b[0;34m(\u001b[0m\u001b[0mb\u001b[0m\u001b[0;34m)\u001b[0m \u001b[0;34m>\u001b[0m \u001b[0;36m1\u001b[0m\u001b[0;34m]\u001b[0m\u001b[0;34m,\u001b[0m\u001b[0;34m\u001b[0m\u001b[0;34m\u001b[0m\u001b[0m\n\u001b[1;32m   1366\u001b[0m             \u001b[0;34m[\u001b[0m\u001b[0ma\u001b[0m \u001b[0;34m+\u001b[0m \u001b[0mc\u001b[0m \u001b[0;34m+\u001b[0m \u001b[0mb\u001b[0m\u001b[0;34m[\u001b[0m\u001b[0;36m1\u001b[0m\u001b[0;34m:\u001b[0m\u001b[0;34m]\u001b[0m \u001b[0;32mfor\u001b[0m \u001b[0ma\u001b[0m\u001b[0;34m,\u001b[0m \u001b[0mb\u001b[0m \u001b[0;32min\u001b[0m \u001b[0msplit\u001b[0m \u001b[0;32mfor\u001b[0m \u001b[0mc\u001b[0m \u001b[0;32min\u001b[0m \u001b[0mSpelling\u001b[0m\u001b[0;34m.\u001b[0m\u001b[0mALPHA\u001b[0m \u001b[0;32mif\u001b[0m \u001b[0mb\u001b[0m\u001b[0;34m]\u001b[0m\u001b[0;34m,\u001b[0m\u001b[0;34m\u001b[0m\u001b[0;34m\u001b[0m\u001b[0m\n\u001b[0;32m-> 1367\u001b[0;31m             \u001b[0;34m[\u001b[0m\u001b[0ma\u001b[0m \u001b[0;34m+\u001b[0m \u001b[0mc\u001b[0m \u001b[0;34m+\u001b[0m \u001b[0mb\u001b[0m\u001b[0;34m[\u001b[0m\u001b[0;36m0\u001b[0m\u001b[0;34m:\u001b[0m\u001b[0;34m]\u001b[0m \u001b[0;32mfor\u001b[0m \u001b[0ma\u001b[0m\u001b[0;34m,\u001b[0m \u001b[0mb\u001b[0m \u001b[0;32min\u001b[0m \u001b[0msplit\u001b[0m \u001b[0;32mfor\u001b[0m \u001b[0mc\u001b[0m \u001b[0;32min\u001b[0m \u001b[0mSpelling\u001b[0m\u001b[0;34m.\u001b[0m\u001b[0mALPHA\u001b[0m\u001b[0;34m]\u001b[0m\u001b[0;34m\u001b[0m\u001b[0;34m\u001b[0m\u001b[0m\n\u001b[0m\u001b[1;32m   1368\u001b[0m         )\n\u001b[1;32m   1369\u001b[0m         \u001b[0;32mreturn\u001b[0m \u001b[0mset\u001b[0m\u001b[0;34m(\u001b[0m\u001b[0mdelete\u001b[0m \u001b[0;34m+\u001b[0m \u001b[0mtranspose\u001b[0m \u001b[0;34m+\u001b[0m \u001b[0mreplace\u001b[0m \u001b[0;34m+\u001b[0m \u001b[0minsert\u001b[0m\u001b[0;34m)\u001b[0m\u001b[0;34m\u001b[0m\u001b[0;34m\u001b[0m\u001b[0m\n",
      "\u001b[0;31mKeyboardInterrupt\u001b[0m: "
     ]
    }
   ],
   "source": [
    "##################### Warning this cell can take up to 50 mins to complete ################### \n",
    "# corrects spellings and grammer based on context\n",
    "# use txtblob to correct the tweet spelling\n",
    "from textblob import TextBlob\n",
    "pdf['tweets_correct']= pdf[\"tweet\"].apply(lambda x : str(TextBlob(x).correct()))\n",
    "# pattern matching is not good"
   ]
  },
  {
   "cell_type": "code",
   "execution_count": null,
   "id": "15c5bc81",
   "metadata": {},
   "outputs": [],
   "source": []
  },
  {
   "cell_type": "code",
   "execution_count": 111,
   "id": "467407ac",
   "metadata": {},
   "outputs": [],
   "source": [
    "from textblob import TextBlob\n",
    "pdf['sentiment'] = pdf['tweet'].apply(lambda x : TextBlob(x).sentiment[0])"
   ]
  },
  {
   "cell_type": "code",
   "execution_count": 112,
   "id": "1e8f7011",
   "metadata": {},
   "outputs": [],
   "source": [
    "# add month column to dataframe\n",
    "pdf['month'] = pdf['date_extracted'].dt.month"
   ]
  },
  {
   "cell_type": "code",
   "execution_count": 113,
   "id": "989c726e",
   "metadata": {},
   "outputs": [
    {
     "data": {
      "text/html": [
       "<div>\n",
       "<style scoped>\n",
       "    .dataframe tbody tr th:only-of-type {\n",
       "        vertical-align: middle;\n",
       "    }\n",
       "\n",
       "    .dataframe tbody tr th {\n",
       "        vertical-align: top;\n",
       "    }\n",
       "\n",
       "    .dataframe thead th {\n",
       "        text-align: right;\n",
       "    }\n",
       "</style>\n",
       "<table border=\"1\" class=\"dataframe\">\n",
       "  <thead>\n",
       "    <tr style=\"text-align: right;\">\n",
       "      <th></th>\n",
       "      <th>date_extracted</th>\n",
       "      <th>tweet</th>\n",
       "      <th>stopwords</th>\n",
       "      <th>upper</th>\n",
       "      <th>sentiment</th>\n",
       "      <th>month</th>\n",
       "    </tr>\n",
       "  </thead>\n",
       "  <tbody>\n",
       "    <tr>\n",
       "      <th>299816</th>\n",
       "      <td>2023-04-27</td>\n",
       "      <td>PACE resolution on deportation of Ukrainian c...</td>\n",
       "      <td>10</td>\n",
       "      <td>1</td>\n",
       "      <td>0.000000</td>\n",
       "      <td>4</td>\n",
       "    </tr>\n",
       "    <tr>\n",
       "      <th>299817</th>\n",
       "      <td>2023-05-04</td>\n",
       "      <td>walken_io Problem was solved via Walken team a...</td>\n",
       "      <td>2</td>\n",
       "      <td>0</td>\n",
       "      <td>0.000000</td>\n",
       "      <td>5</td>\n",
       "    </tr>\n",
       "    <tr>\n",
       "      <th>299818</th>\n",
       "      <td>2023-05-12</td>\n",
       "      <td>Part of the proceeds 20 from the sale of each ...</td>\n",
       "      <td>17</td>\n",
       "      <td>1</td>\n",
       "      <td>0.066667</td>\n",
       "      <td>5</td>\n",
       "    </tr>\n",
       "    <tr>\n",
       "      <th>299819</th>\n",
       "      <td>2023-05-12</td>\n",
       "      <td>Confirmation that the Armed Forces of Ukraine ...</td>\n",
       "      <td>12</td>\n",
       "      <td>0</td>\n",
       "      <td>0.000000</td>\n",
       "      <td>5</td>\n",
       "    </tr>\n",
       "    <tr>\n",
       "      <th>299820</th>\n",
       "      <td>2023-05-17</td>\n",
       "      <td>Kyiv last night Air alert during what was one ...</td>\n",
       "      <td>9</td>\n",
       "      <td>1</td>\n",
       "      <td>0.233333</td>\n",
       "      <td>5</td>\n",
       "    </tr>\n",
       "  </tbody>\n",
       "</table>\n",
       "</div>"
      ],
      "text/plain": [
       "       date_extracted                                              tweet  \\\n",
       "299816     2023-04-27   PACE resolution on deportation of Ukrainian c...   \n",
       "299817     2023-05-04  walken_io Problem was solved via Walken team a...   \n",
       "299818     2023-05-12  Part of the proceeds 20 from the sale of each ...   \n",
       "299819     2023-05-12  Confirmation that the Armed Forces of Ukraine ...   \n",
       "299820     2023-05-17  Kyiv last night Air alert during what was one ...   \n",
       "\n",
       "        stopwords  upper  sentiment  month  \n",
       "299816         10      1   0.000000      4  \n",
       "299817          2      0   0.000000      5  \n",
       "299818         17      1   0.066667      5  \n",
       "299819         12      0   0.000000      5  \n",
       "299820          9      1   0.233333      5  "
      ]
     },
     "execution_count": 113,
     "metadata": {},
     "output_type": "execute_result"
    }
   ],
   "source": [
    "pdf.tail()"
   ]
  },
  {
   "cell_type": "code",
   "execution_count": 114,
   "id": "627de122",
   "metadata": {},
   "outputs": [
    {
     "data": {
      "image/png": "[encoded data removed]",
      "text/plain": [
       "<Figure size 432x288 with 1 Axes>"
      ]
     },
     "metadata": {
      "needs_background": "light"
     },
     "output_type": "display_data"
    }
   ],
   "source": [
    "# Get instant view of the sentiment\n",
    "pdf.hist(column='sentiment')\n",
    "#plt.savefig(\"ukraine_sent_hist.png\", dpi=300)\n",
    "plt.show();"
   ]
  },
  {
   "cell_type": "code",
   "execution_count": 115,
   "id": "f0c1ab3c",
   "metadata": {},
   "outputs": [
    {
     "data": {
      "image/png": "[encoded data removed]",
      "text/plain": [
       "<Figure size 864x576 with 1 Axes>"
      ]
     },
     "metadata": {
      "needs_background": "light"
     },
     "output_type": "display_data"
    }
   ],
   "source": [
    "plt.figure(figsize=(12,8))\n",
    "sns.boxplot(x='month', y='sentiment', data=pdf)\n",
    "plt.title('Box plot of sentiment by month')\n",
    "plt.xlabel('Month')\n",
    "plt.ylabel('sentiment')\n",
    "plt.savefig(\"ukraine_sent_box.png\", dpi=300)\n",
    "plt.show()"
   ]
  },
  {
   "cell_type": "code",
   "execution_count": 40,
   "id": "7b46e99c",
   "metadata": {},
   "outputs": [],
   "source": [
    "# group by date and add up the sentiment score in each group.\n",
    "# devide the sentiment score by the number of tweets in each day for the average sentiment score for that day\n",
    "# create new dataset with the sentiment for each day.\n",
    "tsdf = pdf.groupby('date_extracted').agg(sum_sentiment=('sentiment', 'sum'), rows = ('sentiment','count')\n",
    "                                        ).assign(result=lambda x : x['sum_sentiment'] / x['rows']).reset_index()[['date_extracted', 'result']]"
   ]
  },
  {
   "cell_type": "code",
   "execution_count": 116,
   "id": "75def92a",
   "metadata": {
    "scrolled": true
   },
   "outputs": [
    {
     "data": {
      "text/html": [
       "<div>\n",
       "<style scoped>\n",
       "    .dataframe tbody tr th:only-of-type {\n",
       "        vertical-align: middle;\n",
       "    }\n",
       "\n",
       "    .dataframe tbody tr th {\n",
       "        vertical-align: top;\n",
       "    }\n",
       "\n",
       "    .dataframe thead th {\n",
       "        text-align: right;\n",
       "    }\n",
       "</style>\n",
       "<table border=\"1\" class=\"dataframe\">\n",
       "  <thead>\n",
       "    <tr style=\"text-align: right;\">\n",
       "      <th></th>\n",
       "      <th>result</th>\n",
       "    </tr>\n",
       "    <tr>\n",
       "      <th>date_extracted</th>\n",
       "      <th></th>\n",
       "    </tr>\n",
       "  </thead>\n",
       "  <tbody>\n",
       "    <tr>\n",
       "      <th>2022-02-24</th>\n",
       "      <td>0.022676</td>\n",
       "    </tr>\n",
       "    <tr>\n",
       "      <th>2022-02-25</th>\n",
       "      <td>0.021433</td>\n",
       "    </tr>\n",
       "    <tr>\n",
       "      <th>2022-02-26</th>\n",
       "      <td>0.053351</td>\n",
       "    </tr>\n",
       "    <tr>\n",
       "      <th>2022-02-27</th>\n",
       "      <td>0.035189</td>\n",
       "    </tr>\n",
       "    <tr>\n",
       "      <th>2022-02-28</th>\n",
       "      <td>0.025210</td>\n",
       "    </tr>\n",
       "  </tbody>\n",
       "</table>\n",
       "</div>"
      ],
      "text/plain": [
       "                  result\n",
       "date_extracted          \n",
       "2022-02-24      0.022676\n",
       "2022-02-25      0.021433\n",
       "2022-02-26      0.053351\n",
       "2022-02-27      0.035189\n",
       "2022-02-28      0.025210"
      ]
     },
     "execution_count": 116,
     "metadata": {},
     "output_type": "execute_result"
    }
   ],
   "source": [
    "tsdf.head()"
   ]
  },
  {
   "cell_type": "code",
   "execution_count": 119,
   "id": "99ee63fc",
   "metadata": {},
   "outputs": [],
   "source": [
    "# save point for dataframe\n",
    "tsdf.to_csv('timeseries_tweet.csv')"
   ]
  },
  {
   "cell_type": "code",
   "execution_count": 120,
   "id": "d2652161",
   "metadata": {},
   "outputs": [
    {
     "ename": "KeyError",
     "evalue": "'date_extracted'",
     "output_type": "error",
     "traceback": [
      "\u001b[0;31m---------------------------------------------------------------------------\u001b[0m",
      "\u001b[0;31mKeyError\u001b[0m                                  Traceback (most recent call last)",
      "\u001b[0;32m~/.local/lib/python3.10/site-packages/pandas/core/indexes/base.py\u001b[0m in \u001b[0;36mget_loc\u001b[0;34m(self, key, method, tolerance)\u001b[0m\n\u001b[1;32m   3801\u001b[0m             \u001b[0;32mtry\u001b[0m\u001b[0;34m:\u001b[0m\u001b[0;34m\u001b[0m\u001b[0;34m\u001b[0m\u001b[0m\n\u001b[0;32m-> 3802\u001b[0;31m                 \u001b[0;32mreturn\u001b[0m \u001b[0mself\u001b[0m\u001b[0;34m.\u001b[0m\u001b[0m_engine\u001b[0m\u001b[0;34m.\u001b[0m\u001b[0mget_loc\u001b[0m\u001b[0;34m(\u001b[0m\u001b[0mcasted_key\u001b[0m\u001b[0;34m)\u001b[0m\u001b[0;34m\u001b[0m\u001b[0;34m\u001b[0m\u001b[0m\n\u001b[0m\u001b[1;32m   3803\u001b[0m             \u001b[0;32mexcept\u001b[0m \u001b[0mKeyError\u001b[0m \u001b[0;32mas\u001b[0m \u001b[0merr\u001b[0m\u001b[0;34m:\u001b[0m\u001b[0;34m\u001b[0m\u001b[0;34m\u001b[0m\u001b[0m\n",
      "\u001b[0;32m~/.local/lib/python3.10/site-packages/pandas/_libs/index.pyx\u001b[0m in \u001b[0;36mpandas._libs.index.IndexEngine.get_loc\u001b[0;34m()\u001b[0m\n",
      "\u001b[0;32m~/.local/lib/python3.10/site-packages/pandas/_libs/index.pyx\u001b[0m in \u001b[0;36mpandas._libs.index.IndexEngine.get_loc\u001b[0;34m()\u001b[0m\n",
      "\u001b[0;32mpandas/_libs/hashtable_class_helper.pxi\u001b[0m in \u001b[0;36mpandas._libs.hashtable.PyObjectHashTable.get_item\u001b[0;34m()\u001b[0m\n",
      "\u001b[0;32mpandas/_libs/hashtable_class_helper.pxi\u001b[0m in \u001b[0;36mpandas._libs.hashtable.PyObjectHashTable.get_item\u001b[0;34m()\u001b[0m\n",
      "\u001b[0;31mKeyError\u001b[0m: 'date_extracted'",
      "\nThe above exception was the direct cause of the following exception:\n",
      "\u001b[0;31mKeyError\u001b[0m                                  Traceback (most recent call last)",
      "\u001b[0;32m/tmp/ipykernel_25115/11002017.py\u001b[0m in \u001b[0;36m<module>\u001b[0;34m\u001b[0m\n\u001b[0;32m----> 1\u001b[0;31m \u001b[0mtsdf\u001b[0m\u001b[0;34m[\u001b[0m\u001b[0;34m'date_extracted'\u001b[0m\u001b[0;34m]\u001b[0m \u001b[0;34m=\u001b[0m \u001b[0mpd\u001b[0m\u001b[0;34m.\u001b[0m\u001b[0mto_datetime\u001b[0m\u001b[0;34m(\u001b[0m\u001b[0mtsdf\u001b[0m\u001b[0;34m[\u001b[0m\u001b[0;34m'date_extracted'\u001b[0m\u001b[0;34m]\u001b[0m\u001b[0;34m)\u001b[0m\u001b[0;34m\u001b[0m\u001b[0;34m\u001b[0m\u001b[0m\n\u001b[0m\u001b[1;32m      2\u001b[0m \u001b[0mtsdf\u001b[0m\u001b[0;34m.\u001b[0m\u001b[0mset_index\u001b[0m\u001b[0;34m(\u001b[0m\u001b[0;34m'date_extracted'\u001b[0m\u001b[0;34m,\u001b[0m\u001b[0minplace\u001b[0m\u001b[0;34m=\u001b[0m\u001b[0;32mTrue\u001b[0m\u001b[0;34m)\u001b[0m\u001b[0;34m\u001b[0m\u001b[0;34m\u001b[0m\u001b[0m\n",
      "\u001b[0;32m~/.local/lib/python3.10/site-packages/pandas/core/frame.py\u001b[0m in \u001b[0;36m__getitem__\u001b[0;34m(self, key)\u001b[0m\n\u001b[1;32m   3805\u001b[0m             \u001b[0;32mif\u001b[0m \u001b[0mself\u001b[0m\u001b[0;34m.\u001b[0m\u001b[0mcolumns\u001b[0m\u001b[0;34m.\u001b[0m\u001b[0mnlevels\u001b[0m \u001b[0;34m>\u001b[0m \u001b[0;36m1\u001b[0m\u001b[0;34m:\u001b[0m\u001b[0;34m\u001b[0m\u001b[0;34m\u001b[0m\u001b[0m\n\u001b[1;32m   3806\u001b[0m                 \u001b[0;32mreturn\u001b[0m \u001b[0mself\u001b[0m\u001b[0;34m.\u001b[0m\u001b[0m_getitem_multilevel\u001b[0m\u001b[0;34m(\u001b[0m\u001b[0mkey\u001b[0m\u001b[0;34m)\u001b[0m\u001b[0;34m\u001b[0m\u001b[0;34m\u001b[0m\u001b[0m\n\u001b[0;32m-> 3807\u001b[0;31m             \u001b[0mindexer\u001b[0m \u001b[0;34m=\u001b[0m \u001b[0mself\u001b[0m\u001b[0;34m.\u001b[0m\u001b[0mcolumns\u001b[0m\u001b[0;34m.\u001b[0m\u001b[0mget_loc\u001b[0m\u001b[0;34m(\u001b[0m\u001b[0mkey\u001b[0m\u001b[0;34m)\u001b[0m\u001b[0;34m\u001b[0m\u001b[0;34m\u001b[0m\u001b[0m\n\u001b[0m\u001b[1;32m   3808\u001b[0m             \u001b[0;32mif\u001b[0m \u001b[0mis_integer\u001b[0m\u001b[0;34m(\u001b[0m\u001b[0mindexer\u001b[0m\u001b[0;34m)\u001b[0m\u001b[0;34m:\u001b[0m\u001b[0;34m\u001b[0m\u001b[0;34m\u001b[0m\u001b[0m\n\u001b[1;32m   3809\u001b[0m                 \u001b[0mindexer\u001b[0m \u001b[0;34m=\u001b[0m \u001b[0;34m[\u001b[0m\u001b[0mindexer\u001b[0m\u001b[0;34m]\u001b[0m\u001b[0;34m\u001b[0m\u001b[0;34m\u001b[0m\u001b[0m\n",
      "\u001b[0;32m~/.local/lib/python3.10/site-packages/pandas/core/indexes/base.py\u001b[0m in \u001b[0;36mget_loc\u001b[0;34m(self, key, method, tolerance)\u001b[0m\n\u001b[1;32m   3802\u001b[0m                 \u001b[0;32mreturn\u001b[0m \u001b[0mself\u001b[0m\u001b[0;34m.\u001b[0m\u001b[0m_engine\u001b[0m\u001b[0;34m.\u001b[0m\u001b[0mget_loc\u001b[0m\u001b[0;34m(\u001b[0m\u001b[0mcasted_key\u001b[0m\u001b[0;34m)\u001b[0m\u001b[0;34m\u001b[0m\u001b[0;34m\u001b[0m\u001b[0m\n\u001b[1;32m   3803\u001b[0m             \u001b[0;32mexcept\u001b[0m \u001b[0mKeyError\u001b[0m \u001b[0;32mas\u001b[0m \u001b[0merr\u001b[0m\u001b[0;34m:\u001b[0m\u001b[0;34m\u001b[0m\u001b[0;34m\u001b[0m\u001b[0m\n\u001b[0;32m-> 3804\u001b[0;31m                 \u001b[0;32mraise\u001b[0m \u001b[0mKeyError\u001b[0m\u001b[0;34m(\u001b[0m\u001b[0mkey\u001b[0m\u001b[0;34m)\u001b[0m \u001b[0;32mfrom\u001b[0m \u001b[0merr\u001b[0m\u001b[0;34m\u001b[0m\u001b[0;34m\u001b[0m\u001b[0m\n\u001b[0m\u001b[1;32m   3805\u001b[0m             \u001b[0;32mexcept\u001b[0m \u001b[0mTypeError\u001b[0m\u001b[0;34m:\u001b[0m\u001b[0;34m\u001b[0m\u001b[0;34m\u001b[0m\u001b[0m\n\u001b[1;32m   3806\u001b[0m                 \u001b[0;31m# If we have a listlike key, _check_indexing_error will raise\u001b[0m\u001b[0;34m\u001b[0m\u001b[0;34m\u001b[0m\u001b[0m\n",
      "\u001b[0;31mKeyError\u001b[0m: 'date_extracted'"
     ]
    }
   ],
   "source": [
    "tsdf['date_extracted'] = pd.to_datetime(tsdf['date_extracted'])\n",
    "tsdf.set_index('date_extracted',inplace=True)"
   ]
  },
  {
   "cell_type": "code",
   "execution_count": 45,
   "id": "c335c083",
   "metadata": {},
   "outputs": [
    {
     "data": {
      "text/html": [
       "<div>\n",
       "<style scoped>\n",
       "    .dataframe tbody tr th:only-of-type {\n",
       "        vertical-align: middle;\n",
       "    }\n",
       "\n",
       "    .dataframe tbody tr th {\n",
       "        vertical-align: top;\n",
       "    }\n",
       "\n",
       "    .dataframe thead th {\n",
       "        text-align: right;\n",
       "    }\n",
       "</style>\n",
       "<table border=\"1\" class=\"dataframe\">\n",
       "  <thead>\n",
       "    <tr style=\"text-align: right;\">\n",
       "      <th></th>\n",
       "      <th>result</th>\n",
       "    </tr>\n",
       "    <tr>\n",
       "      <th>date_extracted</th>\n",
       "      <th></th>\n",
       "    </tr>\n",
       "  </thead>\n",
       "  <tbody>\n",
       "    <tr>\n",
       "      <th>2022-02-24</th>\n",
       "      <td>0.022676</td>\n",
       "    </tr>\n",
       "    <tr>\n",
       "      <th>2022-02-25</th>\n",
       "      <td>0.021433</td>\n",
       "    </tr>\n",
       "    <tr>\n",
       "      <th>2022-02-26</th>\n",
       "      <td>0.053351</td>\n",
       "    </tr>\n",
       "    <tr>\n",
       "      <th>2022-02-27</th>\n",
       "      <td>0.035189</td>\n",
       "    </tr>\n",
       "    <tr>\n",
       "      <th>2022-02-28</th>\n",
       "      <td>0.025210</td>\n",
       "    </tr>\n",
       "  </tbody>\n",
       "</table>\n",
       "</div>"
      ],
      "text/plain": [
       "                  result\n",
       "date_extracted          \n",
       "2022-02-24      0.022676\n",
       "2022-02-25      0.021433\n",
       "2022-02-26      0.053351\n",
       "2022-02-27      0.035189\n",
       "2022-02-28      0.025210"
      ]
     },
     "execution_count": 45,
     "metadata": {},
     "output_type": "execute_result"
    }
   ],
   "source": [
    "tsdf.head()"
   ]
  },
  {
   "cell_type": "markdown",
   "id": "029e514d",
   "metadata": {},
   "source": [
    "# Ukraine weather data."
   ]
  },
  {
   "cell_type": "code",
   "execution_count": 95,
   "id": "a1f228a4",
   "metadata": {},
   "outputs": [
    {
     "data": {
      "text/html": [
       "<div>\n",
       "<style scoped>\n",
       "    .dataframe tbody tr th:only-of-type {\n",
       "        vertical-align: middle;\n",
       "    }\n",
       "\n",
       "    .dataframe tbody tr th {\n",
       "        vertical-align: top;\n",
       "    }\n",
       "\n",
       "    .dataframe thead th {\n",
       "        text-align: right;\n",
       "    }\n",
       "</style>\n",
       "<table border=\"1\" class=\"dataframe\">\n",
       "  <thead>\n",
       "    <tr style=\"text-align: right;\">\n",
       "      <th></th>\n",
       "      <th>name</th>\n",
       "      <th>datetime</th>\n",
       "      <th>tempmax</th>\n",
       "      <th>tempmin</th>\n",
       "      <th>temp</th>\n",
       "      <th>feelslikemax</th>\n",
       "      <th>feelslikemin</th>\n",
       "      <th>feelslike</th>\n",
       "      <th>dew</th>\n",
       "      <th>humidity</th>\n",
       "      <th>...</th>\n",
       "      <th>solarenergy</th>\n",
       "      <th>uvindex</th>\n",
       "      <th>severerisk</th>\n",
       "      <th>sunrise</th>\n",
       "      <th>sunset</th>\n",
       "      <th>moonphase</th>\n",
       "      <th>conditions</th>\n",
       "      <th>description</th>\n",
       "      <th>icon</th>\n",
       "      <th>stations</th>\n",
       "    </tr>\n",
       "  </thead>\n",
       "  <tbody>\n",
       "    <tr>\n",
       "      <th>0</th>\n",
       "      <td>ukraine</td>\n",
       "      <td>2022-02-24</td>\n",
       "      <td>5.3</td>\n",
       "      <td>1.9</td>\n",
       "      <td>2.9</td>\n",
       "      <td>5.3</td>\n",
       "      <td>-0.6</td>\n",
       "      <td>1.9</td>\n",
       "      <td>1.2</td>\n",
       "      <td>88.9</td>\n",
       "      <td>...</td>\n",
       "      <td>2.8</td>\n",
       "      <td>2</td>\n",
       "      <td>10</td>\n",
       "      <td>2022-02-24T06:52:22</td>\n",
       "      <td>2022-02-24T17:30:44</td>\n",
       "      <td>0.75</td>\n",
       "      <td>Snow, Rain, Overcast</td>\n",
       "      <td>Cloudy skies throughout the day with morning r...</td>\n",
       "      <td>rain</td>\n",
       "      <td>UKKK,UKBB,33347099999,33345199999,33345099999,...</td>\n",
       "    </tr>\n",
       "    <tr>\n",
       "      <th>1</th>\n",
       "      <td>ukraine</td>\n",
       "      <td>2022-02-25</td>\n",
       "      <td>6.0</td>\n",
       "      <td>-1.0</td>\n",
       "      <td>2.6</td>\n",
       "      <td>4.5</td>\n",
       "      <td>-1.0</td>\n",
       "      <td>1.2</td>\n",
       "      <td>-0.4</td>\n",
       "      <td>81.9</td>\n",
       "      <td>...</td>\n",
       "      <td>10.9</td>\n",
       "      <td>4</td>\n",
       "      <td>10</td>\n",
       "      <td>2022-02-25T06:50:21</td>\n",
       "      <td>2022-02-25T17:32:27</td>\n",
       "      <td>0.81</td>\n",
       "      <td>Partially cloudy</td>\n",
       "      <td>Partly cloudy throughout the day.</td>\n",
       "      <td>partly-cloudy-day</td>\n",
       "      <td>UKKK,33345099999</td>\n",
       "    </tr>\n",
       "    <tr>\n",
       "      <th>2</th>\n",
       "      <td>ukraine</td>\n",
       "      <td>2022-02-26</td>\n",
       "      <td>8.0</td>\n",
       "      <td>0.0</td>\n",
       "      <td>3.8</td>\n",
       "      <td>4.7</td>\n",
       "      <td>-3.1</td>\n",
       "      <td>0.8</td>\n",
       "      <td>-2.7</td>\n",
       "      <td>65.9</td>\n",
       "      <td>...</td>\n",
       "      <td>10.4</td>\n",
       "      <td>4</td>\n",
       "      <td>10</td>\n",
       "      <td>2022-02-26T06:48:19</td>\n",
       "      <td>2022-02-26T17:34:10</td>\n",
       "      <td>0.85</td>\n",
       "      <td>Partially cloudy</td>\n",
       "      <td>Partly cloudy throughout the day.</td>\n",
       "      <td>partly-cloudy-day</td>\n",
       "      <td>UKKK,33345099999,remote</td>\n",
       "    </tr>\n",
       "    <tr>\n",
       "      <th>3</th>\n",
       "      <td>ukraine</td>\n",
       "      <td>2022-02-27</td>\n",
       "      <td>4.8</td>\n",
       "      <td>-0.9</td>\n",
       "      <td>1.3</td>\n",
       "      <td>1.9</td>\n",
       "      <td>-3.9</td>\n",
       "      <td>-1.5</td>\n",
       "      <td>-4.6</td>\n",
       "      <td>66.0</td>\n",
       "      <td>...</td>\n",
       "      <td>7.2</td>\n",
       "      <td>3</td>\n",
       "      <td>10</td>\n",
       "      <td>2022-02-27T06:46:16</td>\n",
       "      <td>2022-02-27T17:35:52</td>\n",
       "      <td>0.88</td>\n",
       "      <td>Partially cloudy</td>\n",
       "      <td>Partly cloudy throughout the day.</td>\n",
       "      <td>partly-cloudy-day</td>\n",
       "      <td>remote</td>\n",
       "    </tr>\n",
       "    <tr>\n",
       "      <th>4</th>\n",
       "      <td>ukraine</td>\n",
       "      <td>2022-02-28</td>\n",
       "      <td>2.8</td>\n",
       "      <td>-3.6</td>\n",
       "      <td>-0.7</td>\n",
       "      <td>-1.3</td>\n",
       "      <td>-7.6</td>\n",
       "      <td>-4.5</td>\n",
       "      <td>-6.9</td>\n",
       "      <td>64.4</td>\n",
       "      <td>...</td>\n",
       "      <td>11.9</td>\n",
       "      <td>4</td>\n",
       "      <td>10</td>\n",
       "      <td>2022-02-28T06:44:12</td>\n",
       "      <td>2022-02-28T17:37:34</td>\n",
       "      <td>0.92</td>\n",
       "      <td>Partially cloudy</td>\n",
       "      <td>Partly cloudy throughout the day.</td>\n",
       "      <td>partly-cloudy-day</td>\n",
       "      <td>remote</td>\n",
       "    </tr>\n",
       "  </tbody>\n",
       "</table>\n",
       "<p>5 rows × 33 columns</p>\n",
       "</div>"
      ],
      "text/plain": [
       "      name    datetime  tempmax  tempmin  temp  feelslikemax  feelslikemin  \\\n",
       "0  ukraine  2022-02-24      5.3      1.9   2.9           5.3          -0.6   \n",
       "1  ukraine  2022-02-25      6.0     -1.0   2.6           4.5          -1.0   \n",
       "2  ukraine  2022-02-26      8.0      0.0   3.8           4.7          -3.1   \n",
       "3  ukraine  2022-02-27      4.8     -0.9   1.3           1.9          -3.9   \n",
       "4  ukraine  2022-02-28      2.8     -3.6  -0.7          -1.3          -7.6   \n",
       "\n",
       "   feelslike  dew  humidity  ...  solarenergy  uvindex  severerisk  \\\n",
       "0        1.9  1.2      88.9  ...          2.8        2          10   \n",
       "1        1.2 -0.4      81.9  ...         10.9        4          10   \n",
       "2        0.8 -2.7      65.9  ...         10.4        4          10   \n",
       "3       -1.5 -4.6      66.0  ...          7.2        3          10   \n",
       "4       -4.5 -6.9      64.4  ...         11.9        4          10   \n",
       "\n",
       "               sunrise               sunset  moonphase            conditions  \\\n",
       "0  2022-02-24T06:52:22  2022-02-24T17:30:44       0.75  Snow, Rain, Overcast   \n",
       "1  2022-02-25T06:50:21  2022-02-25T17:32:27       0.81      Partially cloudy   \n",
       "2  2022-02-26T06:48:19  2022-02-26T17:34:10       0.85      Partially cloudy   \n",
       "3  2022-02-27T06:46:16  2022-02-27T17:35:52       0.88      Partially cloudy   \n",
       "4  2022-02-28T06:44:12  2022-02-28T17:37:34       0.92      Partially cloudy   \n",
       "\n",
       "                                         description               icon  \\\n",
       "0  Cloudy skies throughout the day with morning r...               rain   \n",
       "1                  Partly cloudy throughout the day.  partly-cloudy-day   \n",
       "2                  Partly cloudy throughout the day.  partly-cloudy-day   \n",
       "3                  Partly cloudy throughout the day.  partly-cloudy-day   \n",
       "4                  Partly cloudy throughout the day.  partly-cloudy-day   \n",
       "\n",
       "                                            stations  \n",
       "0  UKKK,UKBB,33347099999,33345199999,33345099999,...  \n",
       "1                                   UKKK,33345099999  \n",
       "2                            UKKK,33345099999,remote  \n",
       "3                                             remote  \n",
       "4                                             remote  \n",
       "\n",
       "[5 rows x 33 columns]"
      ]
     },
     "execution_count": 95,
     "metadata": {},
     "output_type": "execute_result"
    }
   ],
   "source": [
    "uw = pd.read_csv('ukraine 2022-02-24 to 2023-06-08.csv')\n",
    "uw.head()"
   ]
  },
  {
   "cell_type": "code",
   "execution_count": 96,
   "id": "6e93c75a",
   "metadata": {},
   "outputs": [
    {
     "name": "stdout",
     "output_type": "stream",
     "text": [
      "<class 'pandas.core.frame.DataFrame'>\n",
      "RangeIndex: 470 entries, 0 to 469\n",
      "Data columns (total 33 columns):\n",
      " #   Column            Non-Null Count  Dtype  \n",
      "---  ------            --------------  -----  \n",
      " 0   name              470 non-null    object \n",
      " 1   datetime          470 non-null    object \n",
      " 2   tempmax           470 non-null    float64\n",
      " 3   tempmin           470 non-null    float64\n",
      " 4   temp              470 non-null    float64\n",
      " 5   feelslikemax      470 non-null    float64\n",
      " 6   feelslikemin      470 non-null    float64\n",
      " 7   feelslike         470 non-null    float64\n",
      " 8   dew               470 non-null    float64\n",
      " 9   humidity          470 non-null    float64\n",
      " 10  precip            470 non-null    float64\n",
      " 11  precipprob        470 non-null    float64\n",
      " 12  precipcover       470 non-null    float64\n",
      " 13  preciptype        301 non-null    object \n",
      " 14  snow              470 non-null    float64\n",
      " 15  snowdepth         470 non-null    float64\n",
      " 16  windgust          470 non-null    float64\n",
      " 17  windspeed         470 non-null    float64\n",
      " 18  winddir           470 non-null    float64\n",
      " 19  sealevelpressure  470 non-null    float64\n",
      " 20  cloudcover        470 non-null    float64\n",
      " 21  visibility        470 non-null    float64\n",
      " 22  solarradiation    470 non-null    float64\n",
      " 23  solarenergy       470 non-null    float64\n",
      " 24  uvindex           470 non-null    int64  \n",
      " 25  severerisk        470 non-null    int64  \n",
      " 26  sunrise           470 non-null    object \n",
      " 27  sunset            470 non-null    object \n",
      " 28  moonphase         470 non-null    float64\n",
      " 29  conditions        470 non-null    object \n",
      " 30  description       470 non-null    object \n",
      " 31  icon              470 non-null    object \n",
      " 32  stations          456 non-null    object \n",
      "dtypes: float64(22), int64(2), object(9)\n",
      "memory usage: 121.3+ KB\n"
     ]
    }
   ],
   "source": [
    "uw.info()"
   ]
  },
  {
   "cell_type": "code",
   "execution_count": 97,
   "id": "e1473b19",
   "metadata": {},
   "outputs": [],
   "source": [
    "#convert date column to datetime object\n",
    "uw['datetime'] = pd.to_datetime(uw['datetime'], format='%Y-%m-%d')"
   ]
  },
  {
   "cell_type": "code",
   "execution_count": 98,
   "id": "097a56f5",
   "metadata": {},
   "outputs": [],
   "source": [
    "uw1 = uw[['feelslikemax','datetime']]"
   ]
  },
  {
   "cell_type": "code",
   "execution_count": 99,
   "id": "c840c66d",
   "metadata": {},
   "outputs": [
    {
     "data": {
      "text/html": [
       "<div>\n",
       "<style scoped>\n",
       "    .dataframe tbody tr th:only-of-type {\n",
       "        vertical-align: middle;\n",
       "    }\n",
       "\n",
       "    .dataframe tbody tr th {\n",
       "        vertical-align: top;\n",
       "    }\n",
       "\n",
       "    .dataframe thead th {\n",
       "        text-align: right;\n",
       "    }\n",
       "</style>\n",
       "<table border=\"1\" class=\"dataframe\">\n",
       "  <thead>\n",
       "    <tr style=\"text-align: right;\">\n",
       "      <th></th>\n",
       "      <th>feelslikemax</th>\n",
       "      <th>datetime</th>\n",
       "    </tr>\n",
       "  </thead>\n",
       "  <tbody>\n",
       "    <tr>\n",
       "      <th>0</th>\n",
       "      <td>5.3</td>\n",
       "      <td>2022-02-24</td>\n",
       "    </tr>\n",
       "    <tr>\n",
       "      <th>1</th>\n",
       "      <td>4.5</td>\n",
       "      <td>2022-02-25</td>\n",
       "    </tr>\n",
       "    <tr>\n",
       "      <th>2</th>\n",
       "      <td>4.7</td>\n",
       "      <td>2022-02-26</td>\n",
       "    </tr>\n",
       "    <tr>\n",
       "      <th>3</th>\n",
       "      <td>1.9</td>\n",
       "      <td>2022-02-27</td>\n",
       "    </tr>\n",
       "    <tr>\n",
       "      <th>4</th>\n",
       "      <td>-1.3</td>\n",
       "      <td>2022-02-28</td>\n",
       "    </tr>\n",
       "  </tbody>\n",
       "</table>\n",
       "</div>"
      ],
      "text/plain": [
       "   feelslikemax   datetime\n",
       "0           5.3 2022-02-24\n",
       "1           4.5 2022-02-25\n",
       "2           4.7 2022-02-26\n",
       "3           1.9 2022-02-27\n",
       "4          -1.3 2022-02-28"
      ]
     },
     "execution_count": 99,
     "metadata": {},
     "output_type": "execute_result"
    }
   ],
   "source": [
    "uw1.head()"
   ]
  },
  {
   "cell_type": "code",
   "execution_count": 100,
   "id": "6bfa48f3",
   "metadata": {},
   "outputs": [
    {
     "name": "stdout",
     "output_type": "stream",
     "text": [
      "<class 'pandas.core.frame.DataFrame'>\n",
      "RangeIndex: 470 entries, 0 to 469\n",
      "Data columns (total 2 columns):\n",
      " #   Column        Non-Null Count  Dtype         \n",
      "---  ------        --------------  -----         \n",
      " 0   feelslikemax  470 non-null    float64       \n",
      " 1   datetime      470 non-null    datetime64[ns]\n",
      "dtypes: datetime64[ns](1), float64(1)\n",
      "memory usage: 7.5 KB\n"
     ]
    }
   ],
   "source": [
    "uw1.info()"
   ]
  },
  {
   "cell_type": "code",
   "execution_count": 101,
   "id": "1a84888a",
   "metadata": {},
   "outputs": [
    {
     "data": {
      "text/html": [
       "<div>\n",
       "<style scoped>\n",
       "    .dataframe tbody tr th:only-of-type {\n",
       "        vertical-align: middle;\n",
       "    }\n",
       "\n",
       "    .dataframe tbody tr th {\n",
       "        vertical-align: top;\n",
       "    }\n",
       "\n",
       "    .dataframe thead th {\n",
       "        text-align: right;\n",
       "    }\n",
       "</style>\n",
       "<table border=\"1\" class=\"dataframe\">\n",
       "  <thead>\n",
       "    <tr style=\"text-align: right;\">\n",
       "      <th></th>\n",
       "      <th>feelslikemax</th>\n",
       "      <th>datetime</th>\n",
       "    </tr>\n",
       "  </thead>\n",
       "  <tbody>\n",
       "    <tr>\n",
       "      <th>0</th>\n",
       "      <td>5.3</td>\n",
       "      <td>2022-02-24</td>\n",
       "    </tr>\n",
       "    <tr>\n",
       "      <th>1</th>\n",
       "      <td>4.5</td>\n",
       "      <td>2022-02-25</td>\n",
       "    </tr>\n",
       "    <tr>\n",
       "      <th>2</th>\n",
       "      <td>4.7</td>\n",
       "      <td>2022-02-26</td>\n",
       "    </tr>\n",
       "    <tr>\n",
       "      <th>3</th>\n",
       "      <td>1.9</td>\n",
       "      <td>2022-02-27</td>\n",
       "    </tr>\n",
       "    <tr>\n",
       "      <th>4</th>\n",
       "      <td>-1.3</td>\n",
       "      <td>2022-02-28</td>\n",
       "    </tr>\n",
       "  </tbody>\n",
       "</table>\n",
       "</div>"
      ],
      "text/plain": [
       "   feelslikemax   datetime\n",
       "0           5.3 2022-02-24\n",
       "1           4.5 2022-02-25\n",
       "2           4.7 2022-02-26\n",
       "3           1.9 2022-02-27\n",
       "4          -1.3 2022-02-28"
      ]
     },
     "execution_count": 101,
     "metadata": {},
     "output_type": "execute_result"
    }
   ],
   "source": [
    "uw2 = uw1[uw1['datetime'] > pd.to_datetime(\"2022-02-23\", format='%Y-%m-%d')]\n",
    "uw2.head()"
   ]
  },
  {
   "cell_type": "code",
   "execution_count": 102,
   "id": "5c16e21a",
   "metadata": {},
   "outputs": [],
   "source": [
    "uw2.set_index('datetime', inplace=True)"
   ]
  },
  {
   "cell_type": "code",
   "execution_count": 103,
   "id": "68d958d6",
   "metadata": {},
   "outputs": [
    {
     "data": {
      "text/html": [
       "<div>\n",
       "<style scoped>\n",
       "    .dataframe tbody tr th:only-of-type {\n",
       "        vertical-align: middle;\n",
       "    }\n",
       "\n",
       "    .dataframe tbody tr th {\n",
       "        vertical-align: top;\n",
       "    }\n",
       "\n",
       "    .dataframe thead th {\n",
       "        text-align: right;\n",
       "    }\n",
       "</style>\n",
       "<table border=\"1\" class=\"dataframe\">\n",
       "  <thead>\n",
       "    <tr style=\"text-align: right;\">\n",
       "      <th></th>\n",
       "      <th>feelslikemax</th>\n",
       "    </tr>\n",
       "    <tr>\n",
       "      <th>datetime</th>\n",
       "      <th></th>\n",
       "    </tr>\n",
       "  </thead>\n",
       "  <tbody>\n",
       "    <tr>\n",
       "      <th>2022-02-24</th>\n",
       "      <td>5.3</td>\n",
       "    </tr>\n",
       "    <tr>\n",
       "      <th>2022-02-25</th>\n",
       "      <td>4.5</td>\n",
       "    </tr>\n",
       "    <tr>\n",
       "      <th>2022-02-26</th>\n",
       "      <td>4.7</td>\n",
       "    </tr>\n",
       "    <tr>\n",
       "      <th>2022-02-27</th>\n",
       "      <td>1.9</td>\n",
       "    </tr>\n",
       "    <tr>\n",
       "      <th>2022-02-28</th>\n",
       "      <td>-1.3</td>\n",
       "    </tr>\n",
       "  </tbody>\n",
       "</table>\n",
       "</div>"
      ],
      "text/plain": [
       "            feelslikemax\n",
       "datetime                \n",
       "2022-02-24           5.3\n",
       "2022-02-25           4.5\n",
       "2022-02-26           4.7\n",
       "2022-02-27           1.9\n",
       "2022-02-28          -1.3"
      ]
     },
     "execution_count": 103,
     "metadata": {},
     "output_type": "execute_result"
    }
   ],
   "source": [
    "uw2.head()"
   ]
  },
  {
   "cell_type": "code",
   "execution_count": 104,
   "id": "b8db14b8",
   "metadata": {},
   "outputs": [
    {
     "name": "stdout",
     "output_type": "stream",
     "text": [
      "<class 'pandas.core.frame.DataFrame'>\n",
      "DatetimeIndex: 448 entries, 2022-02-24 to 2023-05-18\n",
      "Data columns (total 1 columns):\n",
      " #   Column  Non-Null Count  Dtype  \n",
      "---  ------  --------------  -----  \n",
      " 0   result  448 non-null    float64\n",
      "dtypes: float64(1)\n",
      "memory usage: 7.0 KB\n"
     ]
    }
   ],
   "source": [
    "tsdf.info()"
   ]
  },
  {
   "cell_type": "markdown",
   "id": "c415e4fd",
   "metadata": {},
   "source": [
    "# Time series analysis"
   ]
  },
  {
   "cell_type": "code",
   "execution_count": 121,
   "id": "a72b367a",
   "metadata": {},
   "outputs": [],
   "source": [
    "# pip install statsmodels\n",
    "from statsmodels.tsa.statespace.sarimax import SARIMAX\n",
    "from statsmodels.tsa.arima_model import ARIMA\n",
    "\n",
    "#relax the display limits on columns and rows\n",
    "pd.set_option('display.max_columns', None)\n",
    "pd.set_option('display.max_rows', None)"
   ]
  },
  {
   "cell_type": "code",
   "execution_count": 122,
   "id": "490aa2ba",
   "metadata": {},
   "outputs": [
    {
     "ename": "KeyError",
     "evalue": "'datetime'",
     "output_type": "error",
     "traceback": [
      "\u001b[0;31m---------------------------------------------------------------------------\u001b[0m",
      "\u001b[0;31mKeyError\u001b[0m                                  Traceback (most recent call last)",
      "\u001b[0;32m~/.local/lib/python3.10/site-packages/pandas/core/indexes/base.py\u001b[0m in \u001b[0;36mget_loc\u001b[0;34m(self, key, method, tolerance)\u001b[0m\n\u001b[1;32m   3801\u001b[0m             \u001b[0;32mtry\u001b[0m\u001b[0;34m:\u001b[0m\u001b[0;34m\u001b[0m\u001b[0;34m\u001b[0m\u001b[0m\n\u001b[0;32m-> 3802\u001b[0;31m                 \u001b[0;32mreturn\u001b[0m \u001b[0mself\u001b[0m\u001b[0;34m.\u001b[0m\u001b[0m_engine\u001b[0m\u001b[0;34m.\u001b[0m\u001b[0mget_loc\u001b[0m\u001b[0;34m(\u001b[0m\u001b[0mcasted_key\u001b[0m\u001b[0;34m)\u001b[0m\u001b[0;34m\u001b[0m\u001b[0;34m\u001b[0m\u001b[0m\n\u001b[0m\u001b[1;32m   3803\u001b[0m             \u001b[0;32mexcept\u001b[0m \u001b[0mKeyError\u001b[0m \u001b[0;32mas\u001b[0m \u001b[0merr\u001b[0m\u001b[0;34m:\u001b[0m\u001b[0;34m\u001b[0m\u001b[0;34m\u001b[0m\u001b[0m\n",
      "\u001b[0;32m~/.local/lib/python3.10/site-packages/pandas/_libs/index.pyx\u001b[0m in \u001b[0;36mpandas._libs.index.IndexEngine.get_loc\u001b[0;34m()\u001b[0m\n",
      "\u001b[0;32m~/.local/lib/python3.10/site-packages/pandas/_libs/index.pyx\u001b[0m in \u001b[0;36mpandas._libs.index.IndexEngine.get_loc\u001b[0;34m()\u001b[0m\n",
      "\u001b[0;32mpandas/_libs/hashtable_class_helper.pxi\u001b[0m in \u001b[0;36mpandas._libs.hashtable.PyObjectHashTable.get_item\u001b[0;34m()\u001b[0m\n",
      "\u001b[0;32mpandas/_libs/hashtable_class_helper.pxi\u001b[0m in \u001b[0;36mpandas._libs.hashtable.PyObjectHashTable.get_item\u001b[0;34m()\u001b[0m\n",
      "\u001b[0;31mKeyError\u001b[0m: 'datetime'",
      "\nThe above exception was the direct cause of the following exception:\n",
      "\u001b[0;31mKeyError\u001b[0m                                  Traceback (most recent call last)",
      "\u001b[0;32m/tmp/ipykernel_25115/2670863487.py\u001b[0m in \u001b[0;36m<module>\u001b[0;34m\u001b[0m\n\u001b[0;32m----> 1\u001b[0;31m \u001b[0mtsdf\u001b[0m\u001b[0;34m[\u001b[0m\u001b[0;34m'datetime'\u001b[0m\u001b[0;34m]\u001b[0m \u001b[0;34m=\u001b[0m \u001b[0mpd\u001b[0m\u001b[0;34m.\u001b[0m\u001b[0mto_datetime\u001b[0m\u001b[0;34m(\u001b[0m\u001b[0mtsdf\u001b[0m\u001b[0;34m[\u001b[0m\u001b[0;34m'datetime'\u001b[0m\u001b[0;34m]\u001b[0m\u001b[0;34m)\u001b[0m\u001b[0;34m\u001b[0m\u001b[0;34m\u001b[0m\u001b[0m\n\u001b[0m\u001b[1;32m      2\u001b[0m \u001b[0mtsdf\u001b[0m\u001b[0;34m.\u001b[0m\u001b[0mset_index\u001b[0m\u001b[0;34m(\u001b[0m\u001b[0;34m'datetime'\u001b[0m\u001b[0;34m,\u001b[0m\u001b[0minplace\u001b[0m\u001b[0;34m=\u001b[0m\u001b[0;32mTrue\u001b[0m\u001b[0;34m)\u001b[0m\u001b[0;34m\u001b[0m\u001b[0;34m\u001b[0m\u001b[0m\n",
      "\u001b[0;32m~/.local/lib/python3.10/site-packages/pandas/core/frame.py\u001b[0m in \u001b[0;36m__getitem__\u001b[0;34m(self, key)\u001b[0m\n\u001b[1;32m   3805\u001b[0m             \u001b[0;32mif\u001b[0m \u001b[0mself\u001b[0m\u001b[0;34m.\u001b[0m\u001b[0mcolumns\u001b[0m\u001b[0;34m.\u001b[0m\u001b[0mnlevels\u001b[0m \u001b[0;34m>\u001b[0m \u001b[0;36m1\u001b[0m\u001b[0;34m:\u001b[0m\u001b[0;34m\u001b[0m\u001b[0;34m\u001b[0m\u001b[0m\n\u001b[1;32m   3806\u001b[0m                 \u001b[0;32mreturn\u001b[0m \u001b[0mself\u001b[0m\u001b[0;34m.\u001b[0m\u001b[0m_getitem_multilevel\u001b[0m\u001b[0;34m(\u001b[0m\u001b[0mkey\u001b[0m\u001b[0;34m)\u001b[0m\u001b[0;34m\u001b[0m\u001b[0;34m\u001b[0m\u001b[0m\n\u001b[0;32m-> 3807\u001b[0;31m             \u001b[0mindexer\u001b[0m \u001b[0;34m=\u001b[0m \u001b[0mself\u001b[0m\u001b[0;34m.\u001b[0m\u001b[0mcolumns\u001b[0m\u001b[0;34m.\u001b[0m\u001b[0mget_loc\u001b[0m\u001b[0;34m(\u001b[0m\u001b[0mkey\u001b[0m\u001b[0;34m)\u001b[0m\u001b[0;34m\u001b[0m\u001b[0;34m\u001b[0m\u001b[0m\n\u001b[0m\u001b[1;32m   3808\u001b[0m             \u001b[0;32mif\u001b[0m \u001b[0mis_integer\u001b[0m\u001b[0;34m(\u001b[0m\u001b[0mindexer\u001b[0m\u001b[0;34m)\u001b[0m\u001b[0;34m:\u001b[0m\u001b[0;34m\u001b[0m\u001b[0;34m\u001b[0m\u001b[0m\n\u001b[1;32m   3809\u001b[0m                 \u001b[0mindexer\u001b[0m \u001b[0;34m=\u001b[0m \u001b[0;34m[\u001b[0m\u001b[0mindexer\u001b[0m\u001b[0;34m]\u001b[0m\u001b[0;34m\u001b[0m\u001b[0;34m\u001b[0m\u001b[0m\n",
      "\u001b[0;32m~/.local/lib/python3.10/site-packages/pandas/core/indexes/base.py\u001b[0m in \u001b[0;36mget_loc\u001b[0;34m(self, key, method, tolerance)\u001b[0m\n\u001b[1;32m   3802\u001b[0m                 \u001b[0;32mreturn\u001b[0m \u001b[0mself\u001b[0m\u001b[0;34m.\u001b[0m\u001b[0m_engine\u001b[0m\u001b[0;34m.\u001b[0m\u001b[0mget_loc\u001b[0m\u001b[0;34m(\u001b[0m\u001b[0mcasted_key\u001b[0m\u001b[0;34m)\u001b[0m\u001b[0;34m\u001b[0m\u001b[0;34m\u001b[0m\u001b[0m\n\u001b[1;32m   3803\u001b[0m             \u001b[0;32mexcept\u001b[0m \u001b[0mKeyError\u001b[0m \u001b[0;32mas\u001b[0m \u001b[0merr\u001b[0m\u001b[0;34m:\u001b[0m\u001b[0;34m\u001b[0m\u001b[0;34m\u001b[0m\u001b[0m\n\u001b[0;32m-> 3804\u001b[0;31m                 \u001b[0;32mraise\u001b[0m \u001b[0mKeyError\u001b[0m\u001b[0;34m(\u001b[0m\u001b[0mkey\u001b[0m\u001b[0;34m)\u001b[0m \u001b[0;32mfrom\u001b[0m \u001b[0merr\u001b[0m\u001b[0;34m\u001b[0m\u001b[0;34m\u001b[0m\u001b[0m\n\u001b[0m\u001b[1;32m   3805\u001b[0m             \u001b[0;32mexcept\u001b[0m \u001b[0mTypeError\u001b[0m\u001b[0;34m:\u001b[0m\u001b[0;34m\u001b[0m\u001b[0;34m\u001b[0m\u001b[0m\n\u001b[1;32m   3806\u001b[0m                 \u001b[0;31m# If we have a listlike key, _check_indexing_error will raise\u001b[0m\u001b[0;34m\u001b[0m\u001b[0;34m\u001b[0m\u001b[0m\n",
      "\u001b[0;31mKeyError\u001b[0m: 'datetime'"
     ]
    }
   ],
   "source": [
    "tsdf['datetime'] = pd.to_datetime(tsdf['datetime'])\n",
    "tsdf.set_index('datetime',inplace=True)"
   ]
  },
  {
   "cell_type": "code",
   "execution_count": 123,
   "id": "193e0d55",
   "metadata": {},
   "outputs": [
    {
     "data": {
      "text/html": [
       "<div>\n",
       "<style scoped>\n",
       "    .dataframe tbody tr th:only-of-type {\n",
       "        vertical-align: middle;\n",
       "    }\n",
       "\n",
       "    .dataframe tbody tr th {\n",
       "        vertical-align: top;\n",
       "    }\n",
       "\n",
       "    .dataframe thead th {\n",
       "        text-align: right;\n",
       "    }\n",
       "</style>\n",
       "<table border=\"1\" class=\"dataframe\">\n",
       "  <thead>\n",
       "    <tr style=\"text-align: right;\">\n",
       "      <th></th>\n",
       "      <th>result</th>\n",
       "    </tr>\n",
       "    <tr>\n",
       "      <th>date_extracted</th>\n",
       "      <th></th>\n",
       "    </tr>\n",
       "  </thead>\n",
       "  <tbody>\n",
       "    <tr>\n",
       "      <th>2023-05-13</th>\n",
       "      <td>0.049336</td>\n",
       "    </tr>\n",
       "    <tr>\n",
       "      <th>2023-05-14</th>\n",
       "      <td>0.134309</td>\n",
       "    </tr>\n",
       "    <tr>\n",
       "      <th>2023-05-15</th>\n",
       "      <td>0.092732</td>\n",
       "    </tr>\n",
       "    <tr>\n",
       "      <th>2023-05-17</th>\n",
       "      <td>0.076367</td>\n",
       "    </tr>\n",
       "    <tr>\n",
       "      <th>2023-05-18</th>\n",
       "      <td>0.035929</td>\n",
       "    </tr>\n",
       "  </tbody>\n",
       "</table>\n",
       "</div>"
      ],
      "text/plain": [
       "                  result\n",
       "date_extracted          \n",
       "2023-05-13      0.049336\n",
       "2023-05-14      0.134309\n",
       "2023-05-15      0.092732\n",
       "2023-05-17      0.076367\n",
       "2023-05-18      0.035929"
      ]
     },
     "execution_count": 123,
     "metadata": {},
     "output_type": "execute_result"
    }
   ],
   "source": [
    "tsdf.tail()"
   ]
  },
  {
   "cell_type": "code",
   "execution_count": 108,
   "id": "1749b18f",
   "metadata": {},
   "outputs": [],
   "source": [
    "tsdfw = tsdf.join(uw2)"
   ]
  },
  {
   "cell_type": "code",
   "execution_count": 124,
   "id": "2bd1369d",
   "metadata": {},
   "outputs": [
    {
     "data": {
      "image/png": "[encoded data removed]",
      "text/plain": [
       "<Figure size 432x288 with 1 Axes>"
      ]
     },
     "metadata": {},
     "output_type": "display_data"
    }
   ],
   "source": [
    "# Seaborn plot of sentiment data\n",
    "sns.set()\n",
    "plt.title(' Ukraine sentiment score')\n",
    "plt.ylabel('Sentiment Score')\n",
    "plt.xlabel('Date')\n",
    "plt.xticks(rotation=45)\n",
    "plt.plot(tsdf.index,tsdf['result'], )\n",
    "plt.savefig(\"ukraine_sent_time_series.png\", dpi=300)"
   ]
  },
  {
   "cell_type": "code",
   "execution_count": 125,
   "id": "b680a3b3",
   "metadata": {},
   "outputs": [],
   "source": [
    "# Split the data in test and train data taking one year for training\n",
    "train = tsdf[tsdf.index < pd.to_datetime(\"2023-03-01\",format='%Y-%m-%d')]\n",
    "test = tsdf[tsdf.index >= pd.to_datetime(\"2023-03-01\",format='%Y-%m-%d')]"
   ]
  },
  {
   "cell_type": "code",
   "execution_count": 126,
   "id": "68cfdb6e",
   "metadata": {},
   "outputs": [
    {
     "data": {
      "image/png": "[encoded data removed]",
      "text/plain": [
       "<Figure size 432x288 with 1 Axes>"
      ]
     },
     "metadata": {},
     "output_type": "display_data"
    }
   ],
   "source": [
    "plt.title('Test Train split for SA')\n",
    "plt.plot(train, color='blue')\n",
    "plt.plot(test, color='red')\n",
    "plt.ylabel('Sentiment Score')\n",
    "plt.xlabel('Date')\n",
    "plt.xticks(rotation=45)\n",
    "#plt.plot(tsdf.index,tsdf['result'], )\n",
    "plt.savefig(\"Test_Train_split_for_SA.png\", dpi=300)"
   ]
  },
  {
   "cell_type": "code",
   "execution_count": 127,
   "id": "e2b2094e",
   "metadata": {},
   "outputs": [
    {
     "name": "stdout",
     "output_type": "stream",
     "text": [
      "ADF Statistic: -3.970185942886321\n",
      "p-value: 0.0015749295008655282\n",
      "Critial Values:\n",
      "   1%, -3.445299682487321\n",
      "Critial Values:\n",
      "   5%, -2.8681312035123967\n",
      "Critial Values:\n",
      "   10%, -2.570280872933884\n",
      "\n",
      "KPSS Statistic: 1.214148\n",
      "p-value: 0.010000\n",
      "Critial Values:\n",
      "   10%, 0.347\n",
      "Critial Values:\n",
      "   5%, 0.463\n",
      "Critial Values:\n",
      "   2.5%, 0.574\n",
      "Critial Values:\n",
      "   1%, 0.739\n"
     ]
    }
   ],
   "source": [
    "# Function to perform the Dickey-Fuller(ADF) test \n",
    "# and the Kwiatkowski-Phillips-Schmidt-Shin (KPSS) test to test for stationary\n",
    "# in the time series\n",
    "\n",
    "def adf_kpss_test(df,col_name):\n",
    "    \"\"\" Function to print the ADF and KPSS results of a time series dataframe\"\"\"\n",
    "    time_series = df[col_name]\n",
    "    adf_result = adfuller(time_series)\n",
    "    print(f'ADF Statistic: {adf_result[0]}')\n",
    "    print(f'p-value: {adf_result[1]}')\n",
    "    for key, value in adf_result[4].items():\n",
    "        print('Critial Values:')\n",
    "        print(f'   {key}, {value}')\n",
    "    \n",
    "    # KPSS Test\n",
    "    kpss_result = kpss(time_series, nlags='auto')\n",
    "    print('\\nKPSS Statistic: %f' % kpss_result[0])\n",
    "    print('p-value: %f' % kpss_result[1])\n",
    "    for key, value in kpss_result[3].items():\n",
    "        print('Critial Values:')\n",
    "        print(f'   {key}, {value}')\n",
    "adf_kpss_test(tsdf,'result')"
   ]
  },
  {
   "cell_type": "code",
   "execution_count": 128,
   "id": "7d99ef3a",
   "metadata": {},
   "outputs": [
    {
     "name": "stdout",
     "output_type": "stream",
     "text": [
      "RUNNING THE L-BFGS-B CODE\n",
      "\n",
      "           * * *\n",
      "\n",
      "Machine precision = 2.220D-16\n",
      " N =            3     M =           10\n",
      " This problem is unconstrained.\n",
      "\n",
      "At X0         0 variables are exactly at the bounds\n",
      "\n",
      "At iterate    0    f= -2.39745D+00    |proj g|=  1.56765D+00\n",
      "\n",
      "At iterate    5    f= -2.39784D+00    |proj g|=  6.76619D-01\n",
      "\n",
      "At iterate   10    f= -2.40508D+00    |proj g|=  5.57511D+00\n",
      "\n",
      "At iterate   15    f= -2.41144D+00    |proj g|=  3.96092D-03\n",
      "\n",
      "At iterate   20    f= -2.41145D+00    |proj g|=  1.42689D-01\n",
      "\n",
      "At iterate   25    f= -2.41253D+00    |proj g|=  9.78801D-01\n",
      "\n",
      "At iterate   30    f= -2.41391D+00    |proj g|=  9.46927D-03\n",
      "\n",
      "           * * *\n",
      "\n",
      "Tit   = total number of iterations\n",
      "Tnf   = total number of function evaluations\n",
      "Tnint = total number of segments explored during Cauchy searches\n",
      "Skip  = number of BFGS updates skipped\n",
      "Nact  = number of active bounds at final generalized Cauchy point\n",
      "Projg = norm of the final projected gradient\n",
      "F     = final function value\n",
      "\n",
      "           * * *\n",
      "\n",
      "   N    Tit     Tnf  Tnint  Skip  Nact     Projg        F\n",
      "    3     34     57      1     0     0   2.908D-05  -2.414D+00\n",
      "  F =  -2.4139094923740969     \n",
      "\n",
      "CONVERGENCE: REL_REDUCTION_OF_F_<=_FACTR*EPSMCH             \n",
      "\n",
      " Warning:  more than 10 function and gradient\n",
      "   evaluations in the last line search.  Termination\n",
      "   may possibly be caused by a bad search direction.\n"
     ]
    },
    {
     "data": {
      "image/png": "[encoded data removed]",
      "text/plain": [
       "<Figure size 432x288 with 1 Axes>"
      ]
     },
     "metadata": {},
     "output_type": "display_data"
    }
   ],
   "source": [
    "y = train['result']\n",
    "\n",
    "ARMAmodel = SARIMAX(y, order = (1, 0, 1))\n",
    "ARMAmodel = ARMAmodel.fit()\n",
    "\n",
    "y_pred = ARMAmodel.get_forecast(len(test.index))\n",
    "y_pred_df = y_pred.conf_int(alpha = 0.05) \n",
    "y_pred_df[\"Predictions\"] = ARMAmodel.predict(start = y_pred_df.index[0], \n",
    "                                             end = y_pred_df.index[-1])\n",
    "y_pred_df.index = test.index\n",
    "y_pred_outARMA = y_pred_df[\"Predictions\"] \n",
    "\n",
    "plt.plot(train, color = \"black\", label = 'Training')\n",
    "plt.plot(test, color = \"red\", label = 'Testing')\n",
    "plt.ylabel('Sentiment Score')\n",
    "plt.xlabel('Date')\n",
    "plt.xticks(rotation=45)\n",
    "plt.title(\"Test Train split for SA\")\n",
    "plt.plot(y_pred_outARMA, color='green', label = 'ARMA Predictions')\n",
    "plt.legend()\n",
    "plt.savefig(\"Test_Train_split_ARMA_Pred_SA.png\", dpi=300)\n",
    "plt.show()\n"
   ]
  },
  {
   "cell_type": "code",
   "execution_count": 129,
   "id": "5cea0dd7",
   "metadata": {},
   "outputs": [
    {
     "name": "stdout",
     "output_type": "stream",
     "text": [
      "ARMA RMSE:  0.02078733649950192\n"
     ]
    }
   ],
   "source": [
    "from sklearn.metrics import mean_squared_error\n",
    "\n",
    "arma_rmse = np.sqrt(mean_squared_error(test[\"result\"].values, y_pred_df[\"Predictions\"]))\n",
    "print(\"ARMA RMSE: \",arma_rmse)"
   ]
  },
  {
   "cell_type": "code",
   "execution_count": 130,
   "id": "31fae024",
   "metadata": {},
   "outputs": [
    {
     "name": "stdout",
     "output_type": "stream",
     "text": [
      "RUNNING THE L-BFGS-B CODE\n",
      "\n",
      "           * * *\n",
      "\n",
      "Machine precision = 2.220D-16\n",
      " N =            5     M =           10\n",
      " This problem is unconstrained.\n",
      "\n",
      "At X0         0 variables are exactly at the bounds\n",
      "\n",
      "At iterate    0    f= -2.33019D+00    |proj g|=  4.46058D+00\n",
      "\n",
      "At iterate    5    f= -2.33386D+00    |proj g|=  1.44178D+00\n",
      "\n",
      "At iterate   10    f= -2.34152D+00    |proj g|=  5.32513D-01\n",
      "\n",
      "At iterate   15    f= -2.34156D+00    |proj g|=  1.46381D-02\n",
      "\n",
      "At iterate   20    f= -2.34161D+00    |proj g|=  9.67725D-03\n",
      "\n",
      "At iterate   25    f= -2.34161D+00    |proj g|=  1.93672D-02\n",
      "\n",
      "At iterate   30    f= -2.34165D+00    |proj g|=  1.94618D-01\n",
      "\n",
      "At iterate   35    f= -2.34304D+00    |proj g|=  1.92568D-01\n",
      "\n",
      "At iterate   40    f= -2.34349D+00    |proj g|=  4.14559D-01\n",
      "\n",
      "At iterate   45    f= -2.34372D+00    |proj g|=  1.09033D-02\n",
      "  ys=-3.097E-06  -gs= 5.830E-06 BFGS update SKIPPED\n",
      "\n",
      "           * * *\n",
      "\n",
      "Tit   = total number of iterations\n",
      "Tnf   = total number of function evaluations\n",
      "Tnint = total number of segments explored during Cauchy searches\n",
      "Skip  = number of BFGS updates skipped\n",
      "Nact  = number of active bounds at final generalized Cauchy point\n",
      "Projg = norm of the final projected gradient\n",
      "F     = final function value\n",
      "\n",
      "           * * *\n",
      "\n",
      "   N    Tit     Tnf  Tnint  Skip  Nact     Projg        F\n",
      "    5     47     76      1     1     0   1.138D-02  -2.344D+00\n",
      "  F =  -2.3437187790178862     \n",
      "\n",
      "CONVERGENCE: REL_REDUCTION_OF_F_<=_FACTR*EPSMCH             \n",
      "\n",
      " Warning:  more than 10 function and gradient\n",
      "   evaluations in the last line search.  Termination\n",
      "   may possibly be caused by a bad search direction.\n"
     ]
    }
   ],
   "source": [
    "ARIMAmodel = SARIMAX(y, order = (2, 2, 2))\n",
    "#ARIMAmodel = SARIMAX(y, order = (2, 3, 2))\n",
    "#ARIMAmodel = SARIMAX(y, order = (5, 4, 2))\n",
    "ARIMAmodel = ARIMAmodel.fit()\n",
    "\n",
    "y_pred = ARIMAmodel.get_forecast(len(test.index))\n",
    "y_pred_df = y_pred.conf_int(alpha = 0.05) \n",
    "y_pred_df[\"Predictions\"] = ARIMAmodel.predict(start = y_pred_df.index[0],\n",
    "                                              end = y_pred_df.index[-1])\n",
    "y_pred_df.index = test.index\n",
    "y_pred_outARIMA = y_pred_df[\"Predictions\"]"
   ]
  },
  {
   "cell_type": "code",
   "execution_count": 131,
   "id": "be5b4d57",
   "metadata": {},
   "outputs": [
    {
     "data": {
      "image/png": "[encoded data removed]",
      "text/plain": [
       "<Figure size 432x288 with 1 Axes>"
      ]
     },
     "metadata": {},
     "output_type": "display_data"
    }
   ],
   "source": [
    "plt.plot(train, color = \"black\", label = 'Training')\n",
    "plt.plot(test, color = \"red\", label = 'Testing')\n",
    "plt.ylabel('BTC Price')\n",
    "plt.xlabel('Date')\n",
    "plt.xticks(rotation=45)\n",
    "plt.title(\"Train/Test split for ARIM SA Data\")\n",
    "plt.plot(y_pred_outARMA, color='green', label = 'ARMA Predictions')\n",
    "plt.plot(y_pred_outARIMA, color='Yellow', label = 'ARIMA Predictions')\n",
    "plt.legend()\n",
    "plt.savefig(\"Test_Train_split_ARIM_Pred_SA.png\", dpi=300)\n",
    "plt.show()"
   ]
  },
  {
   "cell_type": "code",
   "execution_count": 132,
   "id": "2692ff57",
   "metadata": {},
   "outputs": [
    {
     "name": "stdout",
     "output_type": "stream",
     "text": [
      "ARIMA RMSE:  0.022652437209927122\n"
     ]
    }
   ],
   "source": [
    "arima_rmse = np.sqrt(mean_squared_error(test[\"result\"].values, y_pred_df[\"Predictions\"]))\n",
    "print(\"ARIMA RMSE: \",arima_rmse)"
   ]
  },
  {
   "cell_type": "code",
   "execution_count": 133,
   "id": "13c961c4",
   "metadata": {},
   "outputs": [
    {
     "name": "stdout",
     "output_type": "stream",
     "text": [
      "RUNNING THE L-BFGS-B CODE\n",
      "\n",
      "           * * *\n",
      "\n",
      "Machine precision = 2.220D-16\n",
      " N =            9     M =           10\n",
      " This problem is unconstrained.\n",
      "\n",
      "At X0         0 variables are exactly at the bounds\n",
      "\n",
      "At iterate    0    f= -1.45231D+00    |proj g|=  8.52991D+00\n",
      "\n",
      "At iterate    5    f= -1.59146D+00    |proj g|=  2.73478D+00\n",
      "\n",
      "At iterate   10    f= -1.62005D+00    |proj g|=  6.07705D-01\n",
      "\n",
      "At iterate   15    f= -1.66157D+00    |proj g|=  6.61466D+00\n",
      "\n",
      "At iterate   20    f= -1.75908D+00    |proj g|=  2.06163D-01\n",
      "\n",
      "At iterate   25    f= -1.76393D+00    |proj g|=  4.79942D-01\n",
      "\n",
      "At iterate   30    f= -1.76990D+00    |proj g|=  9.15435D-01\n",
      "\n",
      "At iterate   35    f= -1.77138D+00    |proj g|=  5.64387D-02\n",
      "\n",
      "At iterate   40    f= -1.77158D+00    |proj g|=  3.81766D-01\n",
      "\n",
      "At iterate   45    f= -1.77334D+00    |proj g|=  1.76318D-01\n",
      "\n",
      "At iterate   50    f= -1.77648D+00    |proj g|=  1.10636D-01\n",
      "\n",
      "           * * *\n",
      "\n",
      "Tit   = total number of iterations\n",
      "Tnf   = total number of function evaluations\n",
      "Tnint = total number of segments explored during Cauchy searches\n",
      "Skip  = number of BFGS updates skipped\n",
      "Nact  = number of active bounds at final generalized Cauchy point\n",
      "Projg = norm of the final projected gradient\n",
      "F     = final function value\n",
      "\n",
      "           * * *\n",
      "\n",
      "   N    Tit     Tnf  Tnint  Skip  Nact     Projg        F\n",
      "    9     50     61      1     0     0   1.106D-01  -1.776D+00\n",
      "  F =  -1.7764826907389755     \n",
      "\n",
      "STOP: TOTAL NO. of ITERATIONS REACHED LIMIT                 \n"
     ]
    }
   ],
   "source": [
    "# added enforce_stationarity=False to model definition to get around\n",
    "# LU decomposition error ?\n",
    "SARIMAXmodel = SARIMAX(y, order = (2,2,2), seasonal_order=(2,2,2,12),enforce_stationarity=False)\n",
    "SARIMAXmodel = SARIMAXmodel.fit()\n",
    "\n",
    "y_pred = SARIMAXmodel.get_forecast(len(test.index))\n",
    "y_pred_df = y_pred.conf_int(alpha = 0.05) \n",
    "y_pred_df[\"Predictions\"] = SARIMAXmodel.predict(start = y_pred_df.index[0],\n",
    "                                                end = y_pred_df.index[-1])\n",
    "y_pred_df.index = test.index\n",
    "y_pred_outSARIMAX = y_pred_df[\"Predictions\"]"
   ]
  },
  {
   "cell_type": "code",
   "execution_count": 134,
   "id": "c64a8d15",
   "metadata": {
    "scrolled": true
   },
   "outputs": [
    {
     "data": {
      "image/png": "[encoded data removed]",
      "text/plain": [
       "<Figure size 432x288 with 1 Axes>"
      ]
     },
     "metadata": {},
     "output_type": "display_data"
    }
   ],
   "source": [
    "plt.plot(train, color = \"black\", label = 'Training')\n",
    "plt.plot(test, color = \"red\", label = 'Testing')\n",
    "plt.ylabel('BTC Price')\n",
    "plt.xlabel('Date')\n",
    "plt.xticks(rotation=45)\n",
    "plt.title(\"Train/Test split for SARIMX SA Data\")\n",
    "plt.plot(y_pred_outARMA, color='green', label = 'ARMA Predictions')\n",
    "plt.plot(y_pred_outARIMA, color='Yellow', label = 'ARIMA Predictions')\n",
    "plt.plot(y_pred_outSARIMAX, color='Blue', label = 'SARIMA Predictions')\n",
    "plt.legend()\n",
    "plt.savefig(\"Test_Train_split_SARIMX_Pred_SA.png\", dpi=300)\n",
    "plt.show()"
   ]
  },
  {
   "cell_type": "code",
   "execution_count": 135,
   "id": "643b7ea4",
   "metadata": {},
   "outputs": [
    {
     "name": "stdout",
     "output_type": "stream",
     "text": [
      "SARIMA RMSE:  0.025880684294254375\n"
     ]
    }
   ],
   "source": [
    "sarima_rmse = np.sqrt(mean_squared_error(test[\"result\"].values, y_pred_df[\"Predictions\"]))\n",
    "print(\"SARIMA RMSE: \",sarima_rmse)"
   ]
  },
  {
   "cell_type": "code",
   "execution_count": 16,
   "id": "d86c4337",
   "metadata": {},
   "outputs": [
    {
     "name": "stdout",
     "output_type": "stream",
     "text": [
      "Defaulting to user installation because normal site-packages is not writeable\n",
      "Collecting ipy_table\n",
      "  Downloading ipy_table-1.15.1.tar.gz (18 kB)\n",
      "  Preparing metadata (setup.py) ... \u001b[?25ldone\n",
      "\u001b[?25hBuilding wheels for collected packages: ipy_table\n",
      "  Building wheel for ipy_table (setup.py) ... \u001b[?25ldone\n",
      "\u001b[?25h  Created wheel for ipy_table: filename=ipy_table-1.15.1-py3-none-any.whl size=18744 sha256=b88de804c90c42d680ea2e80e4f58dadfbeb88d87732af9333d3e16c1e372620\n",
      "  Stored in directory: /home/hduser/.cache/pip/wheels/e9/5c/49/5e9d7924df16a11e23bcdcca4eab6105c2aaec80f72c66c641\n",
      "Successfully built ipy_table\n",
      "Installing collected packages: ipy_table\n",
      "Successfully installed ipy_table-1.15.1\n",
      "Note: you may need to restart the kernel to use updated packages.\n"
     ]
    }
   ],
   "source": [
    "pip install ipy_table"
   ]
  },
  {
   "cell_type": "code",
   "execution_count": 136,
   "id": "858504cd",
   "metadata": {},
   "outputs": [
    {
     "name": "stdout",
     "output_type": "stream",
     "text": [
      "ARMA RMSE:  0.02078733649950192\n",
      "ARIMA RMSE:  0.022652437209927122\n",
      "SARIMA RMSE:  0.025880684294254375\n"
     ]
    }
   ],
   "source": [
    "# the best model is ARAM as it ths the lowst rmse error\n",
    "print(\"ARMA RMSE: \",arma_rmse)\n",
    "print(\"ARIMA RMSE: \",arima_rmse)\n",
    "print(\"SARIMA RMSE: \",sarima_rmse)\n",
    "tables = {\"ARMA RMSE\" : [arma_rmse],\"ARIMA RMSE\": [arima_rmse],\"SARIMA RMSE\" : [sarima_rmse] } \n",
    "t_df = pd.DataFrame(tables)"
   ]
  },
  {
   "cell_type": "code",
   "execution_count": 137,
   "id": "3d9fb3c9",
   "metadata": {},
   "outputs": [
    {
     "data": {
      "text/html": [
       "<table border=\"1\" cellpadding=\"3\" cellspacing=\"0\"  style=\"border:black; border-collapse:collapse;\"><tr><td  style=\"background-color:lightGreen;border-left: 1px solid;border-right: 1px solid;border-top: 1px solid;border-bottom: 1px solid;\">ARMA&nbsp;RMSE</td><td  style=\"background-color:lightGreen;border-left: 1px solid;border-right: 1px solid;border-top: 1px solid;border-bottom: 1px solid;\">ARIMA&nbsp;RMSE</td><td  style=\"background-color:lightGreen;border-left: 1px solid;border-right: 1px solid;border-top: 1px solid;border-bottom: 1px solid;\">SARIMA&nbsp;RMSE</td></tr><tr><td  style=\"border-left: 1px solid;border-right: 1px solid;border-top: 1px solid;border-bottom: 1px solid;\">0.0208</td><td  style=\"border-left: 1px solid;border-right: 1px solid;border-top: 1px solid;border-bottom: 1px solid;\">0.0227</td><td  style=\"border-left: 1px solid;border-right: 1px solid;border-top: 1px solid;border-bottom: 1px solid;\">0.0259</td></tr></table>"
      ],
      "text/plain": [
       "<ipy_table.ipy_table.IpyTable at 0x7f2aca71fca0>"
      ]
     },
     "execution_count": 137,
     "metadata": {},
     "output_type": "execute_result"
    }
   ],
   "source": [
    "from ipy_table import make_table, set_row_style\n",
    "# Convert DataFrame to a list of lists and then use it with ipy_table\n",
    "table_data = [t_df.columns.to_list()] + t_df.values.tolist()\n",
    "table = make_table(table_data)\n",
    "set_row_style(0, color='lightGreen')\n",
    "# Apply some styles to the table\n",
    "# apply_theme('basic')\n",
    "\n",
    "table\n"
   ]
  },
  {
   "cell_type": "code",
   "execution_count": 138,
   "id": "8a0a664c",
   "metadata": {},
   "outputs": [
    {
     "data": {
      "image/png": "[encoded data removed]",
      "text/plain": [
       "<Figure size 432x288 with 1 Axes>"
      ]
     },
     "metadata": {},
     "output_type": "display_data"
    }
   ],
   "source": [
    "#plt.plot(train, color = \"black\", label = 'Training')\n",
    "plt.plot(test.iloc[0:7], color = \"red\", label = 'Testing')\n",
    "plt.ylabel('Sentiment')\n",
    "plt.xlabel('Date')\n",
    "plt.xticks(rotation=45)\n",
    "plt.title(\"Test & Predictions at 1 Week\")\n",
    "plt.plot(y_pred_outARMA.iloc[0:7], color='green', label = 'ARMA Predictions')\n",
    "plt.plot(y_pred_outARIMA.iloc[0:7], color='Yellow', label = 'ARIMA Predictions')\n",
    "plt.plot(y_pred_outSARIMAX.iloc[0:7], color='Blue', label = 'SARIMA Predictions')\n",
    "plt.legend()\n",
    "plt.savefig(\"Test_Predictions_1_Week.png\", dpi=300)\n",
    "plt.show()"
   ]
  },
  {
   "cell_type": "code",
   "execution_count": 139,
   "id": "f8b89d3e",
   "metadata": {},
   "outputs": [
    {
     "data": {
      "image/png": "[encoded data removed]",
      "text/plain": [
       "<Figure size 432x288 with 1 Axes>"
      ]
     },
     "metadata": {},
     "output_type": "display_data"
    }
   ],
   "source": [
    "#plt.plot(train, color = \"black\", label = 'Training')\n",
    "plt.plot(test.iloc[0:30], color = \"red\", label = 'Testing')\n",
    "plt.ylabel('Sentiment')\n",
    "plt.xlabel('Date')\n",
    "plt.xticks(rotation=45)\n",
    "plt.title(\"Test & Predictions at 1 Month\")\n",
    "plt.plot(y_pred_outARMA.iloc[0:30], color='green', label = 'ARMA Predictions')\n",
    "plt.plot(y_pred_outARIMA.iloc[0:30], color='Yellow', label = 'ARIMA Predictions')\n",
    "plt.plot(y_pred_outSARIMAX.iloc[0:30], color='Blue', label = 'SARIMA Predictions')\n",
    "plt.legend()\n",
    "plt.savefig(\"Test_Predictions_1_Month.png\", dpi=300)\n",
    "plt.show()"
   ]
  },
  {
   "cell_type": "code",
   "execution_count": 140,
   "id": "0ff3b0fa",
   "metadata": {},
   "outputs": [
    {
     "data": {
      "image/png": "[encoded data removed]",
      "text/plain": [
       "<Figure size 432x288 with 1 Axes>"
      ]
     },
     "metadata": {},
     "output_type": "display_data"
    }
   ],
   "source": [
    "#plt.plot(train, color = \"black\", label = 'Training')\n",
    "plt.plot(test.iloc[0:], color = \"red\", label = 'Testing')\n",
    "plt.ylabel('Sentiment')\n",
    "plt.xlabel('Date')\n",
    "plt.xticks(rotation=45)\n",
    "plt.title(\"Test & Predictions at 3 Months\")\n",
    "plt.plot(y_pred_outARMA.iloc[0:], color='green', label = 'ARMA Predictions')\n",
    "plt.plot(y_pred_outARIMA.iloc[0:], color='Yellow', label = 'ARIMA Predictions')\n",
    "plt.plot(y_pred_outSARIMAX.iloc[0:], color='Blue', label = 'SARIMA Predictions')\n",
    "plt.legend()\n",
    "plt.savefig(\"Test_Predictions_3_Month.png\", dpi=300)\n",
    "plt.show()"
   ]
  },
  {
   "cell_type": "code",
   "execution_count": 141,
   "id": "56663c6c",
   "metadata": {},
   "outputs": [
    {
     "data": {
      "text/html": [
       "<div>\n",
       "<style scoped>\n",
       "    .dataframe tbody tr th:only-of-type {\n",
       "        vertical-align: middle;\n",
       "    }\n",
       "\n",
       "    .dataframe tbody tr th {\n",
       "        vertical-align: top;\n",
       "    }\n",
       "\n",
       "    .dataframe thead th {\n",
       "        text-align: right;\n",
       "    }\n",
       "</style>\n",
       "<table border=\"1\" class=\"dataframe\">\n",
       "  <thead>\n",
       "    <tr style=\"text-align: right;\">\n",
       "      <th></th>\n",
       "      <th>ARMA</th>\n",
       "      <th>ARIMA</th>\n",
       "      <th>SARIMAX</th>\n",
       "    </tr>\n",
       "    <tr>\n",
       "      <th>date_extracted</th>\n",
       "      <th></th>\n",
       "      <th></th>\n",
       "      <th></th>\n",
       "    </tr>\n",
       "  </thead>\n",
       "  <tbody>\n",
       "    <tr>\n",
       "      <th>2023-03-01</th>\n",
       "      <td>0.080699</td>\n",
       "      <td>0.072846</td>\n",
       "      <td>0.078724</td>\n",
       "    </tr>\n",
       "    <tr>\n",
       "      <th>2023-03-02</th>\n",
       "      <td>0.080274</td>\n",
       "      <td>0.075363</td>\n",
       "      <td>0.061982</td>\n",
       "    </tr>\n",
       "    <tr>\n",
       "      <th>2023-03-03</th>\n",
       "      <td>0.079852</td>\n",
       "      <td>0.073645</td>\n",
       "      <td>0.073198</td>\n",
       "    </tr>\n",
       "    <tr>\n",
       "      <th>2023-03-04</th>\n",
       "      <td>0.079432</td>\n",
       "      <td>0.075454</td>\n",
       "      <td>0.086324</td>\n",
       "    </tr>\n",
       "    <tr>\n",
       "      <th>2023-03-05</th>\n",
       "      <td>0.079014</td>\n",
       "      <td>0.074007</td>\n",
       "      <td>0.097280</td>\n",
       "    </tr>\n",
       "  </tbody>\n",
       "</table>\n",
       "</div>"
      ],
      "text/plain": [
       "                    ARMA     ARIMA   SARIMAX\n",
       "date_extracted                              \n",
       "2023-03-01      0.080699  0.072846  0.078724\n",
       "2023-03-02      0.080274  0.075363  0.061982\n",
       "2023-03-03      0.079852  0.073645  0.073198\n",
       "2023-03-04      0.079432  0.075454  0.086324\n",
       "2023-03-05      0.079014  0.074007  0.097280"
      ]
     },
     "execution_count": 141,
     "metadata": {},
     "output_type": "execute_result"
    }
   ],
   "source": [
    "# im going to save the forecast series out as a dataframe to make things easier later on\n",
    "forecast_df = pd.DataFrame({'ARMA': y_pred_outARMA.iloc[0:], 'ARIMA': y_pred_outARIMA.iloc[0:],'SARIMAX' : y_pred_outSARIMAX.iloc[0:]} )\n",
    "forecast_df.head()"
   ]
  },
  {
   "cell_type": "code",
   "execution_count": null,
   "id": "3fc8be29",
   "metadata": {},
   "outputs": [],
   "source": []
  },
  {
   "cell_type": "code",
   "execution_count": 142,
   "id": "b85f56f9",
   "metadata": {},
   "outputs": [
    {
     "data": {
      "text/html": [
       "<div>\n",
       "<style scoped>\n",
       "    .dataframe tbody tr th:only-of-type {\n",
       "        vertical-align: middle;\n",
       "    }\n",
       "\n",
       "    .dataframe tbody tr th {\n",
       "        vertical-align: top;\n",
       "    }\n",
       "\n",
       "    .dataframe thead th {\n",
       "        text-align: right;\n",
       "    }\n",
       "</style>\n",
       "<table border=\"1\" class=\"dataframe\">\n",
       "  <thead>\n",
       "    <tr style=\"text-align: right;\">\n",
       "      <th></th>\n",
       "      <th>ARMA</th>\n",
       "      <th>ARIMA</th>\n",
       "      <th>SARIMAX</th>\n",
       "      <th>result</th>\n",
       "    </tr>\n",
       "    <tr>\n",
       "      <th>date_extracted</th>\n",
       "      <th></th>\n",
       "      <th></th>\n",
       "      <th></th>\n",
       "      <th></th>\n",
       "    </tr>\n",
       "  </thead>\n",
       "  <tbody>\n",
       "    <tr>\n",
       "      <th>2023-03-01</th>\n",
       "      <td>0.080699</td>\n",
       "      <td>0.072846</td>\n",
       "      <td>0.078724</td>\n",
       "      <td>0.069141</td>\n",
       "    </tr>\n",
       "    <tr>\n",
       "      <th>2023-03-02</th>\n",
       "      <td>0.080274</td>\n",
       "      <td>0.075363</td>\n",
       "      <td>0.061982</td>\n",
       "      <td>0.046882</td>\n",
       "    </tr>\n",
       "    <tr>\n",
       "      <th>2023-03-03</th>\n",
       "      <td>0.079852</td>\n",
       "      <td>0.073645</td>\n",
       "      <td>0.073198</td>\n",
       "      <td>0.055703</td>\n",
       "    </tr>\n",
       "    <tr>\n",
       "      <th>2023-03-04</th>\n",
       "      <td>0.079432</td>\n",
       "      <td>0.075454</td>\n",
       "      <td>0.086324</td>\n",
       "      <td>0.078585</td>\n",
       "    </tr>\n",
       "    <tr>\n",
       "      <th>2023-03-05</th>\n",
       "      <td>0.079014</td>\n",
       "      <td>0.074007</td>\n",
       "      <td>0.097280</td>\n",
       "      <td>0.055173</td>\n",
       "    </tr>\n",
       "  </tbody>\n",
       "</table>\n",
       "</div>"
      ],
      "text/plain": [
       "                    ARMA     ARIMA   SARIMAX    result\n",
       "date_extracted                                        \n",
       "2023-03-01      0.080699  0.072846  0.078724  0.069141\n",
       "2023-03-02      0.080274  0.075363  0.061982  0.046882\n",
       "2023-03-03      0.079852  0.073645  0.073198  0.055703\n",
       "2023-03-04      0.079432  0.075454  0.086324  0.078585\n",
       "2023-03-05      0.079014  0.074007  0.097280  0.055173"
      ]
     },
     "execution_count": 142,
     "metadata": {},
     "output_type": "execute_result"
    }
   ],
   "source": [
    "# combining my forecast dataframe with the test datframe\n",
    "fdf = forecast_df.merge(test, left_index=True, right_index=True)\n",
    "fdf.head()"
   ]
  },
  {
   "cell_type": "code",
   "execution_count": 143,
   "id": "de21fc79",
   "metadata": {},
   "outputs": [],
   "source": [
    "fdf.to_csv('forecast.csv')"
   ]
  },
  {
   "cell_type": "code",
   "execution_count": 144,
   "id": "34e11f97",
   "metadata": {},
   "outputs": [],
   "source": [
    "fdf = pd.read_csv('forecast.csv')"
   ]
  },
  {
   "cell_type": "markdown",
   "id": "3988ecb8",
   "metadata": {},
   "source": [
    "# Dashboard"
   ]
  },
  {
   "cell_type": "code",
   "execution_count": 153,
   "id": "0e5a09c9",
   "metadata": {},
   "outputs": [
    {
     "name": "stdout",
     "output_type": "stream",
     "text": [
      "Defaulting to user installation because normal site-packages is not writeable\n",
      "Collecting folium\n",
      "  Downloading folium-0.14.0-py2.py3-none-any.whl (102 kB)\n",
      "\u001b[2K     \u001b[38;2;114;156;31m━━━━━━━━━━━━━━━━━━━━━━━━━━━━━━━━━━━━━\u001b[0m \u001b[32m102.3/102.3 KB\u001b[0m \u001b[31m831.9 kB/s\u001b[0m eta \u001b[36m0:00:00\u001b[0m1m749.4 kB/s\u001b[0m eta \u001b[36m0:00:01\u001b[0m\n",
      "\u001b[?25hRequirement already satisfied: requests in /usr/lib/python3/dist-packages (from folium) (2.25.1)\n",
      "Collecting branca>=0.6.0\n",
      "  Downloading branca-0.6.0-py3-none-any.whl (24 kB)\n",
      "Requirement already satisfied: numpy in /home/hduser/.local/lib/python3.10/site-packages (from folium) (1.23.5)\n",
      "Requirement already satisfied: jinja2>=2.9 in /usr/lib/python3/dist-packages (from folium) (3.0.3)\n",
      "Installing collected packages: branca, folium\n",
      "Successfully installed branca-0.6.0 folium-0.14.0\n",
      "Note: you may need to restart the kernel to use updated packages.\n"
     ]
    }
   ],
   "source": [
    "pip install folium"
   ]
  },
  {
   "cell_type": "code",
   "execution_count": 145,
   "id": "d351b2a2",
   "metadata": {},
   "outputs": [],
   "source": [
    "from sklearn.metrics import mean_squared_error\n",
    "from IPython.display import display\n",
    "import ipywidgets as widgets\n",
    "\n",
    "# Function to compute RMSE\n",
    "def eval_rmse(series1, series2):\n",
    "    return np.sqrt(mean_squared_error(series1, series2))\n"
   ]
  },
  {
   "cell_type": "code",
   "execution_count": 146,
   "id": "702f02a1",
   "metadata": {
    "scrolled": true
   },
   "outputs": [
    {
     "name": "stderr",
     "output_type": "stream",
     "text": [
      "Widget Javascript not detected.  It may not be installed or enabled properly. Reconnecting the current kernel may help.\n"
     ]
    },
    {
     "data": {
      "application/vnd.jupyter.widget-view+json": {
       "model_id": "2eb3f174ddbd4133bae829ac2b1a2e63"
      }
     },
     "metadata": {},
     "output_type": "display_data"
    },
    {
     "name": "stderr",
     "output_type": "stream",
     "text": [
      "Widget Javascript not detected.  It may not be installed or enabled properly. Reconnecting the current kernel may help.\n"
     ]
    },
    {
     "data": {
      "application/vnd.jupyter.widget-view+json": {
       "model_id": "dcc7c68d61dc4a098889d208c9068827"
      }
     },
     "metadata": {},
     "output_type": "display_data"
    },
    {
     "name": "stderr",
     "output_type": "stream",
     "text": [
      "Widget Javascript not detected.  It may not be installed or enabled properly. Reconnecting the current kernel may help.\n"
     ]
    },
    {
     "data": {
      "application/vnd.jupyter.widget-view+json": {
       "model_id": "dd88a39955404cb3a4b0045ca30e38dc"
      }
     },
     "metadata": {},
     "output_type": "display_data"
    },
    {
     "name": "stderr",
     "output_type": "stream",
     "text": [
      "Widget Javascript not detected.  It may not be installed or enabled properly. Reconnecting the current kernel may help.\n"
     ]
    },
    {
     "data": {
      "application/vnd.jupyter.widget-view+json": {
       "model_id": "263c5c355c3a496ca4abfe445f448d64"
      }
     },
     "metadata": {},
     "output_type": "display_data"
    },
    {
     "name": "stderr",
     "output_type": "stream",
     "text": [
      "Widget Javascript not detected.  It may not be installed or enabled properly. Reconnecting the current kernel may help.\n"
     ]
    },
    {
     "data": {
      "application/vnd.jupyter.widget-view+json": {
       "model_id": "74a8c4956623409e81398e317072d314"
      }
     },
     "metadata": {},
     "output_type": "display_data"
    }
   ],
   "source": [
    "# Create a function to display and compare data\n",
    "def compare_columns(col1, col2, col3, target_col):\n",
    "    target_data = fdf[target_col]\n",
    "    rmse_1 = eval_rmse(fdf[col1], target_data)\n",
    "    rmse_2 = eval_rmse(fdf[col2], target_data)\n",
    "    rmse_3 = eval_rmse(fdf[col3], target_data)\n",
    "    \n",
    "    print(f\"RMSE for {col1} vs {target_col}: {rmse1}\")\n",
    "    print(f\"RMSE for {col2} vs {target_col}: {rmse2}\")\n",
    "    print(f\"RMSE for {col3} vs {target_col}: {rmse3}\")\n",
    "    \n",
    "        # Plot time series\n",
    "    plt.figure(figsize=(14, 7))\n",
    "    plt.plot(fdf[ref_col], label=f'{ref_col} (reference)')\n",
    "    plt.plot(fdf[col1], label=f'{col1} (RMSE: {rmse1:.2f})')\n",
    "    plt.plot(fdf[col2], label=f'{col2} (RMSE: {rmse2:.2f})')\n",
    "    plt.plot(fdf[col3], label=f'{col3} (RMSE: {rmse3:.2f})')\n",
    "    plt.title('Time Series Comparison')\n",
    "    plt.xlabel('Date')\n",
    "    plt.ylabel('Value')\n",
    "    plt.legend()\n",
    "    plt.show()\n",
    "\n",
    "\n",
    "# Create interactive widgets\n",
    "col1_widget = widgets.Dropdown(options=fdf['ARMA'].tolist(), description='ARMA:')\n",
    "col2_widget = widgets.Dropdown(options=fdf['ARIMA'].tolist(), description='ARIMA:')\n",
    "col3_widget = widgets.Dropdown(options=fdf['SARIMAX'].tolist(), description='SARIMAX:')\n",
    "target_col_widget = widgets.Dropdown(options=fdf['result'].tolist(), description='result:')\n",
    "\n",
    "# Create a button to view comparison\n",
    "compare_button = widgets.Button(description=\"Compare Columns\")\n",
    "\n",
    "# Event handler for the button\n",
    "def on_compare_button_clicked(b):\n",
    "    compare_columns(col1_widget.value, col2_widget.value, col3_widget.value, target_col_widget.value)\n",
    "\n",
    "compare_button.on_click(on_compare_button_clicked)\n",
    "\n",
    "# Display the widgets\n",
    "display(col1_widget, col2_widget, col3_widget, target_col_widget, compare_button)"
   ]
  },
  {
   "cell_type": "code",
   "execution_count": null,
   "id": "650c01a0",
   "metadata": {},
   "outputs": [],
   "source": [
    "# the ubuntu jupyter note book broke here after installing voila , this happened last year on my mac \n",
    "# 500 : Internal Server Error\n",
    "# If I close notebook, I will need to reinstall the notebook before it will work again\n",
    "#for this reason i was forced to do the last part of this on a copy of this notebook.\n",
    "# but on a windows enviroument"
   ]
  },
  {
   "cell_type": "code",
   "execution_count": null,
   "id": "def6c76a",
   "metadata": {},
   "outputs": [],
   "source": []
  },
  {
   "cell_type": "code",
   "execution_count": null,
   "id": "7b5aae0e",
   "metadata": {},
   "outputs": [],
   "source": []
  },
  {
   "cell_type": "code",
   "execution_count": null,
   "id": "3177d6fb",
   "metadata": {},
   "outputs": [],
   "source": []
  },
  {
   "cell_type": "code",
   "execution_count": null,
   "id": "8392a47a",
   "metadata": {},
   "outputs": [],
   "source": []
  }
 ],
 "metadata": {
  "kernelspec": {
   "display_name": "Python 3 (ipykernel)",
   "language": "python",
   "name": "python3"
  },
  "language_info": {
   "codemirror_mode": {
    "name": "ipython",
    "version": 3
   },
   "file_extension": ".py",
   "mimetype": "text/x-python",
   "name": "python",
   "nbconvert_exporter": "python",
   "pygments_lexer": "ipython3",
   "version": "3.10.6"
  }
 },
 "nbformat": 4,
 "nbformat_minor": 5
}
