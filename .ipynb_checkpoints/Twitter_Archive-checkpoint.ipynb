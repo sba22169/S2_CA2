{
 "cells": [
  {
   "cell_type": "markdown",
   "id": "a9116907",
   "metadata": {},
   "source": [
    "# Twitter did not come back on my Academic research application.\n",
    "# So I proceeded to work with the Archive analysis from\n",
    "# https://archive.org/download/archiveteam-twitter-stream-2022-11"
   ]
  },
  {
   "cell_type": "code",
   "execution_count": 15,
   "id": "6f897097",
   "metadata": {},
   "outputs": [],
   "source": [
    "from dotenv import dotenv_values\n",
    "import pandas as pd\n",
    "import numpy as np\n",
    "import matplotlib.pyplot as plt\n",
    "import requests\n",
    "import json\n",
    "import warnings"
   ]
  },
  {
   "cell_type": "code",
   "execution_count": 19,
   "id": "0fd588c2",
   "metadata": {},
   "outputs": [],
   "source": [
    "# This function loads the json files one at a time and converts them into dataframe\n",
    "def convert_json_to_dataframe(json_file):\n",
    "    data = []\n",
    "    with open(json_file, 'r') as file:\n",
    "        for line in file:\n",
    "            try:\n",
    "                json_data = json.loads(line)\n",
    "                data.append(json_data)\n",
    "            except json.JSONDecodeError as e:\n",
    "                print(f\"Error parsing JSON line: {e}\")\n",
    "\n",
    "    df = pd.DataFrame(data)\n",
    "    return df\n",
    "# twit_file = '20220901000000.json'\n",
    "twit_file = \"/Users/ambrosedesmond/CCT_Projects/Ambrose_MSC_BD_ADA_CA2/Twitter_Archive_Data/20220901/20220901000000.json\"\n",
    "df = convert_json_to_dataframe(twit_file)"
   ]
  },
  {
   "cell_type": "code",
   "execution_count": 24,
   "id": "6e3d8179",
   "metadata": {},
   "outputs": [
    {
     "data": {
      "text/html": [
       "<div>\n",
       "<style scoped>\n",
       "    .dataframe tbody tr th:only-of-type {\n",
       "        vertical-align: middle;\n",
       "    }\n",
       "\n",
       "    .dataframe tbody tr th {\n",
       "        vertical-align: top;\n",
       "    }\n",
       "\n",
       "    .dataframe thead th {\n",
       "        text-align: right;\n",
       "    }\n",
       "</style>\n",
       "<table border=\"1\" class=\"dataframe\">\n",
       "  <thead>\n",
       "    <tr style=\"text-align: right;\">\n",
       "      <th></th>\n",
       "      <th>created_at</th>\n",
       "      <th>text</th>\n",
       "    </tr>\n",
       "  </thead>\n",
       "  <tbody>\n",
       "    <tr>\n",
       "      <th>0</th>\n",
       "      <td>Wed Aug 31 23:59:53 +0000 2022</td>\n",
       "      <td>@carolynstrom @SKGov @PremierScottMoe Thank yo...</td>\n",
       "    </tr>\n",
       "    <tr>\n",
       "      <th>1</th>\n",
       "      <td>Wed Aug 31 23:59:53 +0000 2022</td>\n",
       "      <td>Love is like a sweet flower true love is https...</td>\n",
       "    </tr>\n",
       "    <tr>\n",
       "      <th>2</th>\n",
       "      <td>Wed Aug 31 23:59:53 +0000 2022</td>\n",
       "      <td>@luvyxrosie @EllBPink @Roseslify Pero si no ca...</td>\n",
       "    </tr>\n",
       "    <tr>\n",
       "      <th>3</th>\n",
       "      <td>Wed Aug 31 23:59:53 +0000 2022</td>\n",
       "      <td>RT @1ne15u: 大人のための地元再発見シリーズ『愛知の教科書』 (JTBパブリッシン...</td>\n",
       "    </tr>\n",
       "    <tr>\n",
       "      <th>4</th>\n",
       "      <td>Wed Aug 31 23:59:53 +0000 2022</td>\n",
       "      <td>RT @iamdio__: E foram gastar 75M no Darwin ahah</td>\n",
       "    </tr>\n",
       "  </tbody>\n",
       "</table>\n",
       "</div>"
      ],
      "text/plain": [
       "                       created_at  \\\n",
       "0  Wed Aug 31 23:59:53 +0000 2022   \n",
       "1  Wed Aug 31 23:59:53 +0000 2022   \n",
       "2  Wed Aug 31 23:59:53 +0000 2022   \n",
       "3  Wed Aug 31 23:59:53 +0000 2022   \n",
       "4  Wed Aug 31 23:59:53 +0000 2022   \n",
       "\n",
       "                                                text  \n",
       "0  @carolynstrom @SKGov @PremierScottMoe Thank yo...  \n",
       "1  Love is like a sweet flower true love is https...  \n",
       "2  @luvyxrosie @EllBPink @Roseslify Pero si no ca...  \n",
       "3  RT @1ne15u: 大人のための地元再発見シリーズ『愛知の教科書』 (JTBパブリッシン...  \n",
       "4    RT @iamdio__: E foram gastar 75M no Darwin ahah  "
      ]
     },
     "execution_count": 24,
     "metadata": {},
     "output_type": "execute_result"
    }
   ],
   "source": [
    "ttdf = df[['created_at','text']]\n"
   ]
  },
  {
   "cell_type": "code",
   "execution_count": null,
   "id": "ace0c191",
   "metadata": {},
   "outputs": [],
   "source": []
  }
 ],
 "metadata": {
  "kernelspec": {
   "display_name": "Python 3 (ipykernel)",
   "language": "python",
   "name": "python3"
  },
  "language_info": {
   "codemirror_mode": {
    "name": "ipython",
    "version": 3
   },
   "file_extension": ".py",
   "mimetype": "text/x-python",
   "name": "python",
   "nbconvert_exporter": "python",
   "pygments_lexer": "ipython3",
   "version": "3.9.12"
  }
 },
 "nbformat": 4,
 "nbformat_minor": 5
}
