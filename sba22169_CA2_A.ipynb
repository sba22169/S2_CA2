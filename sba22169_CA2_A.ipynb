{
 "cells": [
  {
   "cell_type": "markdown",
   "id": "753a892c",
   "metadata": {},
   "source": [
    "## CA2_A is about pulling the twitter data and saving it as a file to be used later"
   ]
  },
  {
   "cell_type": "code",
   "execution_count": 1,
   "id": "d55fca5d",
   "metadata": {},
   "outputs": [],
   "source": [
    "from dotenv import dotenv_values\n",
    "import pandas as pd\n",
    "import numpy as np\n",
    "import matplotlib.pyplot as plt\n",
    "import requests\n",
    "import json\n",
    "import warnings\n",
    "warnings.filterwarnings('ignore') # We can suppress the warnings\n",
    "# my twitter keys are stores in a file outside the git repository for security reasons\n",
    "config = dotenv_values(\"/Users/ambrosedesmond/CCT_Projects/Ambrose_MSC_DS_CA2/.env\")\n",
    "bearer_token = config[\"BEARER_TOKEN\"]\n",
    "# this is the location of the twitter api access , looking for the most recent tweets\n",
    "search_url = \"https://api.twitter.com/2/tweets/search/recent\""
   ]
  },
  {
   "cell_type": "code",
   "execution_count": 2,
   "id": "f703e7e6",
   "metadata": {},
   "outputs": [
    {
     "name": "stdout",
     "output_type": "stream",
     "text": [
      "{'data': [{'edit_history_tweet_ids': ['1655926400996769794'], 'text': '#startrek #startrekoneline #youtube \\n\\nCaptains 07\\n\\nWe got to see the launch trailer for @trekonline when it premiered this morning on stream so why not go over it with my fellow Caps on the bridge.\\n\\nInteresting direction we will be going this season\\n\\nhttps://t.co/uPPuwt8NUt', 'id': '1655926400996769794', 'created_at': '2023-05-09T13:23:14.000Z'}, {'edit_history_tweet_ids': ['1655798748449247232'], 'text': '#startrek #startrekonline #startrekpicard #youtube \\n\\nCaptains 07\\n\\nWe continue our PICARD/TNG THEME STREAM on the YOUTUBE BRIDGE!\\n\\nhttps://t.co/2yP5F021t5', 'id': '1655798748449247232', 'created_at': '2023-05-09T04:55:59.000Z'}, {'edit_history_tweet_ids': ['1655626532805652497'], 'text': 'Hey everyone, make sure to checkout my stream tonight at 6pm EST sponsored by @StarTrekFleet! Make sure to use my link, https://t.co/wqzc9Z0K3o complete level 5, 2nd ship and level 10 to help support me! #ad #startrek', 'id': '1655626532805652497', 'created_at': '2023-05-08T17:31:40.000Z'}, {'edit_history_tweet_ids': ['1655435669039349760'], 'text': '#startrek #startrekpicard #startrekonline \\n\\nCaptains 07\\n\\nPART 2 of our PICARD/TNG THEME STREAM and we start of with taking out the INQUIRY!.. the ship with the BBQ GRILLE for a deflector XD', 'id': '1655435669039349760', 'created_at': '2023-05-08T04:53:14.000Z'}, {'edit_history_tweet_ids': ['1655434772548657154'], 'text': '@djairrick @OmegaWeltall We need to do a stream on #StarTrek together, I don’t wish to have my own channel, but am always willing to be a guest host, am loving doing that with #theMidWeekfreak', 'id': '1655434772548657154', 'created_at': '2023-05-08T04:49:40.000Z'}, {'edit_history_tweet_ids': ['1654762934692909057'], 'text': '@Mae_DayJ @Aoiferocksitout @Nice_White_Lady @TiffanyAndLupus @dasoultoucha @DawnMGibson @GeecheeThreat @AlexisSMobley @caramind93 @DisabledDem @DisMoviePod @haredottir @maysoonzayid @moniquedhooghe @nolan_syreeta @taras_rhymetime @JessicaGimeno @ezerinis @NormalFreeZone @haziethompson @riotheatherrr @angmarsbane10 @champagnestalli @DisDatinChat @MikeeMort @Ntombi @PAF_Foundation @SynceNerd_Carli @JoyceTakako @tinustuff @Tinu @maelee @VilissaThompson @TRINArockstarr @roywoodjr @Mae Watching #DeepSpaceNine its amazing how apt and applicable it is to both the past and the present\\n\\nHop in the #ChronicLoaf stream now to watch #StarTrekDeepSpaceNine with us tonight\\n\\nhttps://t.co/jCKsMfclxG\\n\\n#StarTrek #SciFi #DisCo #neisvoid #insomnia #MutualAidMarathon #ForTinu https://t.co/8F6fw1iO3M', 'id': '1654762934692909057', 'created_at': '2023-05-06T08:20:02.000Z'}, {'edit_history_tweet_ids': ['1654682795044741120'], 'text': 'Did you catch the custom intro for the final episode of #StarTrekPicard?  Stream Star Trek: Picard Season 3 now on @ParamountPlus, featuring the stellar score by @ComposerBarton &amp; @FreddieWiedmann.\\n\\nhttps://t.co/wyt7psq015\\n\\nRP @startrekonpplus \\n\\n@terrymatalas #StarTrek https://t.co/R1B629Mmro', 'id': '1654682795044741120', 'created_at': '2023-05-06T03:01:35.000Z'}, {'edit_history_tweet_ids': ['1654508020531974147'], 'text': \"I'm considering running a casual Fanfic improv stream dedicated to #startrekonline with some ships and maybe pewz? Would be on my dedicated z twitch channel. Anyone? #liveimprov #improv #fanfic #StarTrek https://t.co/75Kpufu0CB\", 'id': '1654508020531974147', 'created_at': '2023-05-05T15:27:06.000Z'}], 'meta': {'newest_id': '1655926400996769794', 'oldest_id': '1654508020531974147', 'result_count': 8}}\n"
     ]
    }
   ],
   "source": [
    "\n",
    "\n",
    "# Set up the query we want to pass to api , is a json object\n",
    "    #   Im adding parameter -is = is not a retweet. i dont want the same retweets showing up in my data \n",
    "    # also pulling in the author id and name\n",
    "# Im using two query_params the first is without the next_token field for the first query \n",
    "start_time = \"2023-05-05T00:00:00Z\"\n",
    "end_time = \"2023-05-10T00:00:00Z\"\n",
    "query_params1 = {f'query':'Startrek stream -is:retweet',\n",
    "    'start_time':{start_time},\n",
    "    'end_time':{end_time},\n",
    "    'max_results': '100',\n",
    "    'tweet.fields':'created_at',\n",
    "    'user.fields':'name',\n",
    "\n",
    "}\n",
    "# This second query is for the loop , as it requires a next_token.\n",
    "query_params2 = {f'query':'Startrek stream -is:retweet',\n",
    "    'start_time':{start_time},\n",
    "    'end_time':{end_time},\n",
    "    'max_results': '100',\n",
    "    'tweet.fields':'created_at',\n",
    "    'user.fields':'name',\n",
    "    'next_token' : 'abcd',\n",
    "}\n",
    "\n",
    "# my authorisation keys are used here for the twitter API\n",
    "def bearer_oauth(r):\n",
    "    \"\"\" Function for using bearer token\"\"\"\n",
    "    r.headers['Authorization'] = f\"Bearer {bearer_token}\"\n",
    "    r.headers['User-Agent'] = \"v2RecentSerchPython\"\n",
    "    return r\n",
    "\n",
    "\n",
    "def connect_to_endpoint(url,params):\n",
    "    \"\"\" Function to connect to twitter API\"\"\"\n",
    "    response = requests.get(url,auth=bearer_oauth, params=params)\n",
    "    #responce.status_code 200 is good anything else is an error\n",
    "    \n",
    "    return response.json()\n",
    "\n",
    "def append_dict(adict,json_response):\n",
    "    for i in range(len(json_response['data'])):\n",
    "        try:\n",
    "            adict[json_response['data'][i]['created_at']] = json_response['data'][i]['text']\n",
    "\n",
    "        except IndexError:\n",
    "            print(\"We had an index error\")\n",
    "    return(adict)\n",
    "\n",
    "    \n",
    "def twit_call():\n",
    "    twit_dict={}\n",
    "    loop_count = 0\n",
    "    json_response = connect_to_endpoint(search_url, query_params1)\n",
    "    print(json_response)\n",
    "\n",
    "    append_dict(twit_dict,json_response)\n",
    "    # while json_response['meta']['next_token']:\n",
    "    while True:\n",
    "        # pagenation is taking the next_token and feeding it through to next query\n",
    "        if 'next_token' in json_response['meta']:\n",
    "            print(\"Yes next token\")\n",
    "            next_t = json_response['meta']['next_token']\n",
    "            query_params2['next_token'] = next_t\n",
    "        else:\n",
    "            # this is the last page\n",
    "            break\n",
    "        json_response = connect_to_endpoint(search_url, query_params2)\n",
    "        append_dict(twit_dict,json_response)\n",
    "           \n",
    "    return(twit_dict)\n",
    "\n",
    "my_dict = twit_call()"
   ]
  },
  {
   "cell_type": "code",
   "execution_count": 3,
   "id": "76837bb5",
   "metadata": {},
   "outputs": [],
   "source": [
    "# convert dictionary to dataframe\n",
    "df = pd.DataFrame.from_dict(my_dict, orient='index',columns=['tweets'])"
   ]
  },
  {
   "cell_type": "code",
   "execution_count": 4,
   "id": "2414b460",
   "metadata": {},
   "outputs": [
    {
     "data": {
      "text/plain": [
       "(8, 1)"
      ]
     },
     "execution_count": 4,
     "metadata": {},
     "output_type": "execute_result"
    }
   ],
   "source": [
    "df.shape"
   ]
  },
  {
   "cell_type": "code",
   "execution_count": 5,
   "id": "8d266cc8",
   "metadata": {},
   "outputs": [
    {
     "data": {
      "text/html": [
       "<div>\n",
       "<style scoped>\n",
       "    .dataframe tbody tr th:only-of-type {\n",
       "        vertical-align: middle;\n",
       "    }\n",
       "\n",
       "    .dataframe tbody tr th {\n",
       "        vertical-align: top;\n",
       "    }\n",
       "\n",
       "    .dataframe thead th {\n",
       "        text-align: right;\n",
       "    }\n",
       "</style>\n",
       "<table border=\"1\" class=\"dataframe\">\n",
       "  <thead>\n",
       "    <tr style=\"text-align: right;\">\n",
       "      <th></th>\n",
       "      <th>tweets</th>\n",
       "    </tr>\n",
       "  </thead>\n",
       "  <tbody>\n",
       "    <tr>\n",
       "      <th>2023-05-09T13:23:14.000Z</th>\n",
       "      <td>#startrek #startrekoneline #youtube \\n\\nCaptai...</td>\n",
       "    </tr>\n",
       "    <tr>\n",
       "      <th>2023-05-09T04:55:59.000Z</th>\n",
       "      <td>#startrek #startrekonline #startrekpicard #you...</td>\n",
       "    </tr>\n",
       "    <tr>\n",
       "      <th>2023-05-08T17:31:40.000Z</th>\n",
       "      <td>Hey everyone, make sure to checkout my stream ...</td>\n",
       "    </tr>\n",
       "    <tr>\n",
       "      <th>2023-05-08T04:53:14.000Z</th>\n",
       "      <td>#startrek #startrekpicard #startrekonline \\n\\n...</td>\n",
       "    </tr>\n",
       "    <tr>\n",
       "      <th>2023-05-08T04:49:40.000Z</th>\n",
       "      <td>@djairrick @OmegaWeltall We need to do a strea...</td>\n",
       "    </tr>\n",
       "  </tbody>\n",
       "</table>\n",
       "</div>"
      ],
      "text/plain": [
       "                                                                     tweets\n",
       "2023-05-09T13:23:14.000Z  #startrek #startrekoneline #youtube \\n\\nCaptai...\n",
       "2023-05-09T04:55:59.000Z  #startrek #startrekonline #startrekpicard #you...\n",
       "2023-05-08T17:31:40.000Z  Hey everyone, make sure to checkout my stream ...\n",
       "2023-05-08T04:53:14.000Z  #startrek #startrekpicard #startrekonline \\n\\n...\n",
       "2023-05-08T04:49:40.000Z  @djairrick @OmegaWeltall We need to do a strea..."
      ]
     },
     "execution_count": 5,
     "metadata": {},
     "output_type": "execute_result"
    }
   ],
   "source": [
    "df.head(5)"
   ]
  },
  {
   "cell_type": "code",
   "execution_count": 6,
   "id": "49d39fdb",
   "metadata": {},
   "outputs": [],
   "source": [
    "# save the dataframe as cvs file.\n",
    "\n",
    "df.to_csv('ST_TWEETS.csv')\n"
   ]
  },
  {
   "cell_type": "code",
   "execution_count": null,
   "id": "66861634",
   "metadata": {},
   "outputs": [],
   "source": []
  }
 ],
 "metadata": {
  "kernelspec": {
   "display_name": "Python 3 (ipykernel)",
   "language": "python",
   "name": "python3"
  },
  "language_info": {
   "codemirror_mode": {
    "name": "ipython",
    "version": 3
   },
   "file_extension": ".py",
   "mimetype": "text/x-python",
   "name": "python",
   "nbconvert_exporter": "python",
   "pygments_lexer": "ipython3",
   "version": "3.9.12"
  }
 },
 "nbformat": 4,
 "nbformat_minor": 5
}
